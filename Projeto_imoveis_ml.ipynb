{
 "cells": [
  {
   "cell_type": "markdown",
   "id": "57810925-9d84-413d-b67a-9fa9d07f988e",
   "metadata": {},
   "source": [
    "<center><img alt=\"Dbian Data Scientist\" width=\"100%\" src=\"New_banner.png\"></center>"
   ]
  },
  {
   "cell_type": "markdown",
   "id": "3350d90c-9d41-41d9-82d0-d4ca3b7f96c6",
   "metadata": {},
   "source": [
    "#### <strong><em>`Dbian` Technology and Data <em>`Science` for Business<strong>"
   ]
  },
  {
   "cell_type": "markdown",
   "id": "546ee3f5-2a98-4e5a-833f-60442e6363d7",
   "metadata": {},
   "source": [
    "####  by [Dbian.io Data Scientist](https://www.linkedin.com/company/81834844/admin/)"
   ]
  },
  {
   "cell_type": "markdown",
   "id": "c489cfcd-859c-4cf7-92d5-1ef25689b702",
   "metadata": {
    "id": "c489cfcd-859c-4cf7-92d5-1ef25689b702"
   },
   "source": [
    "### <center><strong> <em>PROJETO DE DATA SCIENTIST COM MACHINE LEARNING<em> <strong></center>"
   ]
  },
  {
   "cell_type": "markdown",
   "id": "7462cbe5-a5e6-4761-943d-1f4427844170",
   "metadata": {
    "id": "7462cbe5-a5e6-4761-943d-1f4427844170"
   },
   "source": [
    "#### <center>PROJETO KC HOUSE COMPANY INCORPORADORA E IMOBILIÁRIA <strong></center> "
   ]
  },
  {
   "cell_type": "markdown",
   "id": "92869a6e-1b34-4eb3-83e1-d259a13ff003",
   "metadata": {
    "id": "92869a6e-1b34-4eb3-83e1-d259a13ff003"
   },
   "source": [
    "<center><img alt=\"Dbian Data Scientist\" width=\"95%\" src=\"kc_house.jpg\"></center>"
   ]
  },
  {
   "cell_type": "markdown",
   "id": "229a19c7-81a0-4244-bfd1-96aaa2f8c1dd",
   "metadata": {
    "id": "229a19c7-81a0-4244-bfd1-96aaa2f8c1dd",
    "tags": []
   },
   "source": [
    "### <center><strong> <em>APRESENTAÇÃO DO PROJETO E OBJETIVO<em> <strong></center>\n",
    "---\n",
    "   - `PROBLEMA` DE NEGÓCIO:\n",
    "\n",
    "      - A empresa <em>`KC HOUSE COMPANY INCORPORADORA E IMOBILIÁRIA`<em>, trabalha com compra e vende imóveis e a maior dificuldade dos \"CEOS\", é saber qual o melhor valor de `\"COMPRA\"` e qual o melhor valor de `\"VENDA\"` dos imóveis em seu portfólio. Vou encontrar o ponto de equilíbrio entre compra, venda e consequentemente gerar receitas, com o melhor retorno possível, aplicando algorítimos de Machine Learning - IA.\n",
    "      - Meu objetivo aqui é conhecer melhor as `variáveis-atributos` dos imóveis, explorar, minerar e se preciso for, e acredito que será preciso, fazer engenharia de atributos, para que consiga aplicar os modelos de Machine Learning propostos no plano de negócios, com Inteligência Artificial, para prever qual o melhor valor de venda, com base na tabela existente.\n",
    "      - Proposição: Com base nos dados existentes na CIA, é possível entender como os preços se comportam no mercado em que operam, com base nesses dados, podemos com Inteligência Artificial, prever o melhor preço de venda, a ideia aqui é mostrar que determinados perfís de imóveis, com base em seus `atributos`, podem ter sido vendidos com diferenças de preços abaixo ou acima do que seria o ideal, e nesse trabalho, vamos ver quais as diferenças, quanto ficará acima e quanto ficará abaixo, com base na tabela praticada.\n",
    "      * Do ponto de vista \"mercadológico\", e inteligência de mercado competitiva, eles conseguirão nichar melhor o mercado, indentificando melhor seu Lead, perdendo menos tempo em compras, vendas, qualificarão melhor as oportunidades de negócios, gastam melhor o dinheiro em campanhas de marketing, sendo  mais assertivos, sem que haja perda de dinheiro nas vendas.\n",
    "   "
   ]
  },
  {
   "cell_type": "markdown",
   "id": "f9ef3549-c6a9-4e98-a4da-6341206ce6ce",
   "metadata": {
    "id": "f9ef3549-c6a9-4e98-a4da-6341206ce6ce"
   },
   "source": [
    "####  <strong> A INCORPORADORA E IMOBILIÁRIA, COMPRA E VENDE IMÓVES <strong>\n",
    "    \n",
    "  - <strong> Aplicarei nesse projeto de compra e venda de Imóveis, Machine Learning <em>`Máquina Preditiva com RegressãoLinear` e métricas de Análise e Estatística\n",
    "   - <strong>Qual o objetivo? Saber como comprar mais e melhor, e vender mais e melhor <em> `(Maximização dos Lucros e Redução de Custos)` <em>\n",
    "    \n",
    "    \n",
    "   - <strong> Origem do banco de dados KAGGLE USA <strong>"
   ]
  },
  {
   "cell_type": "markdown",
   "id": "d230b18a-413e-48ff-9985-94d62e61cb00",
   "metadata": {
    "id": "d230b18a-413e-48ff-9985-94d62e61cb00"
   },
   "source": [
    " <strong>Linguagem de programação principal <em>`PYTHON` & `Livros` de apoio aos projetos e metodologias. <em><strong></center> \n",
    "  - Linguagem de programação nativa `PYTHON` https://www.python.org/\n",
    "  - HTML\n",
    "  - IDE de desenvolvimento do projeto `Jupyter-lab`\n",
    "    - Data Scientist para Negócios\n",
    "    - Python Data Scientist Handbook\n",
    " Obs: \n",
    "    - Para esse projeto em especial, usei formatação de fontes em HTML na IDE Jupyter Lab"
   ]
  },
  {
   "cell_type": "markdown",
   "id": "d8c22d61-28a9-41ce-bf39-e1d3f5bcf1fa",
   "metadata": {},
   "source": [
    "### Índice do Pipeline do Projeto"
   ]
  },
  {
   "cell_type": "markdown",
   "id": "bee19500-8671-4eed-97ee-a2a7142af164",
   "metadata": {},
   "source": [
    "\n",
    "* <strong>Plano de Ações<strong>\n",
    "  - Apresentação do Dataset e Análise Exploratória<strong>\n",
    "  - Preparação da Base de Dados\n",
    "  - Analise de Correlação\n",
    "  - Escolha de Variaveis\n",
    "  - Histogramas\n",
    "  - Dispersão\n",
    "  - Analise de Multicolinearidade\n",
    "  - Correlação\n",
    "  - VIF (Variance inflation factor)\n",
    "  - Engenharia de Atributos\n",
    "  - Criação de novas colunas (atributos)\n",
    "  - Diferença entre valor real e previsto absoluto\n",
    "  - Diferença entre valor real e previsto absoluto em (%)<strong>\n",
    "---\n",
    "* <strong> Aplicação de Machine Learning - IA<strong>\n",
    "  - Modelo de Regressão\n",
    "  - Primeiro Modelo\n",
    "  - Dispersão Previsto X Real\n",
    "  - Analise dos Resíduos\n",
    "  - Limitando o Modelo as casas, com valores menores que 1 milhão\n",
    "  - Reduzindo Variaveis\n",
    "  - Transformada Logs\n",
    "  - Histogramas\n",
    "  - Dispersão\n",
    "  - Modelo\n",
    "  - Dispersão `Previsto` X valor `Real`"
   ]
  },
  {
   "cell_type": "markdown",
   "id": "83363664-a86f-43fd-ad73-736b22e19ac7",
   "metadata": {},
   "source": [
    "### Dicionário de Variáveis"
   ]
  },
  {
   "cell_type": "markdown",
   "id": "6ebea9a6-ac3e-4026-b672-ead41a9d94ec",
   "metadata": {
    "id": "RYgvuebKNg8-",
    "jp-MarkdownHeadingCollapsed": true,
    "tags": []
   },
   "source": [
    "### Descrição das Variáveis Numéricas e Categóricas\n",
    "\n",
    "* [ id ]                    - Número de \"id\" gerado para identificar o imóvel na Base\n",
    "* [ date ]                  - Data da venda do Imóvel \n",
    "* [ price ]                 - Preço da Venda do Imóvel \n",
    "* [ bedrooms ]             - Numero de quartos do Imóvel\n",
    "* [ bathrooms ]              - Número de banheiros, onde  o ( 5 ), significa um banheiro sem chuveiro\n",
    "* [ sqft_living ]         - Metragem quadrada de area construida (Em pé quadrado)\n",
    "* [ sqft_lot ]               - Metragem quadrada da area total (Em pé quadrado)\n",
    "* [ floors ]                 - Numero de andares que possuem os imóveis\n",
    "* [ waterfront ]             - Variavel binaria, iso quer dizer que ou o imóvel tem frente para água ou não, mar ou lago\n",
    "* [ view  ]                 - Nota de 0 a 4 da vista da propriedade\n",
    "* [ condition  ]            - Nota de 1 a 5 da condição da casa, estado de conservação do imóvel\n",
    "* [ grade ]                - Nota de 1 a 13, onde 1-3 é um nivel ruim de estrutura e design da casa, ( 7 ) é um nivel medio e ( 11-13 ) significa um alto nivel de estrutura e design\n",
    "* [ sqft_above ]           - Metragem quadrada de area construida acima do nivel da rua (Em pé quadrado), para os casos em que têm pourão\n",
    "* [ sqft_basement ]       - Metragem quadrada de area construida abaixo do nivel da rua (Em pé quadrado), casos com pourão\n",
    "* [ yr_built ]               - Ano do inicio da construção da casa, ou ano em que foi construída efetivamente\n",
    "* [ yr_renovated ]           - Ano da ultima renovação feita, ou ano da última reforma do imóvel\n",
    "* [ zipcode ]                - Zipcode (Cep do Imóvel)\n",
    "* [ lat ]                    - Latitude - Localização do Imóvel\n",
    "* [ long ]                   - Longitude - Área geográfica e distáncia dos principais pontos da cidade\n",
    "* [ sqft_living15 ]          - Metragem quadrada de area construida dos 15 vizinhos mais proximos (Em pé quadrado)\n",
    "* [ sqft_lot15 ]             - Metragem quadrada de area total dos 15 vizinhos mais proximos(Em pé quadrado)"
   ]
  },
  {
   "cell_type": "markdown",
   "id": "009a293b-f4a9-42ec-a037-e7a8f3548b03",
   "metadata": {
    "id": "009a293b-f4a9-42ec-a037-e7a8f3548b03",
    "tags": []
   },
   "source": [
    "### Bibliotecas e Ferramentas `Python` Aplicadas nesse prejeto"
   ]
  },
  {
   "cell_type": "code",
   "execution_count": 1,
   "id": "2504d5b1-c37d-4c6d-be2f-8b67215c0be8",
   "metadata": {
    "id": "2504d5b1-c37d-4c6d-be2f-8b67215c0be8"
   },
   "outputs": [
    {
     "data": {
      "application/javascript": [
       "\n",
       "        if (window._pyforest_update_imports_cell) { window._pyforest_update_imports_cell('import sys'); }\n",
       "    "
      ],
      "text/plain": [
       "<IPython.core.display.Javascript object>"
      ]
     },
     "metadata": {},
     "output_type": "display_data"
    }
   ],
   "source": [
    "# Importação das Bibliotecas comuns\n",
    "\n",
    "\"\"\"Claudio Fabian Stychnicki\n",
    "   Data Scientist - Blumenau\"\"\"\n",
    "\n",
    "import pyforest as pf\n",
    "import warnings\n",
    "import sklearn\n",
    "import dateparser\n",
    "import pandas as pd\n",
    "import numpy  as np\n",
    "import matplotlib as mpl\n",
    "import scipy.stats as stats\n",
    "import ipywidgets as widgets\n",
    "import statsmodels.api as sm\n",
    "import plotly.graph_objs as go\n",
    "import matplotlib.pyplot as plt\n",
    "from PIL import Image\n",
    "from folium.plugins import HeatMap\n",
    "from datetime import datetime as dt\n",
    "from scipy.optimize import minimize\n",
    "from scipy.stats import skew, kurtosis\n",
    "from datetime import datetime, timedelta\n",
    "from IPython.display import display, HTML\n",
    "\n",
    "# Bibliotecas de Machine Learning\n",
    "\n",
    "from statsmodels.stats.outliers_influence import variance_inflation_factor\n",
    "# from sklearn.model_selection import cross_val_predict, train_test_split\n",
    "# from sklearn.linear_model import Lasso, LassoCV, Ridge, RidgeCV\n",
    "# from sklearn.metrics import mean_squared_error, r2_score\n",
    "# from sklearn.ensemble import RandomForestRegressor \n",
    "# from sklearn.linear_model import LinearRegression\n",
    "from yellowbrick.regressor import residuals_plot\n",
    "from sklearn.preprocessing import StandardScaler\n",
    "from sklearn.metrics import mean_absolute_error\n",
    "from sklearn.metrics import mean_squared_error\n",
    "from sklearn import model_selection as ms\n",
    "from sklearn import metrics         as m\n",
    "from sklearn.metrics import r2_score\n",
    "from sklearn import linear_model \n",
    "\n",
    "\n",
    "# Comando para consultar lista dos parâmetros \"rcParams\". Fontes e familias das fontes para gráficos e etc...\n",
    "#plt.rcParams\n",
    "#plt.rcParams.update({'axes.spines.right': False, 'axes.spines.top': False})\n",
    "\n",
    "# plt.rcParams['figure.figsize'] = (15,7)\n",
    "plt.rcParams['axes.spines.left'] = True\n",
    "plt.rcParams['axes.spines.right'] = False\n",
    "plt.rcParams['axes.spines.top'] = False\n",
    "plt.rcParams['axes.spines.bottom'] = False\n",
    "\n",
    "# Formatando com pd.set_option as views (visões)\n",
    "pd.set_option('display.float_format','{:.2f}'.format) \n",
    "# Sem limites de linhas e colunas para as leituras\n",
    "pd.set_option('display.max_columns', 50)\n",
    "\n",
    "# Definindo a fonte padrão para os plots que serão implementados nesse projeto, bem como mapas e gráficos em geral optei por fonte \"Verdana\" \n",
    "mpl.rc('font', family = 'Verdana')\n",
    "\n",
    "# Desabilitando Avisos comuns desnecessáriosplt.rcParams:\n",
    "if not sys.warnoptions:\n",
    "    import warnings\n",
    "    warnings.simplefilter('ignore')\n",
    "    warnings.simplefilter(action='ignore', category=FutureWarning) "
   ]
  },
  {
   "cell_type": "markdown",
   "id": "d78cf975-6437-48a4-a97b-9e19d6d41444",
   "metadata": {
    "id": "d78cf975-6437-48a4-a97b-9e19d6d41444"
   },
   "source": [
    "### Importando a base de dados da <em>`Kc House Company Incorporadora e Imobiliária`<em>\n",
    "  - checando as dimensões do dataset, `conjunto de dados`\n"
   ]
  },
  {
   "cell_type": "code",
   "execution_count": 2,
   "id": "aae0bd0f-e1ac-4ae2-aef6-6eafa9cd2b3a",
   "metadata": {
    "id": "aae0bd0f-e1ac-4ae2-aef6-6eafa9cd2b3a",
    "outputId": "fad4861a-e862-4588-f720-f05399a7f22c"
   },
   "outputs": [
    {
     "name": "stdout",
     "output_type": "stream",
     "text": [
      "Dimensões do dataset:\n",
      "\n",
      "Dimensões do Dataset colunas:\t 21\n",
      "Dimensões do Dataset linhas: \t 21613\n",
      "\n",
      "Dataset importado com sucesso !\n"
     ]
    },
    {
     "data": {
      "text/html": [
       "<div>\n",
       "<style scoped>\n",
       "    .dataframe tbody tr th:only-of-type {\n",
       "        vertical-align: middle;\n",
       "    }\n",
       "\n",
       "    .dataframe tbody tr th {\n",
       "        vertical-align: top;\n",
       "    }\n",
       "\n",
       "    .dataframe thead th {\n",
       "        text-align: right;\n",
       "    }\n",
       "</style>\n",
       "<table border=\"1\" class=\"dataframe\">\n",
       "  <thead>\n",
       "    <tr style=\"text-align: right;\">\n",
       "      <th></th>\n",
       "      <th>id</th>\n",
       "      <th>date</th>\n",
       "      <th>price</th>\n",
       "      <th>bedrooms</th>\n",
       "      <th>bathrooms</th>\n",
       "      <th>sqft_living</th>\n",
       "      <th>sqft_lot</th>\n",
       "      <th>floors</th>\n",
       "      <th>waterfront</th>\n",
       "      <th>view</th>\n",
       "      <th>condition</th>\n",
       "      <th>grade</th>\n",
       "      <th>sqft_above</th>\n",
       "      <th>sqft_basement</th>\n",
       "      <th>yr_built</th>\n",
       "      <th>yr_renovated</th>\n",
       "      <th>zipcode</th>\n",
       "      <th>lat</th>\n",
       "      <th>long</th>\n",
       "      <th>sqft_living15</th>\n",
       "      <th>sqft_lot15</th>\n",
       "    </tr>\n",
       "  </thead>\n",
       "  <tbody>\n",
       "    <tr>\n",
       "      <th>0</th>\n",
       "      <td>7129300520</td>\n",
       "      <td>20141013T000000</td>\n",
       "      <td>221900.00</td>\n",
       "      <td>3</td>\n",
       "      <td>1.00</td>\n",
       "      <td>1180</td>\n",
       "      <td>5650</td>\n",
       "      <td>1.00</td>\n",
       "      <td>0</td>\n",
       "      <td>0</td>\n",
       "      <td>3</td>\n",
       "      <td>7</td>\n",
       "      <td>1180.00</td>\n",
       "      <td>0</td>\n",
       "      <td>1955</td>\n",
       "      <td>0</td>\n",
       "      <td>98178</td>\n",
       "      <td>47.51</td>\n",
       "      <td>-122.26</td>\n",
       "      <td>1340</td>\n",
       "      <td>5650</td>\n",
       "    </tr>\n",
       "    <tr>\n",
       "      <th>1</th>\n",
       "      <td>6414100192</td>\n",
       "      <td>20141209T000000</td>\n",
       "      <td>538000.00</td>\n",
       "      <td>3</td>\n",
       "      <td>2.25</td>\n",
       "      <td>2570</td>\n",
       "      <td>7242</td>\n",
       "      <td>2.00</td>\n",
       "      <td>0</td>\n",
       "      <td>0</td>\n",
       "      <td>3</td>\n",
       "      <td>7</td>\n",
       "      <td>2170.00</td>\n",
       "      <td>400</td>\n",
       "      <td>1951</td>\n",
       "      <td>1991</td>\n",
       "      <td>98125</td>\n",
       "      <td>47.72</td>\n",
       "      <td>-122.32</td>\n",
       "      <td>1690</td>\n",
       "      <td>7639</td>\n",
       "    </tr>\n",
       "    <tr>\n",
       "      <th>2</th>\n",
       "      <td>5631500400</td>\n",
       "      <td>20150225T000000</td>\n",
       "      <td>180000.00</td>\n",
       "      <td>2</td>\n",
       "      <td>1.00</td>\n",
       "      <td>770</td>\n",
       "      <td>10000</td>\n",
       "      <td>1.00</td>\n",
       "      <td>0</td>\n",
       "      <td>0</td>\n",
       "      <td>3</td>\n",
       "      <td>6</td>\n",
       "      <td>770.00</td>\n",
       "      <td>0</td>\n",
       "      <td>1933</td>\n",
       "      <td>0</td>\n",
       "      <td>98028</td>\n",
       "      <td>47.74</td>\n",
       "      <td>-122.23</td>\n",
       "      <td>2720</td>\n",
       "      <td>8062</td>\n",
       "    </tr>\n",
       "    <tr>\n",
       "      <th>3</th>\n",
       "      <td>2487200875</td>\n",
       "      <td>20141209T000000</td>\n",
       "      <td>604000.00</td>\n",
       "      <td>4</td>\n",
       "      <td>3.00</td>\n",
       "      <td>1960</td>\n",
       "      <td>5000</td>\n",
       "      <td>1.00</td>\n",
       "      <td>0</td>\n",
       "      <td>0</td>\n",
       "      <td>5</td>\n",
       "      <td>7</td>\n",
       "      <td>1050.00</td>\n",
       "      <td>910</td>\n",
       "      <td>1965</td>\n",
       "      <td>0</td>\n",
       "      <td>98136</td>\n",
       "      <td>47.52</td>\n",
       "      <td>-122.39</td>\n",
       "      <td>1360</td>\n",
       "      <td>5000</td>\n",
       "    </tr>\n",
       "    <tr>\n",
       "      <th>4</th>\n",
       "      <td>1954400510</td>\n",
       "      <td>20150218T000000</td>\n",
       "      <td>510000.00</td>\n",
       "      <td>3</td>\n",
       "      <td>2.00</td>\n",
       "      <td>1680</td>\n",
       "      <td>8080</td>\n",
       "      <td>1.00</td>\n",
       "      <td>0</td>\n",
       "      <td>0</td>\n",
       "      <td>3</td>\n",
       "      <td>8</td>\n",
       "      <td>1680.00</td>\n",
       "      <td>0</td>\n",
       "      <td>1987</td>\n",
       "      <td>0</td>\n",
       "      <td>98074</td>\n",
       "      <td>47.62</td>\n",
       "      <td>-122.05</td>\n",
       "      <td>1800</td>\n",
       "      <td>7503</td>\n",
       "    </tr>\n",
       "  </tbody>\n",
       "</table>\n",
       "</div>"
      ],
      "text/plain": [
       "           id             date     price  bedrooms  bathrooms  sqft_living  \\\n",
       "0  7129300520  20141013T000000 221900.00         3       1.00         1180   \n",
       "1  6414100192  20141209T000000 538000.00         3       2.25         2570   \n",
       "2  5631500400  20150225T000000 180000.00         2       1.00          770   \n",
       "3  2487200875  20141209T000000 604000.00         4       3.00         1960   \n",
       "4  1954400510  20150218T000000 510000.00         3       2.00         1680   \n",
       "\n",
       "   sqft_lot  floors  waterfront  view  condition  grade  sqft_above  \\\n",
       "0      5650    1.00           0     0          3      7     1180.00   \n",
       "1      7242    2.00           0     0          3      7     2170.00   \n",
       "2     10000    1.00           0     0          3      6      770.00   \n",
       "3      5000    1.00           0     0          5      7     1050.00   \n",
       "4      8080    1.00           0     0          3      8     1680.00   \n",
       "\n",
       "   sqft_basement  yr_built  yr_renovated  zipcode   lat    long  \\\n",
       "0              0      1955             0    98178 47.51 -122.26   \n",
       "1            400      1951          1991    98125 47.72 -122.32   \n",
       "2              0      1933             0    98028 47.74 -122.23   \n",
       "3            910      1965             0    98136 47.52 -122.39   \n",
       "4              0      1987             0    98074 47.62 -122.05   \n",
       "\n",
       "   sqft_living15  sqft_lot15  \n",
       "0           1340        5650  \n",
       "1           1690        7639  \n",
       "2           2720        8062  \n",
       "3           1360        5000  \n",
       "4           1800        7503  "
      ]
     },
     "execution_count": 2,
     "metadata": {},
     "output_type": "execute_result"
    }
   ],
   "source": [
    "# Iportando e lendo a base de dados\n",
    "         \n",
    "file_path = ( r'./base/kc_house_data.csv' )\n",
    "data = pd.read_csv( file_path ).copy()\n",
    "\n",
    "# Codigo para checar as dimensões do conjunto de dados e imprimir três linhas da base\n",
    "\n",
    "print( 'Dimensões do dataset:\\n' )\n",
    "print( 'Dimensões do Dataset colunas:\\t {}'.format( data.shape[1] ))\n",
    "print( 'Dimensões do Dataset linhas: \\t {}\\n'.format( data.shape[0] ))\n",
    "\n",
    "# Código para imprimir formato de data e hora, mínima, média e máxima. \n",
    "\n",
    "dateparse = lambda dates: pd.datetime.strptime(dates, '%Y-%m-%d' )\n",
    "\n",
    "print( 'Dataset importado com sucesso !' )\n",
    "\n",
    "data.head(n=5)"
   ]
  },
  {
   "cell_type": "markdown",
   "id": "0e6d9a59-e8a8-44f8-b9c7-69077b3c6ac1",
   "metadata": {},
   "source": [
    "### Leitura das últimas linhas da base\n",
    "  - A ideia e buscar entendimento dos proximos passos e tratamentos necessários"
   ]
  },
  {
   "cell_type": "code",
   "execution_count": 3,
   "id": "7756a62c-82c0-4244-863e-a8d5ae2c34a2",
   "metadata": {},
   "outputs": [
    {
     "data": {
      "text/html": [
       "<div>\n",
       "<style scoped>\n",
       "    .dataframe tbody tr th:only-of-type {\n",
       "        vertical-align: middle;\n",
       "    }\n",
       "\n",
       "    .dataframe tbody tr th {\n",
       "        vertical-align: top;\n",
       "    }\n",
       "\n",
       "    .dataframe thead th {\n",
       "        text-align: right;\n",
       "    }\n",
       "</style>\n",
       "<table border=\"1\" class=\"dataframe\">\n",
       "  <thead>\n",
       "    <tr style=\"text-align: right;\">\n",
       "      <th></th>\n",
       "      <th>id</th>\n",
       "      <th>date</th>\n",
       "      <th>price</th>\n",
       "      <th>bedrooms</th>\n",
       "      <th>bathrooms</th>\n",
       "      <th>sqft_living</th>\n",
       "      <th>sqft_lot</th>\n",
       "      <th>floors</th>\n",
       "      <th>waterfront</th>\n",
       "      <th>view</th>\n",
       "      <th>condition</th>\n",
       "      <th>grade</th>\n",
       "      <th>sqft_above</th>\n",
       "      <th>sqft_basement</th>\n",
       "      <th>yr_built</th>\n",
       "      <th>yr_renovated</th>\n",
       "      <th>zipcode</th>\n",
       "      <th>lat</th>\n",
       "      <th>long</th>\n",
       "      <th>sqft_living15</th>\n",
       "      <th>sqft_lot15</th>\n",
       "    </tr>\n",
       "  </thead>\n",
       "  <tbody>\n",
       "    <tr>\n",
       "      <th>21608</th>\n",
       "      <td>263000018</td>\n",
       "      <td>20140521T000000</td>\n",
       "      <td>360000.00</td>\n",
       "      <td>3</td>\n",
       "      <td>2.50</td>\n",
       "      <td>1530</td>\n",
       "      <td>1131</td>\n",
       "      <td>3.00</td>\n",
       "      <td>0</td>\n",
       "      <td>0</td>\n",
       "      <td>3</td>\n",
       "      <td>8</td>\n",
       "      <td>1530.00</td>\n",
       "      <td>0</td>\n",
       "      <td>2009</td>\n",
       "      <td>0</td>\n",
       "      <td>98103</td>\n",
       "      <td>47.70</td>\n",
       "      <td>-122.35</td>\n",
       "      <td>1530</td>\n",
       "      <td>1509</td>\n",
       "    </tr>\n",
       "    <tr>\n",
       "      <th>21609</th>\n",
       "      <td>6600060120</td>\n",
       "      <td>20150223T000000</td>\n",
       "      <td>400000.00</td>\n",
       "      <td>4</td>\n",
       "      <td>2.50</td>\n",
       "      <td>2310</td>\n",
       "      <td>5813</td>\n",
       "      <td>2.00</td>\n",
       "      <td>0</td>\n",
       "      <td>0</td>\n",
       "      <td>3</td>\n",
       "      <td>8</td>\n",
       "      <td>2310.00</td>\n",
       "      <td>0</td>\n",
       "      <td>2014</td>\n",
       "      <td>0</td>\n",
       "      <td>98146</td>\n",
       "      <td>47.51</td>\n",
       "      <td>-122.36</td>\n",
       "      <td>1830</td>\n",
       "      <td>7200</td>\n",
       "    </tr>\n",
       "    <tr>\n",
       "      <th>21610</th>\n",
       "      <td>1523300141</td>\n",
       "      <td>20140623T000000</td>\n",
       "      <td>402101.00</td>\n",
       "      <td>2</td>\n",
       "      <td>0.75</td>\n",
       "      <td>1020</td>\n",
       "      <td>1350</td>\n",
       "      <td>2.00</td>\n",
       "      <td>0</td>\n",
       "      <td>0</td>\n",
       "      <td>3</td>\n",
       "      <td>7</td>\n",
       "      <td>1020.00</td>\n",
       "      <td>0</td>\n",
       "      <td>2009</td>\n",
       "      <td>0</td>\n",
       "      <td>98144</td>\n",
       "      <td>47.59</td>\n",
       "      <td>-122.30</td>\n",
       "      <td>1020</td>\n",
       "      <td>2007</td>\n",
       "    </tr>\n",
       "    <tr>\n",
       "      <th>21611</th>\n",
       "      <td>291310100</td>\n",
       "      <td>20150116T000000</td>\n",
       "      <td>400000.00</td>\n",
       "      <td>3</td>\n",
       "      <td>2.50</td>\n",
       "      <td>1600</td>\n",
       "      <td>2388</td>\n",
       "      <td>2.00</td>\n",
       "      <td>0</td>\n",
       "      <td>0</td>\n",
       "      <td>3</td>\n",
       "      <td>8</td>\n",
       "      <td>1600.00</td>\n",
       "      <td>0</td>\n",
       "      <td>2004</td>\n",
       "      <td>0</td>\n",
       "      <td>98027</td>\n",
       "      <td>47.53</td>\n",
       "      <td>-122.07</td>\n",
       "      <td>1410</td>\n",
       "      <td>1287</td>\n",
       "    </tr>\n",
       "    <tr>\n",
       "      <th>21612</th>\n",
       "      <td>1523300157</td>\n",
       "      <td>20141015T000000</td>\n",
       "      <td>325000.00</td>\n",
       "      <td>2</td>\n",
       "      <td>0.75</td>\n",
       "      <td>1020</td>\n",
       "      <td>1076</td>\n",
       "      <td>2.00</td>\n",
       "      <td>0</td>\n",
       "      <td>0</td>\n",
       "      <td>3</td>\n",
       "      <td>7</td>\n",
       "      <td>1020.00</td>\n",
       "      <td>0</td>\n",
       "      <td>2008</td>\n",
       "      <td>0</td>\n",
       "      <td>98144</td>\n",
       "      <td>47.59</td>\n",
       "      <td>-122.30</td>\n",
       "      <td>1020</td>\n",
       "      <td>1357</td>\n",
       "    </tr>\n",
       "  </tbody>\n",
       "</table>\n",
       "</div>"
      ],
      "text/plain": [
       "               id             date     price  bedrooms  bathrooms  \\\n",
       "21608   263000018  20140521T000000 360000.00         3       2.50   \n",
       "21609  6600060120  20150223T000000 400000.00         4       2.50   \n",
       "21610  1523300141  20140623T000000 402101.00         2       0.75   \n",
       "21611   291310100  20150116T000000 400000.00         3       2.50   \n",
       "21612  1523300157  20141015T000000 325000.00         2       0.75   \n",
       "\n",
       "       sqft_living  sqft_lot  floors  waterfront  view  condition  grade  \\\n",
       "21608         1530      1131    3.00           0     0          3      8   \n",
       "21609         2310      5813    2.00           0     0          3      8   \n",
       "21610         1020      1350    2.00           0     0          3      7   \n",
       "21611         1600      2388    2.00           0     0          3      8   \n",
       "21612         1020      1076    2.00           0     0          3      7   \n",
       "\n",
       "       sqft_above  sqft_basement  yr_built  yr_renovated  zipcode   lat  \\\n",
       "21608     1530.00              0      2009             0    98103 47.70   \n",
       "21609     2310.00              0      2014             0    98146 47.51   \n",
       "21610     1020.00              0      2009             0    98144 47.59   \n",
       "21611     1600.00              0      2004             0    98027 47.53   \n",
       "21612     1020.00              0      2008             0    98144 47.59   \n",
       "\n",
       "         long  sqft_living15  sqft_lot15  \n",
       "21608 -122.35           1530        1509  \n",
       "21609 -122.36           1830        7200  \n",
       "21610 -122.30           1020        2007  \n",
       "21611 -122.07           1410        1287  \n",
       "21612 -122.30           1020        1357  "
      ]
     },
     "execution_count": 3,
     "metadata": {},
     "output_type": "execute_result"
    }
   ],
   "source": [
    "data.tail(n=5)"
   ]
  },
  {
   "cell_type": "markdown",
   "id": "92e5b7e5-5f66-43be-bc21-1d111e37bf1a",
   "metadata": {},
   "source": [
    "### Criação de uma função para sumarizar variáveis importantes para anáse detalhada"
   ]
  },
  {
   "cell_type": "code",
   "execution_count": 4,
   "id": "efa923ee-447d-435c-8b35-3117ef46f5d2",
   "metadata": {},
   "outputs": [
    {
     "data": {
      "text/html": [
       "<div>\n",
       "<style scoped>\n",
       "    .dataframe tbody tr th:only-of-type {\n",
       "        vertical-align: middle;\n",
       "    }\n",
       "\n",
       "    .dataframe tbody tr th {\n",
       "        vertical-align: top;\n",
       "    }\n",
       "\n",
       "    .dataframe thead th {\n",
       "        text-align: right;\n",
       "    }\n",
       "</style>\n",
       "<table border=\"1\" class=\"dataframe\">\n",
       "  <thead>\n",
       "    <tr style=\"text-align: right;\">\n",
       "      <th></th>\n",
       "      <th>Absoluto dados ausentes(%)</th>\n",
       "      <th>Perc. Abs. ausentes(%)</th>\n",
       "      <th>Perc. da equivalência(%)</th>\n",
       "      <th>Valores únicos</th>\n",
       "      <th>Valores absolutos</th>\n",
       "      <th>Variáveis tipos</th>\n",
       "    </tr>\n",
       "    <tr>\n",
       "      <th>Column</th>\n",
       "      <th></th>\n",
       "      <th></th>\n",
       "      <th></th>\n",
       "      <th></th>\n",
       "      <th></th>\n",
       "      <th></th>\n",
       "    </tr>\n",
       "  </thead>\n",
       "  <tbody>\n",
       "    <tr>\n",
       "      <th>sqft_above</th>\n",
       "      <td>0.01%</td>\n",
       "      <td>0.01%</td>\n",
       "      <td>99.99%</td>\n",
       "      <td>21611</td>\n",
       "      <td>2</td>\n",
       "      <td>float64</td>\n",
       "    </tr>\n",
       "    <tr>\n",
       "      <th>id</th>\n",
       "      <td>0.00%</td>\n",
       "      <td>0.00%</td>\n",
       "      <td>100.00%</td>\n",
       "      <td>21613</td>\n",
       "      <td>0</td>\n",
       "      <td>int64</td>\n",
       "    </tr>\n",
       "    <tr>\n",
       "      <th>grade</th>\n",
       "      <td>0.00%</td>\n",
       "      <td>0.00%</td>\n",
       "      <td>100.00%</td>\n",
       "      <td>21613</td>\n",
       "      <td>0</td>\n",
       "      <td>int64</td>\n",
       "    </tr>\n",
       "    <tr>\n",
       "      <th>sqft_living15</th>\n",
       "      <td>0.00%</td>\n",
       "      <td>0.00%</td>\n",
       "      <td>100.00%</td>\n",
       "      <td>21613</td>\n",
       "      <td>0</td>\n",
       "      <td>int64</td>\n",
       "    </tr>\n",
       "    <tr>\n",
       "      <th>long</th>\n",
       "      <td>0.00%</td>\n",
       "      <td>0.00%</td>\n",
       "      <td>100.00%</td>\n",
       "      <td>21613</td>\n",
       "      <td>0</td>\n",
       "      <td>float64</td>\n",
       "    </tr>\n",
       "    <tr>\n",
       "      <th>lat</th>\n",
       "      <td>0.00%</td>\n",
       "      <td>0.00%</td>\n",
       "      <td>100.00%</td>\n",
       "      <td>21613</td>\n",
       "      <td>0</td>\n",
       "      <td>float64</td>\n",
       "    </tr>\n",
       "    <tr>\n",
       "      <th>zipcode</th>\n",
       "      <td>0.00%</td>\n",
       "      <td>0.00%</td>\n",
       "      <td>100.00%</td>\n",
       "      <td>21613</td>\n",
       "      <td>0</td>\n",
       "      <td>int64</td>\n",
       "    </tr>\n",
       "    <tr>\n",
       "      <th>yr_renovated</th>\n",
       "      <td>0.00%</td>\n",
       "      <td>0.00%</td>\n",
       "      <td>100.00%</td>\n",
       "      <td>21613</td>\n",
       "      <td>0</td>\n",
       "      <td>int64</td>\n",
       "    </tr>\n",
       "    <tr>\n",
       "      <th>yr_built</th>\n",
       "      <td>0.00%</td>\n",
       "      <td>0.00%</td>\n",
       "      <td>100.00%</td>\n",
       "      <td>21613</td>\n",
       "      <td>0</td>\n",
       "      <td>int64</td>\n",
       "    </tr>\n",
       "    <tr>\n",
       "      <th>sqft_basement</th>\n",
       "      <td>0.00%</td>\n",
       "      <td>0.00%</td>\n",
       "      <td>100.00%</td>\n",
       "      <td>21613</td>\n",
       "      <td>0</td>\n",
       "      <td>int64</td>\n",
       "    </tr>\n",
       "    <tr>\n",
       "      <th>condition</th>\n",
       "      <td>0.00%</td>\n",
       "      <td>0.00%</td>\n",
       "      <td>100.00%</td>\n",
       "      <td>21613</td>\n",
       "      <td>0</td>\n",
       "      <td>int64</td>\n",
       "    </tr>\n",
       "    <tr>\n",
       "      <th>date</th>\n",
       "      <td>0.00%</td>\n",
       "      <td>0.00%</td>\n",
       "      <td>100.00%</td>\n",
       "      <td>21613</td>\n",
       "      <td>0</td>\n",
       "      <td>object</td>\n",
       "    </tr>\n",
       "    <tr>\n",
       "      <th>view</th>\n",
       "      <td>0.00%</td>\n",
       "      <td>0.00%</td>\n",
       "      <td>100.00%</td>\n",
       "      <td>21613</td>\n",
       "      <td>0</td>\n",
       "      <td>int64</td>\n",
       "    </tr>\n",
       "    <tr>\n",
       "      <th>waterfront</th>\n",
       "      <td>0.00%</td>\n",
       "      <td>0.00%</td>\n",
       "      <td>100.00%</td>\n",
       "      <td>21613</td>\n",
       "      <td>0</td>\n",
       "      <td>int64</td>\n",
       "    </tr>\n",
       "    <tr>\n",
       "      <th>floors</th>\n",
       "      <td>0.00%</td>\n",
       "      <td>0.00%</td>\n",
       "      <td>100.00%</td>\n",
       "      <td>21613</td>\n",
       "      <td>0</td>\n",
       "      <td>float64</td>\n",
       "    </tr>\n",
       "    <tr>\n",
       "      <th>sqft_lot</th>\n",
       "      <td>0.00%</td>\n",
       "      <td>0.00%</td>\n",
       "      <td>100.00%</td>\n",
       "      <td>21613</td>\n",
       "      <td>0</td>\n",
       "      <td>int64</td>\n",
       "    </tr>\n",
       "    <tr>\n",
       "      <th>sqft_living</th>\n",
       "      <td>0.00%</td>\n",
       "      <td>0.00%</td>\n",
       "      <td>100.00%</td>\n",
       "      <td>21613</td>\n",
       "      <td>0</td>\n",
       "      <td>int64</td>\n",
       "    </tr>\n",
       "    <tr>\n",
       "      <th>bathrooms</th>\n",
       "      <td>0.00%</td>\n",
       "      <td>0.00%</td>\n",
       "      <td>100.00%</td>\n",
       "      <td>21613</td>\n",
       "      <td>0</td>\n",
       "      <td>float64</td>\n",
       "    </tr>\n",
       "    <tr>\n",
       "      <th>bedrooms</th>\n",
       "      <td>0.00%</td>\n",
       "      <td>0.00%</td>\n",
       "      <td>100.00%</td>\n",
       "      <td>21613</td>\n",
       "      <td>0</td>\n",
       "      <td>int64</td>\n",
       "    </tr>\n",
       "    <tr>\n",
       "      <th>price</th>\n",
       "      <td>0.00%</td>\n",
       "      <td>0.00%</td>\n",
       "      <td>100.00%</td>\n",
       "      <td>21613</td>\n",
       "      <td>0</td>\n",
       "      <td>float64</td>\n",
       "    </tr>\n",
       "    <tr>\n",
       "      <th>sqft_lot15</th>\n",
       "      <td>0.00%</td>\n",
       "      <td>0.00%</td>\n",
       "      <td>100.00%</td>\n",
       "      <td>21613</td>\n",
       "      <td>0</td>\n",
       "      <td>int64</td>\n",
       "    </tr>\n",
       "  </tbody>\n",
       "</table>\n",
       "</div>"
      ],
      "text/plain": [
       "               Absoluto dados ausentes(%)  Perc. Abs. ausentes(%)  \\\n",
       "Column                                                              \n",
       "sqft_above                          0.01%                   0.01%   \n",
       "id                                  0.00%                   0.00%   \n",
       "grade                               0.00%                   0.00%   \n",
       "sqft_living15                       0.00%                   0.00%   \n",
       "long                                0.00%                   0.00%   \n",
       "lat                                 0.00%                   0.00%   \n",
       "zipcode                             0.00%                   0.00%   \n",
       "yr_renovated                        0.00%                   0.00%   \n",
       "yr_built                            0.00%                   0.00%   \n",
       "sqft_basement                       0.00%                   0.00%   \n",
       "condition                           0.00%                   0.00%   \n",
       "date                                0.00%                   0.00%   \n",
       "view                                0.00%                   0.00%   \n",
       "waterfront                          0.00%                   0.00%   \n",
       "floors                              0.00%                   0.00%   \n",
       "sqft_lot                            0.00%                   0.00%   \n",
       "sqft_living                         0.00%                   0.00%   \n",
       "bathrooms                           0.00%                   0.00%   \n",
       "bedrooms                            0.00%                   0.00%   \n",
       "price                               0.00%                   0.00%   \n",
       "sqft_lot15                          0.00%                   0.00%   \n",
       "\n",
       "               Perc. da equivalência(%)  Valores únicos  Valores absolutos  \\\n",
       "Column                                                                       \n",
       "sqft_above                       99.99%           21611                  2   \n",
       "id                              100.00%           21613                  0   \n",
       "grade                           100.00%           21613                  0   \n",
       "sqft_living15                   100.00%           21613                  0   \n",
       "long                            100.00%           21613                  0   \n",
       "lat                             100.00%           21613                  0   \n",
       "zipcode                         100.00%           21613                  0   \n",
       "yr_renovated                    100.00%           21613                  0   \n",
       "yr_built                        100.00%           21613                  0   \n",
       "sqft_basement                   100.00%           21613                  0   \n",
       "condition                       100.00%           21613                  0   \n",
       "date                            100.00%           21613                  0   \n",
       "view                            100.00%           21613                  0   \n",
       "waterfront                      100.00%           21613                  0   \n",
       "floors                          100.00%           21613                  0   \n",
       "sqft_lot                        100.00%           21613                  0   \n",
       "sqft_living                     100.00%           21613                  0   \n",
       "bathrooms                       100.00%           21613                  0   \n",
       "bedrooms                        100.00%           21613                  0   \n",
       "price                           100.00%           21613                  0   \n",
       "sqft_lot15                      100.00%           21613                  0   \n",
       "\n",
       "              Variáveis tipos  \n",
       "Column                         \n",
       "sqft_above            float64  \n",
       "id                      int64  \n",
       "grade                   int64  \n",
       "sqft_living15           int64  \n",
       "long                  float64  \n",
       "lat                   float64  \n",
       "zipcode                 int64  \n",
       "yr_renovated            int64  \n",
       "yr_built                int64  \n",
       "sqft_basement           int64  \n",
       "condition               int64  \n",
       "date                   object  \n",
       "view                    int64  \n",
       "waterfront              int64  \n",
       "floors                float64  \n",
       "sqft_lot                int64  \n",
       "sqft_living             int64  \n",
       "bathrooms             float64  \n",
       "bedrooms                int64  \n",
       "price                 float64  \n",
       "sqft_lot15              int64  "
      ]
     },
     "execution_count": 4,
     "metadata": {},
     "output_type": "execute_result"
    }
   ],
   "source": [
    "# Função para mapear dos dados do dataset \n",
    "\n",
    "def summary_missing_values(df):\n",
    "    missing_values = pd.DataFrame(data.isna().sum()/data.shape[0])\n",
    "    missing_values.reset_index(drop=True, inplace=True)    \n",
    "    missing_values.columns = [\"Absoluto dados ausentes(%)\"]\n",
    "    missing_values[\"Column\"] = pd.Series(data.columns).values\n",
    "    # Make index be the column \"Absolute Missing (%)\"\n",
    "    missing_values.reset_index(drop=True, inplace=True)\n",
    "    missing_values.set_index(\"Column\", inplace=True)\n",
    "    \n",
    "    # Calculando os valores comparando com o tatal de dados por coluna e os dados ausentes quantitativos em percentual\n",
    "    column_missing = []\n",
    "    column_total   = []\n",
    "    column_miss    = []\n",
    "    column_type    = []\n",
    "    for column in data.columns:\n",
    "        col_miss = data[column].isnull().sum()\n",
    "        total_values = data[column].count()       \n",
    "        column_miss.append(col_miss)\n",
    "        column_total.append(total_values) \n",
    "        column_missing.append((col_miss/total_values))\n",
    "        column_type.append(column_type)\n",
    "        \n",
    "    # Construindo o dataframe que receberá os valores\n",
    "    missing_values[\"Perc. Abs. ausentes(%)\"] = pd.Series(column_missing).values\n",
    "    missing_values[\"Perc. da equivalência(%)\"] = -(pd.Series(column_missing).values-1)\n",
    "    missing_values[\"Valores únicos\"] = pd.Series(column_total).values\n",
    "    missing_values[\"Valores absolutos\"] = pd.Series(column_miss).values\n",
    "    missing_values['Variáveis tipos'] = pd.DataFrame(data.dtypes, columns=['column_type'])\n",
    "    missing_values.sort_values(by=\"Absoluto dados ausentes(%)\", ascending=False, inplace=True)\n",
    "    missing_columns = list(missing_values.query(\"`Absoluto dados ausentes(%)` > 0\").index)\n",
    "    \n",
    "    pd.options.display.float_format = '{:.2%}'.format\n",
    "    return missing_values, missing_columns\n",
    "\n",
    "missing_values, missing_columns_names = summary_missing_values(data)\n",
    "missing_values"
   ]
  },
  {
   "cell_type": "markdown",
   "id": "75265e1b-c86b-4fab-877c-7e6355338491",
   "metadata": {},
   "source": [
    "### Checagem e tratamento do formato datetime\n",
    "  - Checando variável datetime ( data inícial e data final ) e tratamento para formato correto conforme visto acima em **dscolumnssummary**, o formato aparece como object."
   ]
  },
  {
   "cell_type": "code",
   "execution_count": 5,
   "id": "e6817b1b-0827-4780-a75f-85b09140c4f7",
   "metadata": {},
   "outputs": [
    {
     "name": "stdout",
     "output_type": "stream",
     "text": [
      "Range das datas\n",
      "\n",
      "Data inicial:\t 2014-05-02 \n",
      "Data final:\t 2015-05-27 \n",
      "\n",
      "Transformação executada com sucesso\n",
      "\n",
      "Data transformada = dtype: datetime64[ns] \n",
      "\n"
     ]
    }
   ],
   "source": [
    "# Tratamento das datas para formato tipo \"datetime\" \n",
    "\n",
    "data.date = pd.to_datetime(data.date)\n",
    "\n",
    "pd.set_option('display.float_format','{:.3f}'.format)\n",
    "data_inicio = pd.to_datetime(data['date']).dt.date.min()\n",
    "data_fim    = pd.to_datetime(data['date']).dt.date.max()\n",
    "\n",
    "print('Range das datas\\n')\n",
    "print('Data inicial:\\t',data_inicio,'')\n",
    "print('Data final:\\t',data_fim, '')\n",
    "print('\\nTransformação executada com sucesso')          \n",
    "print('\\nData transformada = dtype:',\n",
    "data.date.dtypes,'\\n');"
   ]
  },
  {
   "cell_type": "markdown",
   "id": "3bddc441-2b74-4d17-b875-3cb37bc18317",
   "metadata": {},
   "source": [
    "___\n",
    "- **Obs.:** Tenho ocorrência de dados ausentes, farei checagem mais detalhada dos percentís de cada variável e os tratarei"
   ]
  },
  {
   "cell_type": "markdown",
   "id": "e66ccaaa-0d1c-4eca-bfb5-9c19bfb089f6",
   "metadata": {},
   "source": [
    "### Processos para otimização do dataset\n",
    "\n",
    "  - Criação de novas feactures e tratamentos em especial sqft_above que aparece com dois registros na análise summary dataset logo no início"
   ]
  },
  {
   "cell_type": "code",
   "execution_count": 6,
   "id": "e835415e-05a3-4cfd-b040-c95be9f42456",
   "metadata": {},
   "outputs": [],
   "source": [
    "# Função para sesparar, criar e retornar \"ano e mês separados\"\n",
    "data[ 'ano' ] = data[ 'date' ].apply(lambda date: date.year)\n",
    "data[ 'mes' ] = data[ 'date' ].apply(lambda date: date.month)\n",
    "\n",
    "# Split mes e ano\n",
    "data['mes_dia'] = pd.to_datetime(data['date']).dt.strftime( '%m-%d')\n",
    "\n",
    "#  Retorna idade dos imóveis\n",
    "data['ano_corrente'] = 2023\n",
    "data[ 'idade_imovel' ] = data[ 'ano_corrente' ] - data[ 'yr_built' ]\n",
    "# data[ 'idade_reforma' ] = data[ 'ano_corrente' ] - data[ 'yr_renovated' ]\n",
    "\n",
    "# Retorma a quantidade de metro² da sala de estar por imóvel\n",
    "data[ 'm²_living' ] = data[ 'sqft_living' ]* 0.092\n",
    "\n",
    "# Retorma o valor do metro² dos imóveis por região em área \"construída\"\n",
    "data[ 'valor_m²_const' ] = data[ 'price' ] / data [ 'm²_living' ]\n",
    "\n",
    "# Retorma o valor do metro² dos imóveis por região em área \"total\" \n",
    "data[ 'valor_m²_imovel' ] = data[ 'price' ] / data [ 'sqft_lot' ]\n",
    "\n",
    "# Retorna um filtro com classificação da feature filtrada (dt_construcao)\n",
    "data['dt_construcao'] = data['yr_built'].apply(lambda x: '> 1955' if x > 1955 else \n",
    "                                                                         '< 1955')\n",
    "# Retorna um filtro com classificação da feature filtrada (porao)\n",
    "data['porao'] = data['sqft_basement'].apply(lambda x: 'nao' if x == 0 else \n",
    "                                                                    'sim')\n",
    "# Retorna um filtro com classificação da feature filtrada (reforma)\n",
    "data['reforma'] = data['yr_renovated'].apply(lambda x: 'sim' if x > 0 else \n",
    "                                                                    'nao')\n",
    "# Retorna um filtro com classificação da feature filtrada (banheiros por faix de qtde)\n",
    "data['banheiros'] = data['bathrooms'].apply(lambda x: '0-3' if (x > 0) & (x < 3) else \n",
    "                                                                                 '3-5' \n",
    "                                                            if (x > 3) & (x < 5) else \n",
    "                                                                                '5-8')  \n",
    "# Retorna um filtro com classificação da feature filtrada (data da construção do imóvel para encontrar a idade do imóvel)\n",
    "data['filt_per_ano_const'] = data['yr_built'].apply( lambda x: 1955 if ( x >= 1950 ) & ( x > 1990 ) else\n",
    "                                                               2000 if ( x >= 2000 ) & ( x > 2015 ) else\n",
    "                                                                                                   'AN')\n",
    "# Confrontando com reform sim e o ano que fora feita a reforma\n",
    "data['filt_per_renovacao'] = data['yr_renovated'].apply( lambda x: 1955 if ( x >= 1950 ) & ( x > 1990 ) else\n",
    "                                                                   2000 if ( x >= 2000 ) & ( x > 2015 ) else\n",
    "                                                                                                       'NR')\n",
    "# data['temporada'] = data['mes'].apply(lambda x: 'verao' if (x > 5) & (x < 8) else \n",
    "#                                                                               'primavera' \n",
    "#                                                                if (x > 2) & (x < 5) else \n",
    "#                                                                                  'outono' \n",
    "#                                                                if (x > 8) & (x < 12)else \n",
    "#                                                                                  'inverno') \n",
    "# Retorna um filtro com classificação da feature filtrada (ocorrencias por poríodo com classificaçao por épocas do ano)\n",
    "data['temporada'] = data['mes_dia'].apply( lambda x: 'primavera' if ( x >= '03-20' ) & ( x < '06-21' ) else\n",
    "                                                         'verão' if ( x >= '06-21' ) & ( x < '09-22' ) else\n",
    "                                                        'outono' if ( x >= '09-22' ) & ( x < '12-23' ) else\n",
    "                                                       'inverno')\n",
    "        \n",
    "# Extraíndo entradas da variável (sqft_above) para enriquecer as análises com essa variável\n",
    "data = data.dropna(subset=['sqft_above'], axis=0) # Eixo = 0 linhas / Eixo = 1 Colmns"
   ]
  },
  {
   "cell_type": "markdown",
   "id": "681908a7-f9cb-4230-ad74-7c8a82201c03",
   "metadata": {},
   "source": [
    "### Checagem das novas features criadas para futuras cenarizações"
   ]
  },
  {
   "cell_type": "code",
   "execution_count": 7,
   "id": "cbd87c18-21f4-4db1-9d68-f34a5f475843",
   "metadata": {},
   "outputs": [
    {
     "data": {
      "text/html": [
       "<div>\n",
       "<style scoped>\n",
       "    .dataframe tbody tr th:only-of-type {\n",
       "        vertical-align: middle;\n",
       "    }\n",
       "\n",
       "    .dataframe tbody tr th {\n",
       "        vertical-align: top;\n",
       "    }\n",
       "\n",
       "    .dataframe thead th {\n",
       "        text-align: right;\n",
       "    }\n",
       "</style>\n",
       "<table border=\"1\" class=\"dataframe\">\n",
       "  <thead>\n",
       "    <tr style=\"text-align: right;\">\n",
       "      <th></th>\n",
       "      <th>ano_corrente</th>\n",
       "      <th>idade_imovel</th>\n",
       "      <th>m²_living</th>\n",
       "      <th>valor_m²_const</th>\n",
       "      <th>valor_m²_imovel</th>\n",
       "      <th>dt_construcao</th>\n",
       "      <th>porao</th>\n",
       "      <th>reforma</th>\n",
       "      <th>banheiros</th>\n",
       "      <th>filt_per_ano_const</th>\n",
       "      <th>filt_per_renovacao</th>\n",
       "      <th>temporada</th>\n",
       "    </tr>\n",
       "  </thead>\n",
       "  <tbody>\n",
       "    <tr>\n",
       "      <th>0</th>\n",
       "      <td>2023</td>\n",
       "      <td>68</td>\n",
       "      <td>108.560</td>\n",
       "      <td>2044.031</td>\n",
       "      <td>39.274</td>\n",
       "      <td>&lt; 1955</td>\n",
       "      <td>nao</td>\n",
       "      <td>nao</td>\n",
       "      <td>0-3</td>\n",
       "      <td>AN</td>\n",
       "      <td>NR</td>\n",
       "      <td>outono</td>\n",
       "    </tr>\n",
       "    <tr>\n",
       "      <th>1</th>\n",
       "      <td>2023</td>\n",
       "      <td>72</td>\n",
       "      <td>236.440</td>\n",
       "      <td>2275.419</td>\n",
       "      <td>74.289</td>\n",
       "      <td>&lt; 1955</td>\n",
       "      <td>sim</td>\n",
       "      <td>sim</td>\n",
       "      <td>0-3</td>\n",
       "      <td>AN</td>\n",
       "      <td>1955</td>\n",
       "      <td>outono</td>\n",
       "    </tr>\n",
       "    <tr>\n",
       "      <th>2</th>\n",
       "      <td>2023</td>\n",
       "      <td>90</td>\n",
       "      <td>70.840</td>\n",
       "      <td>2540.937</td>\n",
       "      <td>18.000</td>\n",
       "      <td>&lt; 1955</td>\n",
       "      <td>nao</td>\n",
       "      <td>nao</td>\n",
       "      <td>0-3</td>\n",
       "      <td>AN</td>\n",
       "      <td>NR</td>\n",
       "      <td>inverno</td>\n",
       "    </tr>\n",
       "    <tr>\n",
       "      <th>3</th>\n",
       "      <td>2023</td>\n",
       "      <td>58</td>\n",
       "      <td>180.320</td>\n",
       "      <td>3349.601</td>\n",
       "      <td>120.800</td>\n",
       "      <td>&gt; 1955</td>\n",
       "      <td>sim</td>\n",
       "      <td>nao</td>\n",
       "      <td>5-8</td>\n",
       "      <td>AN</td>\n",
       "      <td>NR</td>\n",
       "      <td>outono</td>\n",
       "    </tr>\n",
       "    <tr>\n",
       "      <th>4</th>\n",
       "      <td>2023</td>\n",
       "      <td>36</td>\n",
       "      <td>154.560</td>\n",
       "      <td>3299.689</td>\n",
       "      <td>63.119</td>\n",
       "      <td>&gt; 1955</td>\n",
       "      <td>nao</td>\n",
       "      <td>nao</td>\n",
       "      <td>0-3</td>\n",
       "      <td>AN</td>\n",
       "      <td>NR</td>\n",
       "      <td>inverno</td>\n",
       "    </tr>\n",
       "  </tbody>\n",
       "</table>\n",
       "</div>"
      ],
      "text/plain": [
       "   ano_corrente  idade_imovel  m²_living  valor_m²_const  valor_m²_imovel  \\\n",
       "0          2023            68    108.560        2044.031           39.274   \n",
       "1          2023            72    236.440        2275.419           74.289   \n",
       "2          2023            90     70.840        2540.937           18.000   \n",
       "3          2023            58    180.320        3349.601          120.800   \n",
       "4          2023            36    154.560        3299.689           63.119   \n",
       "\n",
       "  dt_construcao porao reforma banheiros filt_per_ano_const filt_per_renovacao  \\\n",
       "0        < 1955   nao     nao       0-3                 AN                 NR   \n",
       "1        < 1955   sim     sim       0-3                 AN               1955   \n",
       "2        < 1955   nao     nao       0-3                 AN                 NR   \n",
       "3        > 1955   sim     nao       5-8                 AN                 NR   \n",
       "4        > 1955   nao     nao       0-3                 AN                 NR   \n",
       "\n",
       "  temporada  \n",
       "0    outono  \n",
       "1    outono  \n",
       "2   inverno  \n",
       "3    outono  \n",
       "4   inverno  "
      ]
     },
     "execution_count": 7,
     "metadata": {},
     "output_type": "execute_result"
    }
   ],
   "source": [
    "# Checagem a partir da coluna na posição (len: 25-37)\n",
    "\n",
    "data.head().iloc[:5,24:37]"
   ]
  },
  {
   "cell_type": "code",
   "execution_count": 8,
   "id": "861b67a9-9db3-4c58-8060-d1c427787db2",
   "metadata": {},
   "outputs": [
    {
     "data": {
      "text/html": [
       "<div>\n",
       "<style scoped>\n",
       "    .dataframe tbody tr th:only-of-type {\n",
       "        vertical-align: middle;\n",
       "    }\n",
       "\n",
       "    .dataframe tbody tr th {\n",
       "        vertical-align: top;\n",
       "    }\n",
       "\n",
       "    .dataframe thead th {\n",
       "        text-align: right;\n",
       "    }\n",
       "</style>\n",
       "<table border=\"1\" class=\"dataframe\">\n",
       "  <thead>\n",
       "    <tr style=\"text-align: right;\">\n",
       "      <th></th>\n",
       "      <th>id</th>\n",
       "      <th>date</th>\n",
       "      <th>price</th>\n",
       "      <th>bedrooms</th>\n",
       "      <th>bathrooms</th>\n",
       "      <th>sqft_living</th>\n",
       "      <th>sqft_lot</th>\n",
       "      <th>floors</th>\n",
       "      <th>waterfront</th>\n",
       "      <th>view</th>\n",
       "      <th>condition</th>\n",
       "      <th>grade</th>\n",
       "      <th>sqft_above</th>\n",
       "      <th>sqft_basement</th>\n",
       "      <th>yr_built</th>\n",
       "      <th>yr_renovated</th>\n",
       "      <th>zipcode</th>\n",
       "      <th>lat</th>\n",
       "      <th>long</th>\n",
       "      <th>sqft_living15</th>\n",
       "      <th>sqft_lot15</th>\n",
       "      <th>ano</th>\n",
       "      <th>mes</th>\n",
       "      <th>mes_dia</th>\n",
       "      <th>ano_corrente</th>\n",
       "      <th>idade_imovel</th>\n",
       "      <th>m²_living</th>\n",
       "      <th>valor_m²_const</th>\n",
       "      <th>valor_m²_imovel</th>\n",
       "      <th>dt_construcao</th>\n",
       "      <th>porao</th>\n",
       "      <th>reforma</th>\n",
       "      <th>banheiros</th>\n",
       "      <th>filt_per_ano_const</th>\n",
       "      <th>filt_per_renovacao</th>\n",
       "      <th>temporada</th>\n",
       "    </tr>\n",
       "  </thead>\n",
       "  <tbody>\n",
       "    <tr>\n",
       "      <th>2497</th>\n",
       "      <td>1000102</td>\n",
       "      <td>2015-04-22</td>\n",
       "      <td>300000.000</td>\n",
       "      <td>6</td>\n",
       "      <td>3.000</td>\n",
       "      <td>2400</td>\n",
       "      <td>9373</td>\n",
       "      <td>2.000</td>\n",
       "      <td>0</td>\n",
       "      <td>0</td>\n",
       "      <td>3</td>\n",
       "      <td>7</td>\n",
       "      <td>2400.000</td>\n",
       "      <td>0</td>\n",
       "      <td>1991</td>\n",
       "      <td>0</td>\n",
       "      <td>98002</td>\n",
       "      <td>47.326</td>\n",
       "      <td>-122.214</td>\n",
       "      <td>2060</td>\n",
       "      <td>7316</td>\n",
       "      <td>2015</td>\n",
       "      <td>4</td>\n",
       "      <td>04-22</td>\n",
       "      <td>2023</td>\n",
       "      <td>32</td>\n",
       "      <td>220.800</td>\n",
       "      <td>1358.696</td>\n",
       "      <td>32.007</td>\n",
       "      <td>&gt; 1955</td>\n",
       "      <td>nao</td>\n",
       "      <td>nao</td>\n",
       "      <td>5-8</td>\n",
       "      <td>1955</td>\n",
       "      <td>NR</td>\n",
       "      <td>primavera</td>\n",
       "    </tr>\n",
       "    <tr>\n",
       "      <th>2496</th>\n",
       "      <td>1000102</td>\n",
       "      <td>2014-09-16</td>\n",
       "      <td>280000.000</td>\n",
       "      <td>6</td>\n",
       "      <td>3.000</td>\n",
       "      <td>2400</td>\n",
       "      <td>9373</td>\n",
       "      <td>2.000</td>\n",
       "      <td>0</td>\n",
       "      <td>0</td>\n",
       "      <td>3</td>\n",
       "      <td>7</td>\n",
       "      <td>2400.000</td>\n",
       "      <td>0</td>\n",
       "      <td>1991</td>\n",
       "      <td>0</td>\n",
       "      <td>98002</td>\n",
       "      <td>47.326</td>\n",
       "      <td>-122.214</td>\n",
       "      <td>2060</td>\n",
       "      <td>7316</td>\n",
       "      <td>2014</td>\n",
       "      <td>9</td>\n",
       "      <td>09-16</td>\n",
       "      <td>2023</td>\n",
       "      <td>32</td>\n",
       "      <td>220.800</td>\n",
       "      <td>1268.116</td>\n",
       "      <td>29.873</td>\n",
       "      <td>&gt; 1955</td>\n",
       "      <td>nao</td>\n",
       "      <td>nao</td>\n",
       "      <td>5-8</td>\n",
       "      <td>1955</td>\n",
       "      <td>NR</td>\n",
       "      <td>verão</td>\n",
       "    </tr>\n",
       "    <tr>\n",
       "      <th>6735</th>\n",
       "      <td>1200019</td>\n",
       "      <td>2014-05-08</td>\n",
       "      <td>647500.000</td>\n",
       "      <td>4</td>\n",
       "      <td>1.750</td>\n",
       "      <td>2060</td>\n",
       "      <td>26036</td>\n",
       "      <td>1.000</td>\n",
       "      <td>0</td>\n",
       "      <td>0</td>\n",
       "      <td>4</td>\n",
       "      <td>8</td>\n",
       "      <td>1160.000</td>\n",
       "      <td>900</td>\n",
       "      <td>1947</td>\n",
       "      <td>0</td>\n",
       "      <td>98166</td>\n",
       "      <td>47.444</td>\n",
       "      <td>-122.351</td>\n",
       "      <td>2590</td>\n",
       "      <td>21891</td>\n",
       "      <td>2014</td>\n",
       "      <td>5</td>\n",
       "      <td>05-08</td>\n",
       "      <td>2023</td>\n",
       "      <td>76</td>\n",
       "      <td>189.520</td>\n",
       "      <td>3416.526</td>\n",
       "      <td>24.869</td>\n",
       "      <td>&lt; 1955</td>\n",
       "      <td>sim</td>\n",
       "      <td>nao</td>\n",
       "      <td>0-3</td>\n",
       "      <td>AN</td>\n",
       "      <td>NR</td>\n",
       "      <td>primavera</td>\n",
       "    </tr>\n",
       "    <tr>\n",
       "      <th>8411</th>\n",
       "      <td>1200021</td>\n",
       "      <td>2014-08-11</td>\n",
       "      <td>400000.000</td>\n",
       "      <td>3</td>\n",
       "      <td>1.000</td>\n",
       "      <td>1460</td>\n",
       "      <td>43000</td>\n",
       "      <td>1.000</td>\n",
       "      <td>0</td>\n",
       "      <td>0</td>\n",
       "      <td>3</td>\n",
       "      <td>7</td>\n",
       "      <td>1460.000</td>\n",
       "      <td>0</td>\n",
       "      <td>1952</td>\n",
       "      <td>0</td>\n",
       "      <td>98166</td>\n",
       "      <td>47.443</td>\n",
       "      <td>-122.347</td>\n",
       "      <td>2250</td>\n",
       "      <td>20023</td>\n",
       "      <td>2014</td>\n",
       "      <td>8</td>\n",
       "      <td>08-11</td>\n",
       "      <td>2023</td>\n",
       "      <td>71</td>\n",
       "      <td>134.320</td>\n",
       "      <td>2977.963</td>\n",
       "      <td>9.302</td>\n",
       "      <td>&lt; 1955</td>\n",
       "      <td>nao</td>\n",
       "      <td>nao</td>\n",
       "      <td>0-3</td>\n",
       "      <td>AN</td>\n",
       "      <td>NR</td>\n",
       "      <td>verão</td>\n",
       "    </tr>\n",
       "    <tr>\n",
       "      <th>8809</th>\n",
       "      <td>2800031</td>\n",
       "      <td>2015-04-01</td>\n",
       "      <td>235000.000</td>\n",
       "      <td>3</td>\n",
       "      <td>1.000</td>\n",
       "      <td>1430</td>\n",
       "      <td>7599</td>\n",
       "      <td>1.500</td>\n",
       "      <td>0</td>\n",
       "      <td>0</td>\n",
       "      <td>4</td>\n",
       "      <td>6</td>\n",
       "      <td>1010.000</td>\n",
       "      <td>420</td>\n",
       "      <td>1930</td>\n",
       "      <td>0</td>\n",
       "      <td>98168</td>\n",
       "      <td>47.478</td>\n",
       "      <td>-122.265</td>\n",
       "      <td>1290</td>\n",
       "      <td>10320</td>\n",
       "      <td>2015</td>\n",
       "      <td>4</td>\n",
       "      <td>04-01</td>\n",
       "      <td>2023</td>\n",
       "      <td>93</td>\n",
       "      <td>131.560</td>\n",
       "      <td>1786.257</td>\n",
       "      <td>30.925</td>\n",
       "      <td>&lt; 1955</td>\n",
       "      <td>sim</td>\n",
       "      <td>nao</td>\n",
       "      <td>0-3</td>\n",
       "      <td>AN</td>\n",
       "      <td>NR</td>\n",
       "      <td>primavera</td>\n",
       "    </tr>\n",
       "  </tbody>\n",
       "</table>\n",
       "</div>"
      ],
      "text/plain": [
       "           id       date      price  bedrooms  bathrooms  sqft_living  \\\n",
       "2497  1000102 2015-04-22 300000.000         6      3.000         2400   \n",
       "2496  1000102 2014-09-16 280000.000         6      3.000         2400   \n",
       "6735  1200019 2014-05-08 647500.000         4      1.750         2060   \n",
       "8411  1200021 2014-08-11 400000.000         3      1.000         1460   \n",
       "8809  2800031 2015-04-01 235000.000         3      1.000         1430   \n",
       "\n",
       "      sqft_lot  floors  waterfront  view  condition  grade  sqft_above  \\\n",
       "2497      9373   2.000           0     0          3      7    2400.000   \n",
       "2496      9373   2.000           0     0          3      7    2400.000   \n",
       "6735     26036   1.000           0     0          4      8    1160.000   \n",
       "8411     43000   1.000           0     0          3      7    1460.000   \n",
       "8809      7599   1.500           0     0          4      6    1010.000   \n",
       "\n",
       "      sqft_basement  yr_built  yr_renovated  zipcode    lat     long  \\\n",
       "2497              0      1991             0    98002 47.326 -122.214   \n",
       "2496              0      1991             0    98002 47.326 -122.214   \n",
       "6735            900      1947             0    98166 47.444 -122.351   \n",
       "8411              0      1952             0    98166 47.443 -122.347   \n",
       "8809            420      1930             0    98168 47.478 -122.265   \n",
       "\n",
       "      sqft_living15  sqft_lot15   ano  mes mes_dia  ano_corrente  \\\n",
       "2497           2060        7316  2015    4   04-22          2023   \n",
       "2496           2060        7316  2014    9   09-16          2023   \n",
       "6735           2590       21891  2014    5   05-08          2023   \n",
       "8411           2250       20023  2014    8   08-11          2023   \n",
       "8809           1290       10320  2015    4   04-01          2023   \n",
       "\n",
       "      idade_imovel  m²_living  valor_m²_const  valor_m²_imovel dt_construcao  \\\n",
       "2497            32    220.800        1358.696           32.007        > 1955   \n",
       "2496            32    220.800        1268.116           29.873        > 1955   \n",
       "6735            76    189.520        3416.526           24.869        < 1955   \n",
       "8411            71    134.320        2977.963            9.302        < 1955   \n",
       "8809            93    131.560        1786.257           30.925        < 1955   \n",
       "\n",
       "     porao reforma banheiros filt_per_ano_const filt_per_renovacao  temporada  \n",
       "2497   nao     nao       5-8               1955                 NR  primavera  \n",
       "2496   nao     nao       5-8               1955                 NR      verão  \n",
       "6735   sim     nao       0-3                 AN                 NR  primavera  \n",
       "8411   nao     nao       0-3                 AN                 NR      verão  \n",
       "8809   sim     nao       0-3                 AN                 NR  primavera  "
      ]
     },
     "execution_count": 8,
     "metadata": {},
     "output_type": "execute_result"
    }
   ],
   "source": [
    "# Análise dos dados duplicados na variável (id). Ésta variável é a chave de ligação entre as outras variáveis\n",
    "\n",
    "data.sort_values('id').head()"
   ]
  },
  {
   "cell_type": "markdown",
   "id": "e14e6590-bf4c-4f09-8de8-ee1272d879b2",
   "metadata": {},
   "source": [
    "___\n",
    "* **Obs.:** Ad's repetidos precisam ser extraídos do dataset\n",
    "    - o ID **1000102** repete-se.\n",
    "___"
   ]
  },
  {
   "cell_type": "code",
   "execution_count": 9,
   "id": "f49a9227-fadc-4ba8-9dd5-673bd5498c89",
   "metadata": {},
   "outputs": [
    {
     "data": {
      "text/html": [
       "<div>\n",
       "<style scoped>\n",
       "    .dataframe tbody tr th:only-of-type {\n",
       "        vertical-align: middle;\n",
       "    }\n",
       "\n",
       "    .dataframe tbody tr th {\n",
       "        vertical-align: top;\n",
       "    }\n",
       "\n",
       "    .dataframe thead th {\n",
       "        text-align: right;\n",
       "    }\n",
       "</style>\n",
       "<table border=\"1\" class=\"dataframe\">\n",
       "  <thead>\n",
       "    <tr style=\"text-align: right;\">\n",
       "      <th></th>\n",
       "      <th>id</th>\n",
       "      <th>date</th>\n",
       "      <th>price</th>\n",
       "      <th>bedrooms</th>\n",
       "      <th>bathrooms</th>\n",
       "      <th>sqft_living</th>\n",
       "      <th>sqft_lot</th>\n",
       "      <th>floors</th>\n",
       "      <th>waterfront</th>\n",
       "      <th>view</th>\n",
       "      <th>condition</th>\n",
       "      <th>grade</th>\n",
       "      <th>sqft_above</th>\n",
       "      <th>sqft_basement</th>\n",
       "      <th>yr_built</th>\n",
       "      <th>yr_renovated</th>\n",
       "      <th>zipcode</th>\n",
       "      <th>lat</th>\n",
       "      <th>long</th>\n",
       "      <th>sqft_living15</th>\n",
       "      <th>sqft_lot15</th>\n",
       "      <th>ano</th>\n",
       "      <th>mes</th>\n",
       "      <th>mes_dia</th>\n",
       "      <th>ano_corrente</th>\n",
       "      <th>idade_imovel</th>\n",
       "      <th>m²_living</th>\n",
       "      <th>valor_m²_const</th>\n",
       "      <th>valor_m²_imovel</th>\n",
       "      <th>dt_construcao</th>\n",
       "      <th>porao</th>\n",
       "      <th>reforma</th>\n",
       "      <th>banheiros</th>\n",
       "      <th>filt_per_ano_const</th>\n",
       "      <th>filt_per_renovacao</th>\n",
       "      <th>temporada</th>\n",
       "    </tr>\n",
       "  </thead>\n",
       "  <tbody>\n",
       "    <tr>\n",
       "      <th>2497</th>\n",
       "      <td>1000102</td>\n",
       "      <td>2015-04-22</td>\n",
       "      <td>300000.000</td>\n",
       "      <td>6</td>\n",
       "      <td>3.000</td>\n",
       "      <td>2400</td>\n",
       "      <td>9373</td>\n",
       "      <td>2.000</td>\n",
       "      <td>0</td>\n",
       "      <td>0</td>\n",
       "      <td>3</td>\n",
       "      <td>7</td>\n",
       "      <td>2400.000</td>\n",
       "      <td>0</td>\n",
       "      <td>1991</td>\n",
       "      <td>0</td>\n",
       "      <td>98002</td>\n",
       "      <td>47.326</td>\n",
       "      <td>-122.214</td>\n",
       "      <td>2060</td>\n",
       "      <td>7316</td>\n",
       "      <td>2015</td>\n",
       "      <td>4</td>\n",
       "      <td>04-22</td>\n",
       "      <td>2023</td>\n",
       "      <td>32</td>\n",
       "      <td>220.800</td>\n",
       "      <td>1358.696</td>\n",
       "      <td>32.007</td>\n",
       "      <td>&gt; 1955</td>\n",
       "      <td>nao</td>\n",
       "      <td>nao</td>\n",
       "      <td>5-8</td>\n",
       "      <td>1955</td>\n",
       "      <td>NR</td>\n",
       "      <td>primavera</td>\n",
       "    </tr>\n",
       "    <tr>\n",
       "      <th>6735</th>\n",
       "      <td>1200019</td>\n",
       "      <td>2014-05-08</td>\n",
       "      <td>647500.000</td>\n",
       "      <td>4</td>\n",
       "      <td>1.750</td>\n",
       "      <td>2060</td>\n",
       "      <td>26036</td>\n",
       "      <td>1.000</td>\n",
       "      <td>0</td>\n",
       "      <td>0</td>\n",
       "      <td>4</td>\n",
       "      <td>8</td>\n",
       "      <td>1160.000</td>\n",
       "      <td>900</td>\n",
       "      <td>1947</td>\n",
       "      <td>0</td>\n",
       "      <td>98166</td>\n",
       "      <td>47.444</td>\n",
       "      <td>-122.351</td>\n",
       "      <td>2590</td>\n",
       "      <td>21891</td>\n",
       "      <td>2014</td>\n",
       "      <td>5</td>\n",
       "      <td>05-08</td>\n",
       "      <td>2023</td>\n",
       "      <td>76</td>\n",
       "      <td>189.520</td>\n",
       "      <td>3416.526</td>\n",
       "      <td>24.869</td>\n",
       "      <td>&lt; 1955</td>\n",
       "      <td>sim</td>\n",
       "      <td>nao</td>\n",
       "      <td>0-3</td>\n",
       "      <td>AN</td>\n",
       "      <td>NR</td>\n",
       "      <td>primavera</td>\n",
       "    </tr>\n",
       "    <tr>\n",
       "      <th>8411</th>\n",
       "      <td>1200021</td>\n",
       "      <td>2014-08-11</td>\n",
       "      <td>400000.000</td>\n",
       "      <td>3</td>\n",
       "      <td>1.000</td>\n",
       "      <td>1460</td>\n",
       "      <td>43000</td>\n",
       "      <td>1.000</td>\n",
       "      <td>0</td>\n",
       "      <td>0</td>\n",
       "      <td>3</td>\n",
       "      <td>7</td>\n",
       "      <td>1460.000</td>\n",
       "      <td>0</td>\n",
       "      <td>1952</td>\n",
       "      <td>0</td>\n",
       "      <td>98166</td>\n",
       "      <td>47.443</td>\n",
       "      <td>-122.347</td>\n",
       "      <td>2250</td>\n",
       "      <td>20023</td>\n",
       "      <td>2014</td>\n",
       "      <td>8</td>\n",
       "      <td>08-11</td>\n",
       "      <td>2023</td>\n",
       "      <td>71</td>\n",
       "      <td>134.320</td>\n",
       "      <td>2977.963</td>\n",
       "      <td>9.302</td>\n",
       "      <td>&lt; 1955</td>\n",
       "      <td>nao</td>\n",
       "      <td>nao</td>\n",
       "      <td>0-3</td>\n",
       "      <td>AN</td>\n",
       "      <td>NR</td>\n",
       "      <td>verão</td>\n",
       "    </tr>\n",
       "    <tr>\n",
       "      <th>8809</th>\n",
       "      <td>2800031</td>\n",
       "      <td>2015-04-01</td>\n",
       "      <td>235000.000</td>\n",
       "      <td>3</td>\n",
       "      <td>1.000</td>\n",
       "      <td>1430</td>\n",
       "      <td>7599</td>\n",
       "      <td>1.500</td>\n",
       "      <td>0</td>\n",
       "      <td>0</td>\n",
       "      <td>4</td>\n",
       "      <td>6</td>\n",
       "      <td>1010.000</td>\n",
       "      <td>420</td>\n",
       "      <td>1930</td>\n",
       "      <td>0</td>\n",
       "      <td>98168</td>\n",
       "      <td>47.478</td>\n",
       "      <td>-122.265</td>\n",
       "      <td>1290</td>\n",
       "      <td>10320</td>\n",
       "      <td>2015</td>\n",
       "      <td>4</td>\n",
       "      <td>04-01</td>\n",
       "      <td>2023</td>\n",
       "      <td>93</td>\n",
       "      <td>131.560</td>\n",
       "      <td>1786.257</td>\n",
       "      <td>30.925</td>\n",
       "      <td>&lt; 1955</td>\n",
       "      <td>sim</td>\n",
       "      <td>nao</td>\n",
       "      <td>0-3</td>\n",
       "      <td>AN</td>\n",
       "      <td>NR</td>\n",
       "      <td>primavera</td>\n",
       "    </tr>\n",
       "    <tr>\n",
       "      <th>3557</th>\n",
       "      <td>3600057</td>\n",
       "      <td>2015-03-19</td>\n",
       "      <td>402500.000</td>\n",
       "      <td>4</td>\n",
       "      <td>2.000</td>\n",
       "      <td>1650</td>\n",
       "      <td>3504</td>\n",
       "      <td>1.000</td>\n",
       "      <td>0</td>\n",
       "      <td>0</td>\n",
       "      <td>3</td>\n",
       "      <td>7</td>\n",
       "      <td>760.000</td>\n",
       "      <td>890</td>\n",
       "      <td>1951</td>\n",
       "      <td>2013</td>\n",
       "      <td>98144</td>\n",
       "      <td>47.580</td>\n",
       "      <td>-122.294</td>\n",
       "      <td>1480</td>\n",
       "      <td>3504</td>\n",
       "      <td>2015</td>\n",
       "      <td>3</td>\n",
       "      <td>03-19</td>\n",
       "      <td>2023</td>\n",
       "      <td>72</td>\n",
       "      <td>151.800</td>\n",
       "      <td>2651.515</td>\n",
       "      <td>114.869</td>\n",
       "      <td>&lt; 1955</td>\n",
       "      <td>sim</td>\n",
       "      <td>sim</td>\n",
       "      <td>0-3</td>\n",
       "      <td>AN</td>\n",
       "      <td>1955</td>\n",
       "      <td>inverno</td>\n",
       "    </tr>\n",
       "  </tbody>\n",
       "</table>\n",
       "</div>"
      ],
      "text/plain": [
       "           id       date      price  bedrooms  bathrooms  sqft_living  \\\n",
       "2497  1000102 2015-04-22 300000.000         6      3.000         2400   \n",
       "6735  1200019 2014-05-08 647500.000         4      1.750         2060   \n",
       "8411  1200021 2014-08-11 400000.000         3      1.000         1460   \n",
       "8809  2800031 2015-04-01 235000.000         3      1.000         1430   \n",
       "3557  3600057 2015-03-19 402500.000         4      2.000         1650   \n",
       "\n",
       "      sqft_lot  floors  waterfront  view  condition  grade  sqft_above  \\\n",
       "2497      9373   2.000           0     0          3      7    2400.000   \n",
       "6735     26036   1.000           0     0          4      8    1160.000   \n",
       "8411     43000   1.000           0     0          3      7    1460.000   \n",
       "8809      7599   1.500           0     0          4      6    1010.000   \n",
       "3557      3504   1.000           0     0          3      7     760.000   \n",
       "\n",
       "      sqft_basement  yr_built  yr_renovated  zipcode    lat     long  \\\n",
       "2497              0      1991             0    98002 47.326 -122.214   \n",
       "6735            900      1947             0    98166 47.444 -122.351   \n",
       "8411              0      1952             0    98166 47.443 -122.347   \n",
       "8809            420      1930             0    98168 47.478 -122.265   \n",
       "3557            890      1951          2013    98144 47.580 -122.294   \n",
       "\n",
       "      sqft_living15  sqft_lot15   ano  mes mes_dia  ano_corrente  \\\n",
       "2497           2060        7316  2015    4   04-22          2023   \n",
       "6735           2590       21891  2014    5   05-08          2023   \n",
       "8411           2250       20023  2014    8   08-11          2023   \n",
       "8809           1290       10320  2015    4   04-01          2023   \n",
       "3557           1480        3504  2015    3   03-19          2023   \n",
       "\n",
       "      idade_imovel  m²_living  valor_m²_const  valor_m²_imovel dt_construcao  \\\n",
       "2497            32    220.800        1358.696           32.007        > 1955   \n",
       "6735            76    189.520        3416.526           24.869        < 1955   \n",
       "8411            71    134.320        2977.963            9.302        < 1955   \n",
       "8809            93    131.560        1786.257           30.925        < 1955   \n",
       "3557            72    151.800        2651.515          114.869        < 1955   \n",
       "\n",
       "     porao reforma banheiros filt_per_ano_const filt_per_renovacao  temporada  \n",
       "2497   nao     nao       5-8               1955                 NR  primavera  \n",
       "6735   sim     nao       0-3                 AN                 NR  primavera  \n",
       "8411   nao     nao       0-3                 AN                 NR      verão  \n",
       "8809   sim     nao       0-3                 AN                 NR  primavera  \n",
       "3557   sim     sim       0-3                 AN               1955    inverno  "
      ]
     },
     "execution_count": 9,
     "metadata": {},
     "output_type": "execute_result"
    }
   ],
   "source": [
    "# Extração dos dados duplicados da varável (id) com a função (inplace=true)\n",
    "\n",
    "# df_kc = df_kc.drop_duplicates(subset = ['id'], keep = 'last')\n",
    "data.drop_duplicates(subset=['id'],keep='last',inplace=True)\n",
    "\n",
    "# Gerando uma cópia da base por garantia do que fora feito até o momento.\n",
    "df_kc=data.copy()\n",
    "\n",
    "df_kc.sort_values('id').head(5)"
   ]
  },
  {
   "cell_type": "markdown",
   "id": "6b7190df-77e6-4f64-96fd-009cfd96a5ef",
   "metadata": {},
   "source": [
    "### Tratamentos necessários para a variável bedrooms "
   ]
  },
  {
   "cell_type": "code",
   "execution_count": 10,
   "id": "8b91e301-3a92-4d48-940b-5f3df5cc810b",
   "metadata": {},
   "outputs": [
    {
     "data": {
      "text/html": [
       "<div>\n",
       "<style scoped>\n",
       "    .dataframe tbody tr th:only-of-type {\n",
       "        vertical-align: middle;\n",
       "    }\n",
       "\n",
       "    .dataframe tbody tr th {\n",
       "        vertical-align: top;\n",
       "    }\n",
       "\n",
       "    .dataframe thead th {\n",
       "        text-align: right;\n",
       "    }\n",
       "</style>\n",
       "<table border=\"1\" class=\"dataframe\">\n",
       "  <thead>\n",
       "    <tr style=\"text-align: right;\">\n",
       "      <th></th>\n",
       "      <th>id</th>\n",
       "      <th>date</th>\n",
       "      <th>price</th>\n",
       "      <th>bedrooms</th>\n",
       "      <th>bathrooms</th>\n",
       "      <th>sqft_living</th>\n",
       "      <th>sqft_lot</th>\n",
       "      <th>floors</th>\n",
       "      <th>waterfront</th>\n",
       "      <th>view</th>\n",
       "      <th>condition</th>\n",
       "      <th>grade</th>\n",
       "      <th>sqft_above</th>\n",
       "      <th>sqft_basement</th>\n",
       "      <th>yr_built</th>\n",
       "      <th>yr_renovated</th>\n",
       "      <th>zipcode</th>\n",
       "      <th>lat</th>\n",
       "      <th>long</th>\n",
       "      <th>sqft_living15</th>\n",
       "      <th>sqft_lot15</th>\n",
       "      <th>ano</th>\n",
       "      <th>mes</th>\n",
       "      <th>mes_dia</th>\n",
       "      <th>ano_corrente</th>\n",
       "      <th>idade_imovel</th>\n",
       "      <th>m²_living</th>\n",
       "      <th>valor_m²_const</th>\n",
       "      <th>valor_m²_imovel</th>\n",
       "      <th>dt_construcao</th>\n",
       "      <th>porao</th>\n",
       "      <th>reforma</th>\n",
       "      <th>banheiros</th>\n",
       "      <th>filt_per_ano_const</th>\n",
       "      <th>filt_per_renovacao</th>\n",
       "      <th>temporada</th>\n",
       "    </tr>\n",
       "  </thead>\n",
       "  <tbody>\n",
       "    <tr>\n",
       "      <th>8757</th>\n",
       "      <td>1773100755</td>\n",
       "      <td>2014-08-21</td>\n",
       "      <td>520000.000</td>\n",
       "      <td>11</td>\n",
       "      <td>3.000</td>\n",
       "      <td>3000</td>\n",
       "      <td>4960</td>\n",
       "      <td>2.000</td>\n",
       "      <td>0</td>\n",
       "      <td>0</td>\n",
       "      <td>3</td>\n",
       "      <td>7</td>\n",
       "      <td>2400.000</td>\n",
       "      <td>600</td>\n",
       "      <td>1918</td>\n",
       "      <td>1999</td>\n",
       "      <td>98106</td>\n",
       "      <td>47.556</td>\n",
       "      <td>-122.363</td>\n",
       "      <td>1420</td>\n",
       "      <td>4960</td>\n",
       "      <td>2014</td>\n",
       "      <td>8</td>\n",
       "      <td>08-21</td>\n",
       "      <td>2023</td>\n",
       "      <td>105</td>\n",
       "      <td>276.000</td>\n",
       "      <td>1884.058</td>\n",
       "      <td>104.839</td>\n",
       "      <td>&lt; 1955</td>\n",
       "      <td>sim</td>\n",
       "      <td>sim</td>\n",
       "      <td>5-8</td>\n",
       "      <td>AN</td>\n",
       "      <td>1955</td>\n",
       "      <td>verão</td>\n",
       "    </tr>\n",
       "    <tr>\n",
       "      <th>15870</th>\n",
       "      <td>2402100895</td>\n",
       "      <td>2014-06-25</td>\n",
       "      <td>640000.000</td>\n",
       "      <td>33</td>\n",
       "      <td>1.750</td>\n",
       "      <td>1620</td>\n",
       "      <td>6000</td>\n",
       "      <td>1.000</td>\n",
       "      <td>0</td>\n",
       "      <td>0</td>\n",
       "      <td>5</td>\n",
       "      <td>7</td>\n",
       "      <td>1040.000</td>\n",
       "      <td>580</td>\n",
       "      <td>1947</td>\n",
       "      <td>0</td>\n",
       "      <td>98103</td>\n",
       "      <td>47.688</td>\n",
       "      <td>-122.331</td>\n",
       "      <td>1330</td>\n",
       "      <td>4700</td>\n",
       "      <td>2014</td>\n",
       "      <td>6</td>\n",
       "      <td>06-25</td>\n",
       "      <td>2023</td>\n",
       "      <td>76</td>\n",
       "      <td>149.040</td>\n",
       "      <td>4294.149</td>\n",
       "      <td>106.667</td>\n",
       "      <td>&lt; 1955</td>\n",
       "      <td>sim</td>\n",
       "      <td>nao</td>\n",
       "      <td>0-3</td>\n",
       "      <td>AN</td>\n",
       "      <td>NR</td>\n",
       "      <td>verão</td>\n",
       "    </tr>\n",
       "  </tbody>\n",
       "</table>\n",
       "</div>"
      ],
      "text/plain": [
       "               id       date      price  bedrooms  bathrooms  sqft_living  \\\n",
       "8757   1773100755 2014-08-21 520000.000        11      3.000         3000   \n",
       "15870  2402100895 2014-06-25 640000.000        33      1.750         1620   \n",
       "\n",
       "       sqft_lot  floors  waterfront  view  condition  grade  sqft_above  \\\n",
       "8757       4960   2.000           0     0          3      7    2400.000   \n",
       "15870      6000   1.000           0     0          5      7    1040.000   \n",
       "\n",
       "       sqft_basement  yr_built  yr_renovated  zipcode    lat     long  \\\n",
       "8757             600      1918          1999    98106 47.556 -122.363   \n",
       "15870            580      1947             0    98103 47.688 -122.331   \n",
       "\n",
       "       sqft_living15  sqft_lot15   ano  mes mes_dia  ano_corrente  \\\n",
       "8757            1420        4960  2014    8   08-21          2023   \n",
       "15870           1330        4700  2014    6   06-25          2023   \n",
       "\n",
       "       idade_imovel  m²_living  valor_m²_const  valor_m²_imovel dt_construcao  \\\n",
       "8757            105    276.000        1884.058          104.839        < 1955   \n",
       "15870            76    149.040        4294.149          106.667        < 1955   \n",
       "\n",
       "      porao reforma banheiros filt_per_ano_const filt_per_renovacao temporada  \n",
       "8757    sim     sim       5-8                 AN               1955     verão  \n",
       "15870   sim     nao       0-3                 AN                 NR     verão  "
      ]
     },
     "execution_count": 10,
     "metadata": {},
     "output_type": "execute_result"
    }
   ],
   "source": [
    "# Análise mais detalhada de dois casos de outliers. Obs:. Aqui podemos ver pelo preço que não é compatível com a quantidade de quartos constante, no mínimo\n",
    "# Essa quantidade de quartos foi registro errado, porque uma casa com 33 não custaria 640k, ao invès de excluir irei alterar esse lançamento para (3)\n",
    "# Filtro os quartos acima de 10 para vermos como os dados estão dispostos\n",
    "\n",
    "df_kc.loc[df_kc['bedrooms'] > 10 ] "
   ]
  },
  {
   "cell_type": "code",
   "execution_count": 11,
   "id": "c124c115-1015-4440-beef-5baaff82e585",
   "metadata": {},
   "outputs": [
    {
     "data": {
      "text/plain": [
       "array([ 3,  2,  4,  5,  1,  6,  7,  0,  8,  9, 11, 10, 33], dtype=int64)"
      ]
     },
     "execution_count": 11,
     "metadata": {},
     "output_type": "execute_result"
    }
   ],
   "source": [
    "df_kc['bedrooms'].unique()"
   ]
  },
  {
   "cell_type": "code",
   "execution_count": 12,
   "id": "6a76cf5b-bc3d-4882-84e8-ae0b0d53b227",
   "metadata": {},
   "outputs": [
    {
     "data": {
      "text/plain": [
       "array([ 3,  2,  4,  5,  1,  6,  7,  0,  8,  9, 11, 10], dtype=int64)"
      ]
     },
     "execution_count": 12,
     "metadata": {},
     "output_type": "execute_result"
    }
   ],
   "source": [
    "# Substituindo o valor 33 na coluna bedrooms por 3\n",
    "\n",
    "df_kc = df_kc.drop(df_kc[df_kc['bedrooms'] == 33].index)\n",
    "df_kc['bedrooms'].unique()"
   ]
  },
  {
   "cell_type": "markdown",
   "id": "cdc133b2-226f-4a08-8524-2795bf5997d1",
   "metadata": {},
   "source": [
    "### Descritiva e distribuíção com metodos (skew e kurtosis)\n",
    "   - Métricas de média e mediana, minimo e máximo e **<em>centrais<em>** com skew e kurtosis descritivas para entendimento das distribuções numéricas  "
   ]
  },
  {
   "cell_type": "code",
   "execution_count": 13,
   "id": "6fd4502b-f8a4-4bbb-b836-cf5a258c35ec",
   "metadata": {},
   "outputs": [],
   "source": [
    "# Incluindo somente variáveis numéricas para uma análise descritiva com métricas (medidas criadas)\n",
    "num_attributes = df_kc.select_dtypes( include=[ 'int64', 'float64' ] )\n",
    "# cat_attributes = df_kc.select_dtypes( exclude=[ 'int64', 'float64' ] )\n",
    "\n",
    "# Slice da coluna (id), mas não inplace\n",
    "num_attributes = num_attributes.iloc[:, 1: ]"
   ]
  },
  {
   "cell_type": "code",
   "execution_count": 14,
   "id": "e3036024-74ee-4bcc-b246-e3c261143080",
   "metadata": {},
   "outputs": [
    {
     "name": "stdout",
     "output_type": "stream",
     "text": [
      "\n",
      "           DESCRITIVO ESTATÍSTICO COM MÉTODOS SKEW E KURTOSIS DAS MÉTRICAS DE DISPERSÃO E CENTRAIS            \n",
      "\n"
     ]
    },
    {
     "data": {
      "text/html": [
       "<div>\n",
       "<style scoped>\n",
       "    .dataframe tbody tr th:only-of-type {\n",
       "        vertical-align: middle;\n",
       "    }\n",
       "\n",
       "    .dataframe tbody tr th {\n",
       "        vertical-align: top;\n",
       "    }\n",
       "\n",
       "    .dataframe thead th {\n",
       "        text-align: right;\n",
       "    }\n",
       "</style>\n",
       "<table border=\"1\" class=\"dataframe\">\n",
       "  <thead>\n",
       "    <tr style=\"text-align: right;\">\n",
       "      <th></th>\n",
       "      <th>ATRIBUTOS</th>\n",
       "      <th>MIN</th>\n",
       "      <th>MAX</th>\n",
       "      <th>RANGE</th>\n",
       "      <th>MEDIA</th>\n",
       "      <th>MEDIANA</th>\n",
       "      <th>STD</th>\n",
       "      <th>SKEW_CENTRAL</th>\n",
       "      <th>KURTOSIS</th>\n",
       "    </tr>\n",
       "  </thead>\n",
       "  <tbody>\n",
       "    <tr>\n",
       "      <th>0</th>\n",
       "      <td>price</td>\n",
       "      <td>75000.000</td>\n",
       "      <td>7700000.000</td>\n",
       "      <td>7625000.000</td>\n",
       "      <td>541642.379</td>\n",
       "      <td>450000.000</td>\n",
       "      <td>367330.321</td>\n",
       "      <td>4.036</td>\n",
       "      <td>34.721</td>\n",
       "    </tr>\n",
       "    <tr>\n",
       "      <th>1</th>\n",
       "      <td>bedrooms</td>\n",
       "      <td>0.000</td>\n",
       "      <td>11.000</td>\n",
       "      <td>11.000</td>\n",
       "      <td>3.370</td>\n",
       "      <td>3.000</td>\n",
       "      <td>0.907</td>\n",
       "      <td>0.518</td>\n",
       "      <td>1.852</td>\n",
       "    </tr>\n",
       "    <tr>\n",
       "      <th>2</th>\n",
       "      <td>bathrooms</td>\n",
       "      <td>0.000</td>\n",
       "      <td>8.000</td>\n",
       "      <td>8.000</td>\n",
       "      <td>2.117</td>\n",
       "      <td>2.250</td>\n",
       "      <td>0.770</td>\n",
       "      <td>0.510</td>\n",
       "      <td>1.292</td>\n",
       "    </tr>\n",
       "    <tr>\n",
       "      <th>3</th>\n",
       "      <td>sqft_living</td>\n",
       "      <td>290.000</td>\n",
       "      <td>13540.000</td>\n",
       "      <td>13250.000</td>\n",
       "      <td>2082.680</td>\n",
       "      <td>1920.000</td>\n",
       "      <td>919.123</td>\n",
       "      <td>1.471</td>\n",
       "      <td>5.250</td>\n",
       "    </tr>\n",
       "    <tr>\n",
       "      <th>4</th>\n",
       "      <td>sqft_lot</td>\n",
       "      <td>520.000</td>\n",
       "      <td>1651359.000</td>\n",
       "      <td>1650839.000</td>\n",
       "      <td>15136.819</td>\n",
       "      <td>7614.000</td>\n",
       "      <td>41540.430</td>\n",
       "      <td>13.043</td>\n",
       "      <td>284.045</td>\n",
       "    </tr>\n",
       "    <tr>\n",
       "      <th>5</th>\n",
       "      <td>floors</td>\n",
       "      <td>1.000</td>\n",
       "      <td>3.500</td>\n",
       "      <td>2.500</td>\n",
       "      <td>1.496</td>\n",
       "      <td>1.500</td>\n",
       "      <td>0.540</td>\n",
       "      <td>0.610</td>\n",
       "      <td>-0.491</td>\n",
       "    </tr>\n",
       "    <tr>\n",
       "      <th>6</th>\n",
       "      <td>waterfront</td>\n",
       "      <td>0.000</td>\n",
       "      <td>1.000</td>\n",
       "      <td>1.000</td>\n",
       "      <td>0.008</td>\n",
       "      <td>0.000</td>\n",
       "      <td>0.087</td>\n",
       "      <td>11.337</td>\n",
       "      <td>126.528</td>\n",
       "    </tr>\n",
       "    <tr>\n",
       "      <th>7</th>\n",
       "      <td>view</td>\n",
       "      <td>0.000</td>\n",
       "      <td>4.000</td>\n",
       "      <td>4.000</td>\n",
       "      <td>0.235</td>\n",
       "      <td>0.000</td>\n",
       "      <td>0.767</td>\n",
       "      <td>3.386</td>\n",
       "      <td>10.828</td>\n",
       "    </tr>\n",
       "    <tr>\n",
       "      <th>8</th>\n",
       "      <td>condition</td>\n",
       "      <td>1.000</td>\n",
       "      <td>5.000</td>\n",
       "      <td>4.000</td>\n",
       "      <td>3.410</td>\n",
       "      <td>3.000</td>\n",
       "      <td>0.650</td>\n",
       "      <td>1.036</td>\n",
       "      <td>0.518</td>\n",
       "    </tr>\n",
       "    <tr>\n",
       "      <th>9</th>\n",
       "      <td>grade</td>\n",
       "      <td>1.000</td>\n",
       "      <td>13.000</td>\n",
       "      <td>12.000</td>\n",
       "      <td>7.662</td>\n",
       "      <td>7.000</td>\n",
       "      <td>1.174</td>\n",
       "      <td>0.770</td>\n",
       "      <td>1.190</td>\n",
       "    </tr>\n",
       "    <tr>\n",
       "      <th>10</th>\n",
       "      <td>sqft_above</td>\n",
       "      <td>290.000</td>\n",
       "      <td>9410.000</td>\n",
       "      <td>9120.000</td>\n",
       "      <td>1791.001</td>\n",
       "      <td>1560.000</td>\n",
       "      <td>829.048</td>\n",
       "      <td>1.444</td>\n",
       "      <td>3.394</td>\n",
       "    </tr>\n",
       "    <tr>\n",
       "      <th>11</th>\n",
       "      <td>sqft_basement</td>\n",
       "      <td>0.000</td>\n",
       "      <td>4820.000</td>\n",
       "      <td>4820.000</td>\n",
       "      <td>291.679</td>\n",
       "      <td>0.000</td>\n",
       "      <td>442.689</td>\n",
       "      <td>1.577</td>\n",
       "      <td>2.713</td>\n",
       "    </tr>\n",
       "    <tr>\n",
       "      <th>12</th>\n",
       "      <td>yr_built</td>\n",
       "      <td>1900.000</td>\n",
       "      <td>2015.000</td>\n",
       "      <td>115.000</td>\n",
       "      <td>1971.102</td>\n",
       "      <td>1975.000</td>\n",
       "      <td>29.384</td>\n",
       "      <td>-0.475</td>\n",
       "      <td>-0.654</td>\n",
       "    </tr>\n",
       "    <tr>\n",
       "      <th>13</th>\n",
       "      <td>yr_renovated</td>\n",
       "      <td>0.000</td>\n",
       "      <td>2015.000</td>\n",
       "      <td>2015.000</td>\n",
       "      <td>84.742</td>\n",
       "      <td>0.000</td>\n",
       "      <td>402.449</td>\n",
       "      <td>4.539</td>\n",
       "      <td>18.607</td>\n",
       "    </tr>\n",
       "    <tr>\n",
       "      <th>14</th>\n",
       "      <td>zipcode</td>\n",
       "      <td>98001.000</td>\n",
       "      <td>98199.000</td>\n",
       "      <td>198.000</td>\n",
       "      <td>98077.863</td>\n",
       "      <td>98065.000</td>\n",
       "      <td>53.469</td>\n",
       "      <td>0.408</td>\n",
       "      <td>-0.850</td>\n",
       "    </tr>\n",
       "    <tr>\n",
       "      <th>15</th>\n",
       "      <td>lat</td>\n",
       "      <td>47.156</td>\n",
       "      <td>47.778</td>\n",
       "      <td>0.622</td>\n",
       "      <td>47.560</td>\n",
       "      <td>47.572</td>\n",
       "      <td>0.139</td>\n",
       "      <td>-0.488</td>\n",
       "      <td>-0.674</td>\n",
       "    </tr>\n",
       "    <tr>\n",
       "      <th>16</th>\n",
       "      <td>long</td>\n",
       "      <td>-122.519</td>\n",
       "      <td>-121.315</td>\n",
       "      <td>1.204</td>\n",
       "      <td>-122.214</td>\n",
       "      <td>-122.230</td>\n",
       "      <td>0.141</td>\n",
       "      <td>0.882</td>\n",
       "      <td>1.045</td>\n",
       "    </tr>\n",
       "    <tr>\n",
       "      <th>17</th>\n",
       "      <td>sqft_living15</td>\n",
       "      <td>399.000</td>\n",
       "      <td>6210.000</td>\n",
       "      <td>5811.000</td>\n",
       "      <td>1988.352</td>\n",
       "      <td>1840.000</td>\n",
       "      <td>685.710</td>\n",
       "      <td>1.106</td>\n",
       "      <td>1.593</td>\n",
       "    </tr>\n",
       "    <tr>\n",
       "      <th>18</th>\n",
       "      <td>sqft_lot15</td>\n",
       "      <td>651.000</td>\n",
       "      <td>871200.000</td>\n",
       "      <td>870549.000</td>\n",
       "      <td>12786.915</td>\n",
       "      <td>7620.000</td>\n",
       "      <td>27376.615</td>\n",
       "      <td>9.495</td>\n",
       "      <td>150.304</td>\n",
       "    </tr>\n",
       "    <tr>\n",
       "      <th>19</th>\n",
       "      <td>ano</td>\n",
       "      <td>2014.000</td>\n",
       "      <td>2015.000</td>\n",
       "      <td>1.000</td>\n",
       "      <td>2014.325</td>\n",
       "      <td>2014.000</td>\n",
       "      <td>0.468</td>\n",
       "      <td>0.746</td>\n",
       "      <td>-1.443</td>\n",
       "    </tr>\n",
       "    <tr>\n",
       "      <th>20</th>\n",
       "      <td>mes</td>\n",
       "      <td>1.000</td>\n",
       "      <td>12.000</td>\n",
       "      <td>11.000</td>\n",
       "      <td>6.565</td>\n",
       "      <td>6.000</td>\n",
       "      <td>3.118</td>\n",
       "      <td>0.068</td>\n",
       "      <td>-1.011</td>\n",
       "    </tr>\n",
       "    <tr>\n",
       "      <th>21</th>\n",
       "      <td>ano_corrente</td>\n",
       "      <td>2023.000</td>\n",
       "      <td>2023.000</td>\n",
       "      <td>0.000</td>\n",
       "      <td>2023.000</td>\n",
       "      <td>2023.000</td>\n",
       "      <td>0.000</td>\n",
       "      <td>0.000</td>\n",
       "      <td>0.000</td>\n",
       "    </tr>\n",
       "    <tr>\n",
       "      <th>22</th>\n",
       "      <td>idade_imovel</td>\n",
       "      <td>8.000</td>\n",
       "      <td>123.000</td>\n",
       "      <td>115.000</td>\n",
       "      <td>51.898</td>\n",
       "      <td>48.000</td>\n",
       "      <td>29.384</td>\n",
       "      <td>0.475</td>\n",
       "      <td>-0.654</td>\n",
       "    </tr>\n",
       "    <tr>\n",
       "      <th>23</th>\n",
       "      <td>m²_living</td>\n",
       "      <td>26.680</td>\n",
       "      <td>1245.680</td>\n",
       "      <td>1219.000</td>\n",
       "      <td>191.607</td>\n",
       "      <td>176.640</td>\n",
       "      <td>84.559</td>\n",
       "      <td>1.471</td>\n",
       "      <td>5.250</td>\n",
       "    </tr>\n",
       "    <tr>\n",
       "      <th>24</th>\n",
       "      <td>valor_m²_const</td>\n",
       "      <td>952.046</td>\n",
       "      <td>8805.857</td>\n",
       "      <td>7853.811</td>\n",
       "      <td>2877.363</td>\n",
       "      <td>2665.631</td>\n",
       "      <td>1195.295</td>\n",
       "      <td>1.248</td>\n",
       "      <td>2.099</td>\n",
       "    </tr>\n",
       "    <tr>\n",
       "      <th>25</th>\n",
       "      <td>valor_m²_imovel</td>\n",
       "      <td>0.163</td>\n",
       "      <td>2027.209</td>\n",
       "      <td>2027.045</td>\n",
       "      <td>89.285</td>\n",
       "      <td>59.524</td>\n",
       "      <td>94.263</td>\n",
       "      <td>3.153</td>\n",
       "      <td>19.841</td>\n",
       "    </tr>\n",
       "  </tbody>\n",
       "</table>\n",
       "</div>"
      ],
      "text/plain": [
       "          ATRIBUTOS       MIN         MAX       RANGE      MEDIA    MEDIANA  \\\n",
       "0             price 75000.000 7700000.000 7625000.000 541642.379 450000.000   \n",
       "1          bedrooms     0.000      11.000      11.000      3.370      3.000   \n",
       "2         bathrooms     0.000       8.000       8.000      2.117      2.250   \n",
       "3       sqft_living   290.000   13540.000   13250.000   2082.680   1920.000   \n",
       "4          sqft_lot   520.000 1651359.000 1650839.000  15136.819   7614.000   \n",
       "5            floors     1.000       3.500       2.500      1.496      1.500   \n",
       "6        waterfront     0.000       1.000       1.000      0.008      0.000   \n",
       "7              view     0.000       4.000       4.000      0.235      0.000   \n",
       "8         condition     1.000       5.000       4.000      3.410      3.000   \n",
       "9             grade     1.000      13.000      12.000      7.662      7.000   \n",
       "10       sqft_above   290.000    9410.000    9120.000   1791.001   1560.000   \n",
       "11    sqft_basement     0.000    4820.000    4820.000    291.679      0.000   \n",
       "12         yr_built  1900.000    2015.000     115.000   1971.102   1975.000   \n",
       "13     yr_renovated     0.000    2015.000    2015.000     84.742      0.000   \n",
       "14          zipcode 98001.000   98199.000     198.000  98077.863  98065.000   \n",
       "15              lat    47.156      47.778       0.622     47.560     47.572   \n",
       "16             long  -122.519    -121.315       1.204   -122.214   -122.230   \n",
       "17    sqft_living15   399.000    6210.000    5811.000   1988.352   1840.000   \n",
       "18       sqft_lot15   651.000  871200.000  870549.000  12786.915   7620.000   \n",
       "19              ano  2014.000    2015.000       1.000   2014.325   2014.000   \n",
       "20              mes     1.000      12.000      11.000      6.565      6.000   \n",
       "21     ano_corrente  2023.000    2023.000       0.000   2023.000   2023.000   \n",
       "22     idade_imovel     8.000     123.000     115.000     51.898     48.000   \n",
       "23        m²_living    26.680    1245.680    1219.000    191.607    176.640   \n",
       "24   valor_m²_const   952.046    8805.857    7853.811   2877.363   2665.631   \n",
       "25  valor_m²_imovel     0.163    2027.209    2027.045     89.285     59.524   \n",
       "\n",
       "          STD  SKEW_CENTRAL  KURTOSIS  \n",
       "0  367330.321         4.036    34.721  \n",
       "1       0.907         0.518     1.852  \n",
       "2       0.770         0.510     1.292  \n",
       "3     919.123         1.471     5.250  \n",
       "4   41540.430        13.043   284.045  \n",
       "5       0.540         0.610    -0.491  \n",
       "6       0.087        11.337   126.528  \n",
       "7       0.767         3.386    10.828  \n",
       "8       0.650         1.036     0.518  \n",
       "9       1.174         0.770     1.190  \n",
       "10    829.048         1.444     3.394  \n",
       "11    442.689         1.577     2.713  \n",
       "12     29.384        -0.475    -0.654  \n",
       "13    402.449         4.539    18.607  \n",
       "14     53.469         0.408    -0.850  \n",
       "15      0.139        -0.488    -0.674  \n",
       "16      0.141         0.882     1.045  \n",
       "17    685.710         1.106     1.593  \n",
       "18  27376.615         9.495   150.304  \n",
       "19      0.468         0.746    -1.443  \n",
       "20      3.118         0.068    -1.011  \n",
       "21      0.000         0.000     0.000  \n",
       "22     29.384         0.475    -0.654  \n",
       "23     84.559         1.471     5.250  \n",
       "24   1195.295         1.248     2.099  \n",
       "25     94.263         3.153    19.841  "
      ]
     },
     "execution_count": 14,
     "metadata": {},
     "output_type": "execute_result"
    }
   ],
   "source": [
    "# Aplicação dos métodos numpy para produzir métricas centrais e dispersões da méda central\n",
    "tcd1 = pd.DataFrame( num_attributes.apply( np.mean ) ).T \n",
    "tcd2 = pd.DataFrame( num_attributes.apply( np.median ) ).T\n",
    "\n",
    "# Dimensão - std, min, max, range, skew, kurtosis\n",
    "dm1 = pd.DataFrame( num_attributes.apply( np.std )).T \n",
    "dm2 = pd.DataFrame( num_attributes.apply( min )).T \n",
    "dm3 = pd.DataFrame( num_attributes.apply( max )).T \n",
    "dm4 = pd.DataFrame( num_attributes.apply( lambda x: x.max() - x.min())).T \n",
    "dm5 = pd.DataFrame( num_attributes.apply( lambda x: x.skew())).T \n",
    "dm6 = pd.DataFrame( num_attributes.apply( lambda x: x.kurtosis())).T \n",
    "\n",
    "# Concatenando as métricas dos Data Frames para gerar um novo DF. \n",
    "estatistica_descritiva = pd.concat([dm2, dm3, dm4, tcd1, tcd2, dm1, dm5, dm6]).T.reset_index() \n",
    "estatistica_descritiva.columns = ['ATRIBUTOS', 'MIN', 'MAX', 'RANGE', 'MEDIA', 'MEDIANA', 'STD', 'SKEW_CENTRAL', 'KURTOSIS']\n",
    "\n",
    "print('')\n",
    "print('DESCRITIVO ESTATÍSTICO COM MÉTODOS SKEW E KURTOSIS DAS MÉTRICAS DE DISPERSÃO E CENTRAIS'.center(110))\n",
    "print(\"\")\n",
    "\n",
    "# Imprimindo o dataset concatenado para ser consumido\n",
    "estatistica_descritiva"
   ]
  },
  {
   "cell_type": "code",
   "execution_count": 15,
   "id": "5747831f-236a-456b-bc39-b72a679c134a",
   "metadata": {},
   "outputs": [
    {
     "data": {
      "image/png": "[encoded data removed]",
      "text/plain": [
       "<Figure size 1500x700 with 9 Axes>"
      ]
     },
     "metadata": {},
     "output_type": "display_data"
    }
   ],
   "source": [
    "# Plot the histogram of numeric variables\n",
    "\n",
    "estatistica_descritiva.hist(bins=15,figsize=(15,7), color='lightblue',grid=False);\n",
    "plt.tight_layout()"
   ]
  },
  {
   "cell_type": "markdown",
   "id": "72ea4311-55db-416f-8233-78dd58fdc397",
   "metadata": {},
   "source": [
    "### Análise das feactures com series temporais"
   ]
  },
  {
   "cell_type": "code",
   "execution_count": 16,
   "id": "6d24daff-103e-461a-84d5-7b52ad3fc55e",
   "metadata": {
    "tags": []
   },
   "outputs": [],
   "source": [
    "# Criando agrupamentos com média por data ( ano, e mês )\n",
    "\n",
    "avg_price_date = df_kc.groupby('date').mean() \n",
    "avg_price_date = avg_price_date.reset_index() \n",
    "\n",
    "avg_price_year = df_kc.groupby('ano').mean() \n",
    "avg_price_year = avg_price_year.reset_index() \n",
    "\n",
    "avg_price_month = df_kc.groupby('mes').mean() \n",
    "avg_price_month = avg_price_month.reset_index() \n"
   ]
  },
  {
   "cell_type": "code",
   "execution_count": 17,
   "id": "555f62fa-2f9d-47b1-b162-7f60f5c49051",
   "metadata": {
    "tags": []
   },
   "outputs": [
    {
     "data": {
      "text/plain": [
       "<Figure size 800x550 with 0 Axes>"
      ]
     },
     "metadata": {},
     "output_type": "display_data"
    },
    {
     "data": {
      "image/png": "[encoded data removed]",
      "text/plain": [
       "<Figure size 1600x700 with 3 Axes>"
      ]
     },
     "metadata": {},
     "output_type": "display_data"
    }
   ],
   "source": [
    "# Plotando gráficos com as médias dos parâmetros criados acima.\n",
    "\n",
    "fig3 = plt.figure(constrained_layout=True)\n",
    "fig3 = plt.figure(figsize=(16,7));\n",
    "\n",
    "gs = fig3.add_gridspec(2, 3) # Número de colunas para plotagem\n",
    "graph1 = fig3.add_subplot(gs[0, :]) # Plot 01\n",
    "graph1.set_title('CENARIZAÇÃO DAS MÉDIAS DE VENDAS ANO E MÊS', fontsize=10, color='Black')\n",
    "graph1 = plt.plot(avg_price_date['date'], avg_price_date['price'],color='blue');\n",
    "\n",
    "\n",
    "graph2 = fig3.add_subplot(gs[1, :-1])\n",
    "graph2.set_title('CENARIZAÇÃO MÉDIA MÊS', fontsize=10, color='Black')\n",
    "graph2 = plt.plot(avg_price_month['mes'], avg_price_month['price'],color='purple')\n",
    "graph2 = plt.xlabel('mes');\n",
    "\n",
    "\n",
    "graph3 = fig3.add_subplot(gs[1:, -1])\n",
    "graph3.set_title('MÉDIA VENDAS ANO', fontsize=10, color='Black')\n",
    "graph3 = plt.bar(avg_price_year['ano'], avg_price_year['price'],color='orange')\n",
    "graph3 = plt.xlabel('ano')\n",
    "graph3 = plt.xticks(avg_price_year['ano']); # Alterando o eixo \"axis\"\n",
    "# fig3 = fig3; \n",
    "\n",
    "fig3.show();\n",
    "\n"
   ]
  },
  {
   "cell_type": "markdown",
   "id": "5f8559df-168d-4086-90c9-8273b6bdee56",
   "metadata": {
    "id": "5f8559df-168d-4086-90c9-8273b6bdee56"
   },
   "source": [
    "___\n",
    "### Análise Exploratória para entendermos como os dados estão distribuidos, seus atributos e suas relações\n",
    "\n",
    "  - Primeira impressão dos dados: nem sempre a casa com maior número de quartos é a mais cara, assim como o maior preço não tem o maior número de quartos, no mínimo (curioso), precisamos investigar mais a fundo esse fenômeno, talvez haja a necessidade de fazer eng. de atributos nesse conj. de dados.\n",
    "   - Aplicarei um filtro para entendimento das relações entre quartos e preços, bem como área construida e localização dos imóveis \n",
    "___"
   ]
  },
  {
   "cell_type": "code",
   "execution_count": 18,
   "id": "20751c08-114c-4be3-a5f6-a7ee11029eb4",
   "metadata": {
    "id": "20751c08-114c-4be3-a5f6-a7ee11029eb4",
    "outputId": "b4b0eda6-980d-4ad4-eeb8-baed3a77e3e2"
   },
   "outputs": [
    {
     "data": {
      "text/html": [
       "<div>\n",
       "<style scoped>\n",
       "    .dataframe tbody tr th:only-of-type {\n",
       "        vertical-align: middle;\n",
       "    }\n",
       "\n",
       "    .dataframe tbody tr th {\n",
       "        vertical-align: top;\n",
       "    }\n",
       "\n",
       "    .dataframe thead th {\n",
       "        text-align: right;\n",
       "    }\n",
       "</style>\n",
       "<table border=\"1\" class=\"dataframe\">\n",
       "  <thead>\n",
       "    <tr style=\"text-align: right;\">\n",
       "      <th></th>\n",
       "      <th>price</th>\n",
       "      <th>bedrooms</th>\n",
       "      <th>bathrooms</th>\n",
       "      <th>sqft_living</th>\n",
       "      <th>sqft_lot</th>\n",
       "      <th>floors</th>\n",
       "      <th>waterfront</th>\n",
       "      <th>view</th>\n",
       "      <th>condition</th>\n",
       "      <th>grade</th>\n",
       "      <th>sqft_above</th>\n",
       "      <th>sqft_basement</th>\n",
       "      <th>yr_built</th>\n",
       "      <th>yr_renovated</th>\n",
       "      <th>zipcode</th>\n",
       "      <th>lat</th>\n",
       "      <th>long</th>\n",
       "      <th>sqft_living15</th>\n",
       "      <th>sqft_lot15</th>\n",
       "      <th>ano</th>\n",
       "      <th>mes</th>\n",
       "      <th>ano_corrente</th>\n",
       "      <th>idade_imovel</th>\n",
       "      <th>m²_living</th>\n",
       "      <th>valor_m²_const</th>\n",
       "      <th>valor_m²_imovel</th>\n",
       "    </tr>\n",
       "  </thead>\n",
       "  <tbody>\n",
       "    <tr>\n",
       "      <th>mean</th>\n",
       "      <td>541642.379</td>\n",
       "      <td>3.370</td>\n",
       "      <td>2.117</td>\n",
       "      <td>2082.680</td>\n",
       "      <td>15136.819</td>\n",
       "      <td>1.496</td>\n",
       "      <td>0.008</td>\n",
       "      <td>0.235</td>\n",
       "      <td>3.410</td>\n",
       "      <td>7.662</td>\n",
       "      <td>1791.001</td>\n",
       "      <td>291.679</td>\n",
       "      <td>1971.102</td>\n",
       "      <td>84.742</td>\n",
       "      <td>98077.863</td>\n",
       "      <td>47.560</td>\n",
       "      <td>-122.214</td>\n",
       "      <td>1988.352</td>\n",
       "      <td>12786.915</td>\n",
       "      <td>2014.325</td>\n",
       "      <td>6.565</td>\n",
       "      <td>2023.000</td>\n",
       "      <td>51.898</td>\n",
       "      <td>191.607</td>\n",
       "      <td>2877.363</td>\n",
       "      <td>89.285</td>\n",
       "    </tr>\n",
       "    <tr>\n",
       "      <th>std</th>\n",
       "      <td>367338.891</td>\n",
       "      <td>0.907</td>\n",
       "      <td>0.770</td>\n",
       "      <td>919.144</td>\n",
       "      <td>41541.399</td>\n",
       "      <td>0.540</td>\n",
       "      <td>0.087</td>\n",
       "      <td>0.767</td>\n",
       "      <td>0.650</td>\n",
       "      <td>1.174</td>\n",
       "      <td>829.067</td>\n",
       "      <td>442.700</td>\n",
       "      <td>29.384</td>\n",
       "      <td>402.458</td>\n",
       "      <td>53.470</td>\n",
       "      <td>0.139</td>\n",
       "      <td>0.141</td>\n",
       "      <td>685.726</td>\n",
       "      <td>27377.254</td>\n",
       "      <td>0.468</td>\n",
       "      <td>3.118</td>\n",
       "      <td>0.000</td>\n",
       "      <td>29.384</td>\n",
       "      <td>84.561</td>\n",
       "      <td>1195.323</td>\n",
       "      <td>94.266</td>\n",
       "    </tr>\n",
       "    <tr>\n",
       "      <th>min</th>\n",
       "      <td>75000.000</td>\n",
       "      <td>0.000</td>\n",
       "      <td>0.000</td>\n",
       "      <td>290.000</td>\n",
       "      <td>520.000</td>\n",
       "      <td>1.000</td>\n",
       "      <td>0.000</td>\n",
       "      <td>0.000</td>\n",
       "      <td>1.000</td>\n",
       "      <td>1.000</td>\n",
       "      <td>290.000</td>\n",
       "      <td>0.000</td>\n",
       "      <td>1900.000</td>\n",
       "      <td>0.000</td>\n",
       "      <td>98001.000</td>\n",
       "      <td>47.156</td>\n",
       "      <td>-122.519</td>\n",
       "      <td>399.000</td>\n",
       "      <td>651.000</td>\n",
       "      <td>2014.000</td>\n",
       "      <td>1.000</td>\n",
       "      <td>2023.000</td>\n",
       "      <td>8.000</td>\n",
       "      <td>26.680</td>\n",
       "      <td>952.046</td>\n",
       "      <td>0.163</td>\n",
       "    </tr>\n",
       "    <tr>\n",
       "      <th>25%</th>\n",
       "      <td>324800.000</td>\n",
       "      <td>3.000</td>\n",
       "      <td>1.750</td>\n",
       "      <td>1430.000</td>\n",
       "      <td>5040.000</td>\n",
       "      <td>1.000</td>\n",
       "      <td>0.000</td>\n",
       "      <td>0.000</td>\n",
       "      <td>3.000</td>\n",
       "      <td>7.000</td>\n",
       "      <td>1200.000</td>\n",
       "      <td>0.000</td>\n",
       "      <td>1952.000</td>\n",
       "      <td>0.000</td>\n",
       "      <td>98033.000</td>\n",
       "      <td>47.471</td>\n",
       "      <td>-122.328</td>\n",
       "      <td>1490.000</td>\n",
       "      <td>5100.000</td>\n",
       "      <td>2014.000</td>\n",
       "      <td>4.000</td>\n",
       "      <td>2023.000</td>\n",
       "      <td>26.000</td>\n",
       "      <td>131.560</td>\n",
       "      <td>1988.109</td>\n",
       "      <td>33.505</td>\n",
       "    </tr>\n",
       "    <tr>\n",
       "      <th>50%</th>\n",
       "      <td>450000.000</td>\n",
       "      <td>3.000</td>\n",
       "      <td>2.250</td>\n",
       "      <td>1920.000</td>\n",
       "      <td>7614.000</td>\n",
       "      <td>1.500</td>\n",
       "      <td>0.000</td>\n",
       "      <td>0.000</td>\n",
       "      <td>3.000</td>\n",
       "      <td>7.000</td>\n",
       "      <td>1560.000</td>\n",
       "      <td>0.000</td>\n",
       "      <td>1975.000</td>\n",
       "      <td>0.000</td>\n",
       "      <td>98065.000</td>\n",
       "      <td>47.572</td>\n",
       "      <td>-122.230</td>\n",
       "      <td>1840.000</td>\n",
       "      <td>7620.000</td>\n",
       "      <td>2014.000</td>\n",
       "      <td>6.000</td>\n",
       "      <td>2023.000</td>\n",
       "      <td>48.000</td>\n",
       "      <td>176.640</td>\n",
       "      <td>2665.631</td>\n",
       "      <td>59.524</td>\n",
       "    </tr>\n",
       "    <tr>\n",
       "      <th>75%</th>\n",
       "      <td>645000.000</td>\n",
       "      <td>4.000</td>\n",
       "      <td>2.500</td>\n",
       "      <td>2550.000</td>\n",
       "      <td>10697.000</td>\n",
       "      <td>2.000</td>\n",
       "      <td>0.000</td>\n",
       "      <td>0.000</td>\n",
       "      <td>4.000</td>\n",
       "      <td>8.000</td>\n",
       "      <td>2220.000</td>\n",
       "      <td>560.000</td>\n",
       "      <td>1997.000</td>\n",
       "      <td>0.000</td>\n",
       "      <td>98117.000</td>\n",
       "      <td>47.678</td>\n",
       "      <td>-122.124</td>\n",
       "      <td>2370.000</td>\n",
       "      <td>10088.000</td>\n",
       "      <td>2015.000</td>\n",
       "      <td>9.000</td>\n",
       "      <td>2023.000</td>\n",
       "      <td>71.000</td>\n",
       "      <td>234.600</td>\n",
       "      <td>3464.122</td>\n",
       "      <td>107.860</td>\n",
       "    </tr>\n",
       "    <tr>\n",
       "      <th>max</th>\n",
       "      <td>7700000.000</td>\n",
       "      <td>11.000</td>\n",
       "      <td>8.000</td>\n",
       "      <td>13540.000</td>\n",
       "      <td>1651359.000</td>\n",
       "      <td>3.500</td>\n",
       "      <td>1.000</td>\n",
       "      <td>4.000</td>\n",
       "      <td>5.000</td>\n",
       "      <td>13.000</td>\n",
       "      <td>9410.000</td>\n",
       "      <td>4820.000</td>\n",
       "      <td>2015.000</td>\n",
       "      <td>2015.000</td>\n",
       "      <td>98199.000</td>\n",
       "      <td>47.778</td>\n",
       "      <td>-121.315</td>\n",
       "      <td>6210.000</td>\n",
       "      <td>871200.000</td>\n",
       "      <td>2015.000</td>\n",
       "      <td>12.000</td>\n",
       "      <td>2023.000</td>\n",
       "      <td>123.000</td>\n",
       "      <td>1245.680</td>\n",
       "      <td>8805.857</td>\n",
       "      <td>2027.209</td>\n",
       "    </tr>\n",
       "  </tbody>\n",
       "</table>\n",
       "</div>"
      ],
      "text/plain": [
       "           price  bedrooms  bathrooms  sqft_living    sqft_lot  floors  \\\n",
       "mean  541642.379     3.370      2.117     2082.680   15136.819   1.496   \n",
       "std   367338.891     0.907      0.770      919.144   41541.399   0.540   \n",
       "min    75000.000     0.000      0.000      290.000     520.000   1.000   \n",
       "25%   324800.000     3.000      1.750     1430.000    5040.000   1.000   \n",
       "50%   450000.000     3.000      2.250     1920.000    7614.000   1.500   \n",
       "75%   645000.000     4.000      2.500     2550.000   10697.000   2.000   \n",
       "max  7700000.000    11.000      8.000    13540.000 1651359.000   3.500   \n",
       "\n",
       "      waterfront  view  condition  grade  sqft_above  sqft_basement  yr_built  \\\n",
       "mean       0.008 0.235      3.410  7.662    1791.001        291.679  1971.102   \n",
       "std        0.087 0.767      0.650  1.174     829.067        442.700    29.384   \n",
       "min        0.000 0.000      1.000  1.000     290.000          0.000  1900.000   \n",
       "25%        0.000 0.000      3.000  7.000    1200.000          0.000  1952.000   \n",
       "50%        0.000 0.000      3.000  7.000    1560.000          0.000  1975.000   \n",
       "75%        0.000 0.000      4.000  8.000    2220.000        560.000  1997.000   \n",
       "max        1.000 4.000      5.000 13.000    9410.000       4820.000  2015.000   \n",
       "\n",
       "      yr_renovated   zipcode    lat     long  sqft_living15  sqft_lot15  \\\n",
       "mean        84.742 98077.863 47.560 -122.214       1988.352   12786.915   \n",
       "std        402.458    53.470  0.139    0.141        685.726   27377.254   \n",
       "min          0.000 98001.000 47.156 -122.519        399.000     651.000   \n",
       "25%          0.000 98033.000 47.471 -122.328       1490.000    5100.000   \n",
       "50%          0.000 98065.000 47.572 -122.230       1840.000    7620.000   \n",
       "75%          0.000 98117.000 47.678 -122.124       2370.000   10088.000   \n",
       "max       2015.000 98199.000 47.778 -121.315       6210.000  871200.000   \n",
       "\n",
       "          ano    mes  ano_corrente  idade_imovel  m²_living  valor_m²_const  \\\n",
       "mean 2014.325  6.565      2023.000        51.898    191.607        2877.363   \n",
       "std     0.468  3.118         0.000        29.384     84.561        1195.323   \n",
       "min  2014.000  1.000      2023.000         8.000     26.680         952.046   \n",
       "25%  2014.000  4.000      2023.000        26.000    131.560        1988.109   \n",
       "50%  2014.000  6.000      2023.000        48.000    176.640        2665.631   \n",
       "75%  2015.000  9.000      2023.000        71.000    234.600        3464.122   \n",
       "max  2015.000 12.000      2023.000       123.000   1245.680        8805.857   \n",
       "\n",
       "      valor_m²_imovel  \n",
       "mean           89.285  \n",
       "std            94.266  \n",
       "min             0.163  \n",
       "25%            33.505  \n",
       "50%            59.524  \n",
       "75%           107.860  \n",
       "max          2027.209  "
      ]
     },
     "execution_count": 18,
     "metadata": {},
     "output_type": "execute_result"
    }
   ],
   "source": [
    "# Anaálise estatística do conjunto de dados, e aliminação da variável que é criada COUNT logo acima da variável mean, essa contategem é redundante e desnecessária nesse momento\n",
    "# Logo podemos observar alguns dados discrepantes, por exempplo, casa com 33 quartos, será? Até pode ter, mas esse imóvel acaba comprometendo as métricas e médias em gereal, vamos\n",
    "# investigar melhor o número de \"OUTLIERS\" e faremos a Eng. de Atributos, limpando, filtrando e muito mais.\n",
    "\n",
    "df_kc.describe().drop(['count']).iloc[  :, 1: ]"
   ]
  },
  {
   "cell_type": "markdown",
   "id": "a11ca4e1-a25d-494d-9c56-bd91cd2d20e0",
   "metadata": {},
   "source": [
    "### Gerando `\"Matrix\"` de Corelação das Principais `Variáveis` para entendimento das `correlações`\n",
    "\n",
    "  - Objetivo: entender como as variáveis estão correlacinadas, o quanto estão para que eu possa fazer engenharia de atritutos com maior clareza\n",
    "  \n",
    "  - Para os procedimentos do pipeline de Machine Learning são basicamente em torno de 7 micro processos que precisamos adotar e um deles e talvez o mais importante é conhecer bem o Dataset e suas variáveis.\n",
    "  - Em Data Science, as colunas tratamos como variáveis e as linhas como observações, linguagem subjetiva de Data Scientist\n",
    "  - Atributos é o que podemos chamar de característica das variáveis, detalhes que farão a difereça conhecer para entendimento de regras de negócios.\n",
    "  - Para uma melhor classificação, precisamos observar principalmente as variávei quantitativas e qualitativas, que deverão ser análisadas antes de qualquer manipulação ou engenharia dos dados, como por exemplo se ordinais ou nominais, sua divisão se dá em ( categóricas e numéricas )"
   ]
  },
  {
   "cell_type": "code",
   "execution_count": 19,
   "id": "a23a9bcc-b2e4-4ada-8bf1-793e6dd05546",
   "metadata": {},
   "outputs": [],
   "source": [
    "# Matrix de correlação utiliando método de análise e estatística de correlação \"pearson\"\n",
    "\n",
    "df_corr = df_kc[[\n",
    "                 'price', 'bedrooms', 'bathrooms', 'sqft_living15', 'sqft_living', 'floors', 'idade_imovel',\n",
    "                 'm²_living','sqft_lot','grade', 'yr_built', 'yr_renovated', 'condition', 'valor_m²_const', 'valor_m²_imovel'\n",
    "               ]]"
   ]
  },
  {
   "cell_type": "code",
   "execution_count": 20,
   "id": "5ff4ab76-1fa0-4c84-adb5-295bfbde90ff",
   "metadata": {},
   "outputs": [
    {
     "data": {
      "text/html": [
       "<div>\n",
       "<style scoped>\n",
       "    .dataframe tbody tr th:only-of-type {\n",
       "        vertical-align: middle;\n",
       "    }\n",
       "\n",
       "    .dataframe tbody tr th {\n",
       "        vertical-align: top;\n",
       "    }\n",
       "\n",
       "    .dataframe thead th {\n",
       "        text-align: right;\n",
       "    }\n",
       "</style>\n",
       "<table border=\"1\" class=\"dataframe\">\n",
       "  <thead>\n",
       "    <tr style=\"text-align: right;\">\n",
       "      <th></th>\n",
       "      <th>price</th>\n",
       "      <th>bedrooms</th>\n",
       "      <th>bathrooms</th>\n",
       "      <th>sqft_living15</th>\n",
       "      <th>sqft_living</th>\n",
       "      <th>floors</th>\n",
       "      <th>idade_imovel</th>\n",
       "      <th>m²_living</th>\n",
       "      <th>sqft_lot</th>\n",
       "      <th>grade</th>\n",
       "      <th>yr_built</th>\n",
       "      <th>yr_renovated</th>\n",
       "      <th>condition</th>\n",
       "      <th>valor_m²_const</th>\n",
       "      <th>valor_m²_imovel</th>\n",
       "    </tr>\n",
       "  </thead>\n",
       "  <tbody>\n",
       "    <tr>\n",
       "      <th>price</th>\n",
       "      <td>1.000</td>\n",
       "      <td>0.316</td>\n",
       "      <td>0.524</td>\n",
       "      <td>0.584</td>\n",
       "      <td>0.701</td>\n",
       "      <td>0.255</td>\n",
       "      <td>-0.051</td>\n",
       "      <td>0.701</td>\n",
       "      <td>0.089</td>\n",
       "      <td>0.666</td>\n",
       "      <td>0.051</td>\n",
       "      <td>0.127</td>\n",
       "      <td>0.035</td>\n",
       "      <td>0.553</td>\n",
       "      <td>0.306</td>\n",
       "    </tr>\n",
       "    <tr>\n",
       "      <th>bedrooms</th>\n",
       "      <td>0.316</td>\n",
       "      <td>1.000</td>\n",
       "      <td>0.530</td>\n",
       "      <td>0.404</td>\n",
       "      <td>0.593</td>\n",
       "      <td>0.181</td>\n",
       "      <td>-0.159</td>\n",
       "      <td>0.593</td>\n",
       "      <td>0.033</td>\n",
       "      <td>0.368</td>\n",
       "      <td>0.159</td>\n",
       "      <td>0.019</td>\n",
       "      <td>0.025</td>\n",
       "      <td>-0.214</td>\n",
       "      <td>-0.065</td>\n",
       "    </tr>\n",
       "    <tr>\n",
       "      <th>bathrooms</th>\n",
       "      <td>0.524</td>\n",
       "      <td>0.530</td>\n",
       "      <td>1.000</td>\n",
       "      <td>0.568</td>\n",
       "      <td>0.754</td>\n",
       "      <td>0.500</td>\n",
       "      <td>-0.505</td>\n",
       "      <td>0.754</td>\n",
       "      <td>0.087</td>\n",
       "      <td>0.665</td>\n",
       "      <td>0.505</td>\n",
       "      <td>0.051</td>\n",
       "      <td>-0.128</td>\n",
       "      <td>-0.095</td>\n",
       "      <td>0.200</td>\n",
       "    </tr>\n",
       "    <tr>\n",
       "      <th>sqft_living15</th>\n",
       "      <td>0.584</td>\n",
       "      <td>0.404</td>\n",
       "      <td>0.568</td>\n",
       "      <td>1.000</td>\n",
       "      <td>0.756</td>\n",
       "      <td>0.279</td>\n",
       "      <td>-0.325</td>\n",
       "      <td>0.756</td>\n",
       "      <td>0.144</td>\n",
       "      <td>0.712</td>\n",
       "      <td>0.325</td>\n",
       "      <td>-0.003</td>\n",
       "      <td>-0.095</td>\n",
       "      <td>0.035</td>\n",
       "      <td>-0.047</td>\n",
       "    </tr>\n",
       "    <tr>\n",
       "      <th>sqft_living</th>\n",
       "      <td>0.701</td>\n",
       "      <td>0.593</td>\n",
       "      <td>0.754</td>\n",
       "      <td>0.756</td>\n",
       "      <td>1.000</td>\n",
       "      <td>0.353</td>\n",
       "      <td>-0.317</td>\n",
       "      <td>1.000</td>\n",
       "      <td>0.172</td>\n",
       "      <td>0.762</td>\n",
       "      <td>0.317</td>\n",
       "      <td>0.055</td>\n",
       "      <td>-0.061</td>\n",
       "      <td>-0.096</td>\n",
       "      <td>0.020</td>\n",
       "    </tr>\n",
       "    <tr>\n",
       "      <th>floors</th>\n",
       "      <td>0.255</td>\n",
       "      <td>0.181</td>\n",
       "      <td>0.500</td>\n",
       "      <td>0.279</td>\n",
       "      <td>0.353</td>\n",
       "      <td>1.000</td>\n",
       "      <td>-0.489</td>\n",
       "      <td>0.353</td>\n",
       "      <td>-0.006</td>\n",
       "      <td>0.457</td>\n",
       "      <td>0.489</td>\n",
       "      <td>0.006</td>\n",
       "      <td>-0.267</td>\n",
       "      <td>0.001</td>\n",
       "      <td>0.477</td>\n",
       "    </tr>\n",
       "    <tr>\n",
       "      <th>idade_imovel</th>\n",
       "      <td>-0.051</td>\n",
       "      <td>-0.159</td>\n",
       "      <td>-0.505</td>\n",
       "      <td>-0.325</td>\n",
       "      <td>-0.317</td>\n",
       "      <td>-0.489</td>\n",
       "      <td>1.000</td>\n",
       "      <td>-0.317</td>\n",
       "      <td>-0.052</td>\n",
       "      <td>-0.445</td>\n",
       "      <td>-1.000</td>\n",
       "      <td>0.226</td>\n",
       "      <td>0.365</td>\n",
       "      <td>0.295</td>\n",
       "      <td>-0.123</td>\n",
       "    </tr>\n",
       "    <tr>\n",
       "      <th>m²_living</th>\n",
       "      <td>0.701</td>\n",
       "      <td>0.593</td>\n",
       "      <td>0.754</td>\n",
       "      <td>0.756</td>\n",
       "      <td>1.000</td>\n",
       "      <td>0.353</td>\n",
       "      <td>-0.317</td>\n",
       "      <td>1.000</td>\n",
       "      <td>0.172</td>\n",
       "      <td>0.762</td>\n",
       "      <td>0.317</td>\n",
       "      <td>0.055</td>\n",
       "      <td>-0.061</td>\n",
       "      <td>-0.096</td>\n",
       "      <td>0.020</td>\n",
       "    </tr>\n",
       "    <tr>\n",
       "      <th>sqft_lot</th>\n",
       "      <td>0.089</td>\n",
       "      <td>0.033</td>\n",
       "      <td>0.087</td>\n",
       "      <td>0.144</td>\n",
       "      <td>0.172</td>\n",
       "      <td>-0.006</td>\n",
       "      <td>-0.052</td>\n",
       "      <td>0.172</td>\n",
       "      <td>1.000</td>\n",
       "      <td>0.113</td>\n",
       "      <td>0.052</td>\n",
       "      <td>0.008</td>\n",
       "      <td>-0.009</td>\n",
       "      <td>-0.035</td>\n",
       "      <td>-0.207</td>\n",
       "    </tr>\n",
       "    <tr>\n",
       "      <th>grade</th>\n",
       "      <td>0.666</td>\n",
       "      <td>0.368</td>\n",
       "      <td>0.665</td>\n",
       "      <td>0.712</td>\n",
       "      <td>0.762</td>\n",
       "      <td>0.457</td>\n",
       "      <td>-0.445</td>\n",
       "      <td>0.762</td>\n",
       "      <td>0.113</td>\n",
       "      <td>1.000</td>\n",
       "      <td>0.445</td>\n",
       "      <td>0.014</td>\n",
       "      <td>-0.148</td>\n",
       "      <td>0.119</td>\n",
       "      <td>0.216</td>\n",
       "    </tr>\n",
       "    <tr>\n",
       "      <th>yr_built</th>\n",
       "      <td>0.051</td>\n",
       "      <td>0.159</td>\n",
       "      <td>0.505</td>\n",
       "      <td>0.325</td>\n",
       "      <td>0.317</td>\n",
       "      <td>0.489</td>\n",
       "      <td>-1.000</td>\n",
       "      <td>0.317</td>\n",
       "      <td>0.052</td>\n",
       "      <td>0.445</td>\n",
       "      <td>1.000</td>\n",
       "      <td>-0.226</td>\n",
       "      <td>-0.365</td>\n",
       "      <td>-0.295</td>\n",
       "      <td>0.123</td>\n",
       "    </tr>\n",
       "    <tr>\n",
       "      <th>yr_renovated</th>\n",
       "      <td>0.127</td>\n",
       "      <td>0.019</td>\n",
       "      <td>0.051</td>\n",
       "      <td>-0.003</td>\n",
       "      <td>0.055</td>\n",
       "      <td>0.006</td>\n",
       "      <td>0.226</td>\n",
       "      <td>0.055</td>\n",
       "      <td>0.008</td>\n",
       "      <td>0.014</td>\n",
       "      <td>-0.226</td>\n",
       "      <td>1.000</td>\n",
       "      <td>-0.061</td>\n",
       "      <td>0.106</td>\n",
       "      <td>0.037</td>\n",
       "    </tr>\n",
       "    <tr>\n",
       "      <th>condition</th>\n",
       "      <td>0.035</td>\n",
       "      <td>0.025</td>\n",
       "      <td>-0.128</td>\n",
       "      <td>-0.095</td>\n",
       "      <td>-0.061</td>\n",
       "      <td>-0.267</td>\n",
       "      <td>0.365</td>\n",
       "      <td>-0.061</td>\n",
       "      <td>-0.009</td>\n",
       "      <td>-0.148</td>\n",
       "      <td>-0.365</td>\n",
       "      <td>-0.061</td>\n",
       "      <td>1.000</td>\n",
       "      <td>0.101</td>\n",
       "      <td>-0.087</td>\n",
       "    </tr>\n",
       "    <tr>\n",
       "      <th>valor_m²_const</th>\n",
       "      <td>0.553</td>\n",
       "      <td>-0.214</td>\n",
       "      <td>-0.095</td>\n",
       "      <td>0.035</td>\n",
       "      <td>-0.096</td>\n",
       "      <td>0.001</td>\n",
       "      <td>0.295</td>\n",
       "      <td>-0.096</td>\n",
       "      <td>-0.035</td>\n",
       "      <td>0.119</td>\n",
       "      <td>-0.295</td>\n",
       "      <td>0.106</td>\n",
       "      <td>0.101</td>\n",
       "      <td>1.000</td>\n",
       "      <td>0.449</td>\n",
       "    </tr>\n",
       "    <tr>\n",
       "      <th>valor_m²_imovel</th>\n",
       "      <td>0.306</td>\n",
       "      <td>-0.065</td>\n",
       "      <td>0.200</td>\n",
       "      <td>-0.047</td>\n",
       "      <td>0.020</td>\n",
       "      <td>0.477</td>\n",
       "      <td>-0.123</td>\n",
       "      <td>0.020</td>\n",
       "      <td>-0.207</td>\n",
       "      <td>0.216</td>\n",
       "      <td>0.123</td>\n",
       "      <td>0.037</td>\n",
       "      <td>-0.087</td>\n",
       "      <td>0.449</td>\n",
       "      <td>1.000</td>\n",
       "    </tr>\n",
       "  </tbody>\n",
       "</table>\n",
       "</div>"
      ],
      "text/plain": [
       "                 price  bedrooms  bathrooms  sqft_living15  sqft_living  \\\n",
       "price            1.000     0.316      0.524          0.584        0.701   \n",
       "bedrooms         0.316     1.000      0.530          0.404        0.593   \n",
       "bathrooms        0.524     0.530      1.000          0.568        0.754   \n",
       "sqft_living15    0.584     0.404      0.568          1.000        0.756   \n",
       "sqft_living      0.701     0.593      0.754          0.756        1.000   \n",
       "floors           0.255     0.181      0.500          0.279        0.353   \n",
       "idade_imovel    -0.051    -0.159     -0.505         -0.325       -0.317   \n",
       "m²_living        0.701     0.593      0.754          0.756        1.000   \n",
       "sqft_lot         0.089     0.033      0.087          0.144        0.172   \n",
       "grade            0.666     0.368      0.665          0.712        0.762   \n",
       "yr_built         0.051     0.159      0.505          0.325        0.317   \n",
       "yr_renovated     0.127     0.019      0.051         -0.003        0.055   \n",
       "condition        0.035     0.025     -0.128         -0.095       -0.061   \n",
       "valor_m²_const   0.553    -0.214     -0.095          0.035       -0.096   \n",
       "valor_m²_imovel  0.306    -0.065      0.200         -0.047        0.020   \n",
       "\n",
       "                 floors  idade_imovel  m²_living  sqft_lot  grade  yr_built  \\\n",
       "price             0.255        -0.051      0.701     0.089  0.666     0.051   \n",
       "bedrooms          0.181        -0.159      0.593     0.033  0.368     0.159   \n",
       "bathrooms         0.500        -0.505      0.754     0.087  0.665     0.505   \n",
       "sqft_living15     0.279        -0.325      0.756     0.144  0.712     0.325   \n",
       "sqft_living       0.353        -0.317      1.000     0.172  0.762     0.317   \n",
       "floors            1.000        -0.489      0.353    -0.006  0.457     0.489   \n",
       "idade_imovel     -0.489         1.000     -0.317    -0.052 -0.445    -1.000   \n",
       "m²_living         0.353        -0.317      1.000     0.172  0.762     0.317   \n",
       "sqft_lot         -0.006        -0.052      0.172     1.000  0.113     0.052   \n",
       "grade             0.457        -0.445      0.762     0.113  1.000     0.445   \n",
       "yr_built          0.489        -1.000      0.317     0.052  0.445     1.000   \n",
       "yr_renovated      0.006         0.226      0.055     0.008  0.014    -0.226   \n",
       "condition        -0.267         0.365     -0.061    -0.009 -0.148    -0.365   \n",
       "valor_m²_const    0.001         0.295     -0.096    -0.035  0.119    -0.295   \n",
       "valor_m²_imovel   0.477        -0.123      0.020    -0.207  0.216     0.123   \n",
       "\n",
       "                 yr_renovated  condition  valor_m²_const  valor_m²_imovel  \n",
       "price                   0.127      0.035           0.553            0.306  \n",
       "bedrooms                0.019      0.025          -0.214           -0.065  \n",
       "bathrooms               0.051     -0.128          -0.095            0.200  \n",
       "sqft_living15          -0.003     -0.095           0.035           -0.047  \n",
       "sqft_living             0.055     -0.061          -0.096            0.020  \n",
       "floors                  0.006     -0.267           0.001            0.477  \n",
       "idade_imovel            0.226      0.365           0.295           -0.123  \n",
       "m²_living               0.055     -0.061          -0.096            0.020  \n",
       "sqft_lot                0.008     -0.009          -0.035           -0.207  \n",
       "grade                   0.014     -0.148           0.119            0.216  \n",
       "yr_built               -0.226     -0.365          -0.295            0.123  \n",
       "yr_renovated            1.000     -0.061           0.106            0.037  \n",
       "condition              -0.061      1.000           0.101           -0.087  \n",
       "valor_m²_const          0.106      0.101           1.000            0.449  \n",
       "valor_m²_imovel         0.037     -0.087           0.449            1.000  "
      ]
     },
     "metadata": {},
     "output_type": "display_data"
    }
   ],
   "source": [
    "# \"Matriz Pearson\"\n",
    "\n",
    "display(df_corr.corr( method='pearson' ))"
   ]
  },
  {
   "cell_type": "code",
   "execution_count": 21,
   "id": "7b3524b7-ddb8-4c93-bf57-fb5a12ca585f",
   "metadata": {},
   "outputs": [
    {
     "data": {
      "application/javascript": [
       "\n",
       "        if (window._pyforest_update_imports_cell) { window._pyforest_update_imports_cell('import seaborn as sns\\nimport sys'); }\n",
       "    "
      ],
      "text/plain": [
       "<IPython.core.display.Javascript object>"
      ]
     },
     "metadata": {},
     "output_type": "display_data"
    },
    {
     "data": {
      "application/javascript": [
       "\n",
       "        if (window._pyforest_update_imports_cell) { window._pyforest_update_imports_cell('import seaborn as sns\\nimport sys'); }\n",
       "    "
      ],
      "text/plain": [
       "<IPython.core.display.Javascript object>"
      ]
     },
     "metadata": {},
     "output_type": "display_data"
    },
    {
     "data": {
      "application/javascript": [
       "\n",
       "        if (window._pyforest_update_imports_cell) { window._pyforest_update_imports_cell('import seaborn as sns\\nimport sys'); }\n",
       "    "
      ],
      "text/plain": [
       "<IPython.core.display.Javascript object>"
      ]
     },
     "metadata": {},
     "output_type": "display_data"
    },
    {
     "data": {
      "image/png": "[encoded data removed]",
      "text/plain": [
       "<Figure size 1500x1500 with 2 Axes>"
      ]
     },
     "metadata": {},
     "output_type": "display_data"
    }
   ],
   "source": [
    "# heatmap grafico de correlação entre as variáveis com método \"Pearson\"\n",
    "\n",
    "sns.set_theme( style='white' )\n",
    "corr = df_corr.corr( method ='pearson' )\n",
    "mask = np.triu( np.ones_like( corr, dtype=bool ))\n",
    "\n",
    "f, ax = plt.subplots( figsize=( 15, 15 ))\n",
    "cmap = sns.diverging_palette( 230, 20, as_cmap=True )\n",
    "sns.heatmap( corr, mask=mask, cmap=cmap, fmt='.2f', \n",
    "             vmax=.3, center=0, square=True, linewidths=.5, \n",
    "             annot = True, annot_kws={'size': 8},cbar_kws={\"shrink\": .1} );\n",
    "\n",
    "plt.title( 'MATRIZ DE CORRELAÇÃO ENTRE VARIÁVEIS COM MÉTODO - PEARSON', pad=12, fontsize=12, color='Blue' )\n",
    "\n",
    "plt.tight_layout()"
   ]
  },
  {
   "cell_type": "markdown",
   "id": "d8f7e5d2-d586-49a2-acc4-2dd9702656f1",
   "metadata": {
    "id": "6e9abfba-9297-43a0-a815-ea2fbfd4ebaf",
    "tags": []
   },
   "source": [
    "___\n",
    "### Aplicaçao de cenarização com alguns gráficos e hipóteses levantadas no problema de negócio\n",
    "  - Observando as variaveis de atributos, se comparadas com preço, verificamos que temos um formato de cone, onde quanto maior o preço, mais dispersão dos valores ou o contrário também é verdadeiro afirmar.\n",
    "\n",
    "  - Os dados da forma que estão estruturados, tem esse comportamento, isso faz sentido. Com esses dados podemos afirmar que casas mais caras provavelmente levam em consideração mais atributos como, (localização, infraestruturas do bairro e etc.). Já as cadas com menor \"valor\" provavelmente so levam em consideração as variaveis analisadas e atributos que não são inerentes ao conjunto de casas dos dados análisados aqui.\n",
    "\n",
    "  - Podemos melhorar esses indicadores, com modelagem e alguns ajustes nas variáveis de atributos para reduzir as multicoliniaridades. O que são as variáveis de multicoliniaridade? \n",
    "  - São variáveis de atributos e isso é comum em regressão linear, onde as variáveis independentes possuem relações lineares exatas ou quase exatas, para regressão linear ou melhor, para modelos de predição com \"Machine Learning\", não é bom.\n",
    "  \n",
    "  - Detalhe importante: Se R2 for alto e as correlações parciais são baixas, a multicolinearidade é uma possibilidade. Quando isso acontece uma ou mais variáveis podem ser desnecessárias no modelo. Se R2 for alto e as correlações parciais também, a multicolinearidade pode não ser detectável de imediato.\n",
    "  \n",
    "  - Exemplo prático:\n",
    "   - Entre as variáveis 'sqft_living' e 'sqft_living15' existe uma forte correlação da casa de (0.72), isso faz sentido?\n",
    "    - Faz! Porque são imóveis que encontran-se no mesmo bairro, padrão identico cujo perfil de comprador é muito específico em alguns casos.\n",
    "Para esses dados, farei a criançao de uma nova variavel para melhorar as métricas e predições do modelo, distringuindo melhor os atributos.\n",
    "Criarei uma variável delta, entre 'sqft_living' e 'sqft_living15', dividindo por 'sqft_living15', com isso\n",
    "conseguimos uma media, métrica de diferenciação para os tamanhos das casas, e comparmos com as demais casas do bairro, provavelmente são imóveis de frente para o mar. Farei feacture enginnering\n",
    "___"
   ]
  },
  {
   "cell_type": "code",
   "execution_count": 22,
   "id": "5854874d-cb9a-41a8-8d19-39c80a3d3139",
   "metadata": {},
   "outputs": [
    {
     "data": {
      "application/javascript": [
       "\n",
       "        if (window._pyforest_update_imports_cell) { window._pyforest_update_imports_cell('import seaborn as sns\\nimport sys'); }\n",
       "    "
      ],
      "text/plain": [
       "<IPython.core.display.Javascript object>"
      ]
     },
     "metadata": {},
     "output_type": "display_data"
    },
    {
     "data": {
      "application/javascript": [
       "\n",
       "        if (window._pyforest_update_imports_cell) { window._pyforest_update_imports_cell('import seaborn as sns\\nimport sys'); }\n",
       "    "
      ],
      "text/plain": [
       "<IPython.core.display.Javascript object>"
      ]
     },
     "metadata": {},
     "output_type": "display_data"
    },
    {
     "data": {
      "application/javascript": [
       "\n",
       "        if (window._pyforest_update_imports_cell) { window._pyforest_update_imports_cell('import seaborn as sns\\nimport sys'); }\n",
       "    "
      ],
      "text/plain": [
       "<IPython.core.display.Javascript object>"
      ]
     },
     "metadata": {},
     "output_type": "display_data"
    },
    {
     "data": {
      "application/javascript": [
       "\n",
       "        if (window._pyforest_update_imports_cell) { window._pyforest_update_imports_cell('import seaborn as sns\\nimport sys'); }\n",
       "    "
      ],
      "text/plain": [
       "<IPython.core.display.Javascript object>"
      ]
     },
     "metadata": {},
     "output_type": "display_data"
    },
    {
     "data": {
      "application/javascript": [
       "\n",
       "        if (window._pyforest_update_imports_cell) { window._pyforest_update_imports_cell('import seaborn as sns\\nimport sys'); }\n",
       "    "
      ],
      "text/plain": [
       "<IPython.core.display.Javascript object>"
      ]
     },
     "metadata": {},
     "output_type": "display_data"
    },
    {
     "data": {
      "text/plain": [
       "<Figure size 800x550 with 0 Axes>"
      ]
     },
     "metadata": {},
     "output_type": "display_data"
    },
    {
     "data": {
      "image/png": "[encoded data removed]",
      "text/plain": [
       "<Figure size 1200x600 with 1 Axes>"
      ]
     },
     "metadata": {},
     "output_type": "display_data"
    }
   ],
   "source": [
    "# Plot para entendermos visualmente como está a distribuição da correlação entre Bathrooms \"Banheiros\" e ( m² ) construído \"sqft_living\", relação extremamente linear, positiva; \n",
    "# faz sentido, quanto maior a casa, inclusive piso superior o que é bem comum no USA, mais banheiros.\n",
    "\n",
    "df_grouped = df_kc[['price', 'sqft_living']].groupby('sqft_living').mean().reset_index()\n",
    "\n",
    "sns.despine(bottom = False, left= False)\n",
    "sns.set_context('paper')\n",
    "sns.set_context('notebook', font_scale=1)\n",
    "sns.set_style('whitegrid')\n",
    "sns.lmplot( x= 'price', y='sqft_living', data=df_grouped, ci=None)\n",
    "fig = plt.gcf().set_size_inches(12, 6)\n",
    "plt.title( 'DISTRIBUIÇÃO QUANTITATIVA DOS PREÇOS X CONCEITO ABERTO', pad=25, fontsize=14, color='Blue' )\n",
    "plt.show();"
   ]
  },
  {
   "cell_type": "code",
   "execution_count": 23,
   "id": "40403f61-94ec-4569-999d-9e533c2d79ba",
   "metadata": {},
   "outputs": [
    {
     "data": {
      "application/javascript": [
       "\n",
       "        if (window._pyforest_update_imports_cell) { window._pyforest_update_imports_cell('import seaborn as sns\\nimport sys'); }\n",
       "    "
      ],
      "text/plain": [
       "<IPython.core.display.Javascript object>"
      ]
     },
     "metadata": {},
     "output_type": "display_data"
    },
    {
     "data": {
      "application/javascript": [
       "\n",
       "        if (window._pyforest_update_imports_cell) { window._pyforest_update_imports_cell('import seaborn as sns\\nimport sys'); }\n",
       "    "
      ],
      "text/plain": [
       "<IPython.core.display.Javascript object>"
      ]
     },
     "metadata": {},
     "output_type": "display_data"
    },
    {
     "data": {
      "application/javascript": [
       "\n",
       "        if (window._pyforest_update_imports_cell) { window._pyforest_update_imports_cell('import seaborn as sns\\nimport sys'); }\n",
       "    "
      ],
      "text/plain": [
       "<IPython.core.display.Javascript object>"
      ]
     },
     "metadata": {},
     "output_type": "display_data"
    },
    {
     "data": {
      "application/javascript": [
       "\n",
       "        if (window._pyforest_update_imports_cell) { window._pyforest_update_imports_cell('import seaborn as sns\\nimport sys'); }\n",
       "    "
      ],
      "text/plain": [
       "<IPython.core.display.Javascript object>"
      ]
     },
     "metadata": {},
     "output_type": "display_data"
    },
    {
     "data": {
      "application/javascript": [
       "\n",
       "        if (window._pyforest_update_imports_cell) { window._pyforest_update_imports_cell('import seaborn as sns\\nimport sys'); }\n",
       "    "
      ],
      "text/plain": [
       "<IPython.core.display.Javascript object>"
      ]
     },
     "metadata": {},
     "output_type": "display_data"
    },
    {
     "data": {
      "text/plain": [
       "<Figure size 800x550 with 0 Axes>"
      ]
     },
     "metadata": {},
     "output_type": "display_data"
    },
    {
     "data": {
      "image/png": "[encoded data removed]",
      "text/plain": [
       "<Figure size 1200x600 with 1 Axes>"
      ]
     },
     "metadata": {},
     "output_type": "display_data"
    }
   ],
   "source": [
    "# Plot para entendermos visualmente como está a distribuição da correlação entre Bathrooms \"Banheiros\" e ( m² ) construído \"sqft_living\", relação extremamente linear, positiva; \n",
    "# faz sentido, quanto maior a casa, inclusive piso superior o que é bem comum no USA, mais banheiros.\n",
    "\n",
    "df_grouped = df_kc[['price', 'bedrooms']].groupby('bedrooms').mean().reset_index()\n",
    "\n",
    "sns.despine(bottom = False, left= False)\n",
    "sns.set_context('paper')\n",
    "sns.set_context('notebook', font_scale=1)\n",
    "sns.set_style('whitegrid')\n",
    "sns.lmplot( x= 'price', y='bedrooms', data=df_grouped, ci=None)\n",
    "fig = plt.gcf().set_size_inches(12, 6)\n",
    "plt.title( 'DISTRIBUIÇÃO QUANTITATIVA DOS PREÇOS X QTDE QUARTOS', pad=25, fontsize=14, color='Blue' )\n",
    "plt.show();"
   ]
  },
  {
   "cell_type": "markdown",
   "id": "d8552e79-b612-4633-812c-665980b60f7f",
   "metadata": {},
   "source": [
    "- Cenário 02: Imóveis com frente para o mar são mais caros?\n",
    "\n",
    "  - Sim, os imóveis com frente para o mar em sua maioria, tem uma media de 30% de valocização acima dos demais."
   ]
  },
  {
   "cell_type": "code",
   "execution_count": 24,
   "id": "37dbd8d2-4240-4bf7-8e7e-252677e530fb",
   "metadata": {},
   "outputs": [
    {
     "data": {
      "application/javascript": [
       "\n",
       "        if (window._pyforest_update_imports_cell) { window._pyforest_update_imports_cell('import seaborn as sns\\nimport sys'); }\n",
       "    "
      ],
      "text/plain": [
       "<IPython.core.display.Javascript object>"
      ]
     },
     "metadata": {},
     "output_type": "display_data"
    },
    {
     "data": {
      "application/javascript": [
       "\n",
       "        if (window._pyforest_update_imports_cell) { window._pyforest_update_imports_cell('import seaborn as sns\\nimport sys'); }\n",
       "    "
      ],
      "text/plain": [
       "<IPython.core.display.Javascript object>"
      ]
     },
     "metadata": {},
     "output_type": "display_data"
    },
    {
     "data": {
      "application/javascript": [
       "\n",
       "        if (window._pyforest_update_imports_cell) { window._pyforest_update_imports_cell('import seaborn as sns\\nimport sys'); }\n",
       "    "
      ],
      "text/plain": [
       "<IPython.core.display.Javascript object>"
      ]
     },
     "metadata": {},
     "output_type": "display_data"
    },
    {
     "data": {
      "image/png": "[encoded data removed]",
      "text/plain": [
       "<Figure size 1500x500 with 1 Axes>"
      ]
     },
     "metadata": {},
     "output_type": "display_data"
    }
   ],
   "source": [
    "# Dividindo os imóveis no ano 1955 \n",
    "\n",
    "df_kc['year_range'] = df_kc['yr_built'].apply(lambda x: '1930 - 1954' if x < 1955 else '1955 - 2015')\n",
    "\n",
    "# Agrupando por período\n",
    "df_kc_agg = df_kc[['price', 'year_range']].groupby('year_range').count().reset_index()\n",
    "plt.figure(figsize=(15,5));\n",
    "sns.despine(bottom = False, left= True);\n",
    "sns.set_context('paper');\n",
    "sns.barplot(data=df_kc_agg, x='year_range', y='price')\n",
    "plt.ticklabel_format(style='plain', axis='y') \n",
    "plt.title('ANÁLISE QUANTITATIVA DOS IMÓVEIS QUE SOFRERAM REFORMAS ', pad=25, fontsize = 15, color='Blue')\n",
    "plt.show()"
   ]
  },
  {
   "cell_type": "code",
   "execution_count": 25,
   "id": "e6f1da70-5d2b-4809-ae6c-d587d215a145",
   "metadata": {},
   "outputs": [
    {
     "data": {
      "application/javascript": [
       "\n",
       "        if (window._pyforest_update_imports_cell) { window._pyforest_update_imports_cell('import seaborn as sns\\nimport sys'); }\n",
       "    "
      ],
      "text/plain": [
       "<IPython.core.display.Javascript object>"
      ]
     },
     "metadata": {},
     "output_type": "display_data"
    },
    {
     "data": {
      "application/javascript": [
       "\n",
       "        if (window._pyforest_update_imports_cell) { window._pyforest_update_imports_cell('import seaborn as sns\\nimport sys'); }\n",
       "    "
      ],
      "text/plain": [
       "<IPython.core.display.Javascript object>"
      ]
     },
     "metadata": {},
     "output_type": "display_data"
    },
    {
     "data": {
      "application/javascript": [
       "\n",
       "        if (window._pyforest_update_imports_cell) { window._pyforest_update_imports_cell('import seaborn as sns\\nimport sys'); }\n",
       "    "
      ],
      "text/plain": [
       "<IPython.core.display.Javascript object>"
      ]
     },
     "metadata": {},
     "output_type": "display_data"
    },
    {
     "data": {
      "image/png": "[encoded data removed]",
      "text/plain": [
       "<Figure size 1500x500 with 1 Axes>"
      ]
     },
     "metadata": {},
     "output_type": "display_data"
    }
   ],
   "source": [
    "df_kc['porao'] = df_kc['sqft_basement'].apply(lambda x: 1 if x > 0 else 0)\n",
    "\n",
    "# Agrupando por período\n",
    "df_kc_agg = df_kc[['sqft_lot', 'porao']].groupby('porao').mean().sort_values('sqft_lot', ascending=True).reset_index()\n",
    "plt.figure(figsize=(15,5));\n",
    "sns.despine(bottom = False, left= True);\n",
    "sns.set_context('paper');\n",
    "sns.barplot(data=df_kc_agg, x='porao', y='sqft_lot')\n",
    "plt.ticklabel_format(style='plain', axis='y')\n",
    "plt.title('ANÁLISE QUANTITATIVA DOS IMÓVEIS COM PORÃO', pad=25, fontsize = 15, color='Blue')\n",
    "# plt.savefig('Analise_quant_imoveis.png', format='png'), #Salvando o mapa para reenderizar no github\n",
    "plt.show()"
   ]
  },
  {
   "cell_type": "markdown",
   "id": "94431293-5cad-4ff6-845e-abc68cc357f4",
   "metadata": {
    "id": "94431293-5cad-4ff6-845e-abc68cc357f4"
   },
   "source": [
    "### Outliers: \n",
    "   - São dados que por algum motivo estão muito acima da média se observarmos os padrões e métricas descritivas. \n",
    "\n",
    "   - Checagem dos valores acíma de \"7milhões\", são dois casos conforme mostra nossos dados acima com BOXPLOT, que ficam entre 7 e 8Milhões;\n",
    "     - Dada as informações contidas no Boxplot, podemos com maior clareza enxergar; que a maioria dos valores dos imóveis estão concentrados entre 1 e 3 milhões;\n",
    "     - Acima de 75% estão os valores discrepantes ou Outliers, que precisamos dar um tratamento, ou podemos comprometer nossa predição dos valores de compra e venda\n",
    "     - Podemos ver abaixo pela data de construção \"yr_built\", que os imóveis 3910 e 7245, são imóveis centerários, com quantidades de quartos superiores a 4 e banheiros 8. Imóveis mais antigos e com características que os diferenciam dos demais.\n",
    "     - Poderia simplesmente excluí-los, mas prefiro tratar, passando o valor da moda.\n",
    "     - Obs:. Fiz alguns testes e ví que a média ponderada não mudava muito se exclísse ou tratasse os dados, então optei por seguir em frente e somentre tratar\n",
    "       - Adotarei novos procedimentos."
   ]
  },
  {
   "cell_type": "markdown",
   "id": "a315d936-513a-4361-97ee-54bfa4b6a376",
   "metadata": {
    "id": "a315d936-513a-4361-97ee-54bfa4b6a376",
    "tags": []
   },
   "source": [
    "### Usarei a Função <em>`SCIPY Stats.Zscore Python`<em> para abaixo estruturar um plot de correlação e conhecer melhor os feactures e atributos do Dataset\n",
    "  - Basicamente,  um z-score é o número de desvios padrão em relação à média de um ponto de informação. Seja como for, ainda mais, na verdade, é uma proporção do número de desvios padrão abaixo ou acima dos dados em análise de forma bruta, também chamado de pontuação padrão, podendo e eu usrei em dispersões.\n",
    "    \n",
    "   - Com Z-scores, faço uma abordagem para contrastar resultados de um teste com dados desse conjunto, dados em “comum”. Os resultados de testes ou estudos têm um grande número de resultados e unidades potenciais. No entanto, esses resultados podem parecer regularmente bons e não servirvir para nada. \n",
    "Por exemplo, perceber que o peso de alguém é de 150 Kg pode ser um dado relevante, mas na hipótese de que você precisa confrontá-lo com um peso de um indivíduo cujo peso é de 70 Kg, não diz muito,  mas se alimentarmos os dados com mais pesos de outros indivíduos, podemos ter mais informações que serão relevantes. Um z-score pode lhe revelar onde o peso desse indivíduo é contrastado com o peso médio da população normal.\n",
    "    \n",
    "  - Podemos tirar insights por exmplo análisando o número de obesos de uma população, como estão distribuidos, levando em conta outros atributos e variáveis como: bairro, cidade, estado, idade, sexo, formação, cargo ocupado e outros atritutos que nos darão um mapa **Z-SCORES**, podendo or exemplo servir para alguns planos de ação.\n",
    "    \n",
    "  - A função scipy.stats.zscore (arr, axis = 0, ddof = 0) calcula a pontuação Z relativa dos dados de entrada, em relação à média da amostra e ao desvio padrão.\n",
    "\n",
    "    "
   ]
  },
  {
   "cell_type": "code",
   "execution_count": 26,
   "id": "050ba703-70cd-426a-b9f3-e456dca52456",
   "metadata": {
    "id": "050ba703-70cd-426a-b9f3-e456dca52456"
   },
   "outputs": [],
   "source": [
    "# Separaçã de um lista com uma amostra para o Zscore scipy, abaixo aplico describe do Z-score com 13 \"atributos\" das entidades\n",
    "\n",
    "df_kc_zsc = df_kc[ ( np.abs(stats.zscore( df_kc[[ \n",
    "                                                 'price', 'bedrooms', 'bathrooms', 'sqft_living', 'sqft_lot', \n",
    "                                                 'floors', 'view', 'condition', 'grade', 'sqft_above', 'sqft_basement', \n",
    "                                                 'sqft_living15','sqft_lot15', 'm²_living', 'valor_m²_const', 'valor_m²_imovel',\n",
    "                                                ]] )) < 2 ).all( axis=1 ) ]"
   ]
  },
  {
   "cell_type": "code",
   "execution_count": 27,
   "id": "cebea2c8-f4d0-4ba0-838a-f6b9440395c7",
   "metadata": {
    "id": "3ad87462-a823-4e47-92a6-0a89ea3f709d"
   },
   "outputs": [],
   "source": [
    "# Excluindo algumas colunas que não são necessárias nesse momento, e também para ajustar o tamanho do Dataset origem\n",
    "\n",
    "df_kc_zsc.drop( ['id', 'date', 'waterfront', 'view', 'ano_corrente', 'lat', 'long', 'zipcode', 'mes', 'ano' ], axis=1, inplace=True )"
   ]
  },
  {
   "cell_type": "code",
   "execution_count": 28,
   "id": "7bf1a9a2-0dcb-4d8d-9eab-63387fad4a79",
   "metadata": {
    "id": "7bf1a9a2-0dcb-4d8d-9eab-63387fad4a79",
    "outputId": "48983fb8-c143-4dc4-b6ec-464837a2efa9"
   },
   "outputs": [
    {
     "data": {
      "text/html": [
       "<div>\n",
       "<style scoped>\n",
       "    .dataframe tbody tr th:only-of-type {\n",
       "        vertical-align: middle;\n",
       "    }\n",
       "\n",
       "    .dataframe tbody tr th {\n",
       "        vertical-align: top;\n",
       "    }\n",
       "\n",
       "    .dataframe thead th {\n",
       "        text-align: right;\n",
       "    }\n",
       "</style>\n",
       "<table border=\"1\" class=\"dataframe\">\n",
       "  <thead>\n",
       "    <tr style=\"text-align: right;\">\n",
       "      <th></th>\n",
       "      <th>price</th>\n",
       "      <th>bedrooms</th>\n",
       "      <th>bathrooms</th>\n",
       "      <th>sqft_living</th>\n",
       "      <th>sqft_lot</th>\n",
       "      <th>floors</th>\n",
       "      <th>condition</th>\n",
       "      <th>grade</th>\n",
       "      <th>sqft_above</th>\n",
       "      <th>sqft_basement</th>\n",
       "      <th>yr_built</th>\n",
       "      <th>yr_renovated</th>\n",
       "      <th>sqft_living15</th>\n",
       "      <th>sqft_lot15</th>\n",
       "      <th>idade_imovel</th>\n",
       "      <th>m²_living</th>\n",
       "      <th>valor_m²_const</th>\n",
       "      <th>valor_m²_imovel</th>\n",
       "      <th>porao</th>\n",
       "    </tr>\n",
       "  </thead>\n",
       "  <tbody>\n",
       "    <tr>\n",
       "      <th>mean</th>\n",
       "      <td>438363.921</td>\n",
       "      <td>3.314</td>\n",
       "      <td>1.992</td>\n",
       "      <td>1892.039</td>\n",
       "      <td>9637.827</td>\n",
       "      <td>1.437</td>\n",
       "      <td>3.304</td>\n",
       "      <td>7.456</td>\n",
       "      <td>1681.881</td>\n",
       "      <td>210.158</td>\n",
       "      <td>1972.300</td>\n",
       "      <td>69.887</td>\n",
       "      <td>1873.795</td>\n",
       "      <td>9038.573</td>\n",
       "      <td>50.700</td>\n",
       "      <td>174.068</td>\n",
       "      <td>2593.298</td>\n",
       "      <td>67.680</td>\n",
       "      <td>0.337</td>\n",
       "    </tr>\n",
       "    <tr>\n",
       "      <th>std</th>\n",
       "      <td>185230.619</td>\n",
       "      <td>0.748</td>\n",
       "      <td>0.635</td>\n",
       "      <td>618.632</td>\n",
       "      <td>9223.216</td>\n",
       "      <td>0.478</td>\n",
       "      <td>0.460</td>\n",
       "      <td>0.892</td>\n",
       "      <td>632.065</td>\n",
       "      <td>332.182</td>\n",
       "      <td>27.499</td>\n",
       "      <td>366.961</td>\n",
       "      <td>527.954</td>\n",
       "      <td>7580.309</td>\n",
       "      <td>27.499</td>\n",
       "      <td>56.914</td>\n",
       "      <td>894.343</td>\n",
       "      <td>49.887</td>\n",
       "      <td>0.473</td>\n",
       "    </tr>\n",
       "    <tr>\n",
       "      <th>min</th>\n",
       "      <td>84000.000</td>\n",
       "      <td>2.000</td>\n",
       "      <td>0.750</td>\n",
       "      <td>560.000</td>\n",
       "      <td>940.000</td>\n",
       "      <td>1.000</td>\n",
       "      <td>3.000</td>\n",
       "      <td>6.000</td>\n",
       "      <td>480.000</td>\n",
       "      <td>0.000</td>\n",
       "      <td>1900.000</td>\n",
       "      <td>0.000</td>\n",
       "      <td>620.000</td>\n",
       "      <td>651.000</td>\n",
       "      <td>8.000</td>\n",
       "      <td>51.520</td>\n",
       "      <td>952.046</td>\n",
       "      <td>2.317</td>\n",
       "      <td>0.000</td>\n",
       "    </tr>\n",
       "    <tr>\n",
       "      <th>25%</th>\n",
       "      <td>299000.000</td>\n",
       "      <td>3.000</td>\n",
       "      <td>1.500</td>\n",
       "      <td>1420.000</td>\n",
       "      <td>5235.500</td>\n",
       "      <td>1.000</td>\n",
       "      <td>3.000</td>\n",
       "      <td>7.000</td>\n",
       "      <td>1190.000</td>\n",
       "      <td>0.000</td>\n",
       "      <td>1954.000</td>\n",
       "      <td>0.000</td>\n",
       "      <td>1480.000</td>\n",
       "      <td>5260.000</td>\n",
       "      <td>29.000</td>\n",
       "      <td>130.640</td>\n",
       "      <td>1877.470</td>\n",
       "      <td>32.670</td>\n",
       "      <td>0.000</td>\n",
       "    </tr>\n",
       "    <tr>\n",
       "      <th>50%</th>\n",
       "      <td>400500.000</td>\n",
       "      <td>3.000</td>\n",
       "      <td>2.000</td>\n",
       "      <td>1830.000</td>\n",
       "      <td>7538.000</td>\n",
       "      <td>1.000</td>\n",
       "      <td>3.000</td>\n",
       "      <td>7.000</td>\n",
       "      <td>1530.000</td>\n",
       "      <td>0.000</td>\n",
       "      <td>1976.000</td>\n",
       "      <td>0.000</td>\n",
       "      <td>1790.000</td>\n",
       "      <td>7593.000</td>\n",
       "      <td>47.000</td>\n",
       "      <td>168.360</td>\n",
       "      <td>2467.902</td>\n",
       "      <td>52.470</td>\n",
       "      <td>0.000</td>\n",
       "    </tr>\n",
       "    <tr>\n",
       "      <th>75%</th>\n",
       "      <td>545000.000</td>\n",
       "      <td>4.000</td>\n",
       "      <td>2.500</td>\n",
       "      <td>2306.250</td>\n",
       "      <td>9899.000</td>\n",
       "      <td>2.000</td>\n",
       "      <td>4.000</td>\n",
       "      <td>8.000</td>\n",
       "      <td>2100.000</td>\n",
       "      <td>430.000</td>\n",
       "      <td>1994.000</td>\n",
       "      <td>0.000</td>\n",
       "      <td>2220.000</td>\n",
       "      <td>9600.000</td>\n",
       "      <td>69.000</td>\n",
       "      <td>212.175</td>\n",
       "      <td>3147.860</td>\n",
       "      <td>87.894</td>\n",
       "      <td>1.000</td>\n",
       "    </tr>\n",
       "    <tr>\n",
       "      <th>max</th>\n",
       "      <td>1266520.000</td>\n",
       "      <td>5.000</td>\n",
       "      <td>3.500</td>\n",
       "      <td>3920.000</td>\n",
       "      <td>97661.000</td>\n",
       "      <td>2.500</td>\n",
       "      <td>4.000</td>\n",
       "      <td>10.000</td>\n",
       "      <td>3440.000</td>\n",
       "      <td>1170.000</td>\n",
       "      <td>2015.000</td>\n",
       "      <td>2015.000</td>\n",
       "      <td>3350.000</td>\n",
       "      <td>67518.000</td>\n",
       "      <td>123.000</td>\n",
       "      <td>360.640</td>\n",
       "      <td>5263.608</td>\n",
       "      <td>277.618</td>\n",
       "      <td>1.000</td>\n",
       "    </tr>\n",
       "  </tbody>\n",
       "</table>\n",
       "</div>"
      ],
      "text/plain": [
       "           price  bedrooms  bathrooms  sqft_living  sqft_lot  floors  \\\n",
       "mean  438363.921     3.314      1.992     1892.039  9637.827   1.437   \n",
       "std   185230.619     0.748      0.635      618.632  9223.216   0.478   \n",
       "min    84000.000     2.000      0.750      560.000   940.000   1.000   \n",
       "25%   299000.000     3.000      1.500     1420.000  5235.500   1.000   \n",
       "50%   400500.000     3.000      2.000     1830.000  7538.000   1.000   \n",
       "75%   545000.000     4.000      2.500     2306.250  9899.000   2.000   \n",
       "max  1266520.000     5.000      3.500     3920.000 97661.000   2.500   \n",
       "\n",
       "      condition  grade  sqft_above  sqft_basement  yr_built  yr_renovated  \\\n",
       "mean      3.304  7.456    1681.881        210.158  1972.300        69.887   \n",
       "std       0.460  0.892     632.065        332.182    27.499       366.961   \n",
       "min       3.000  6.000     480.000          0.000  1900.000         0.000   \n",
       "25%       3.000  7.000    1190.000          0.000  1954.000         0.000   \n",
       "50%       3.000  7.000    1530.000          0.000  1976.000         0.000   \n",
       "75%       4.000  8.000    2100.000        430.000  1994.000         0.000   \n",
       "max       4.000 10.000    3440.000       1170.000  2015.000      2015.000   \n",
       "\n",
       "      sqft_living15  sqft_lot15  idade_imovel  m²_living  valor_m²_const  \\\n",
       "mean       1873.795    9038.573        50.700    174.068        2593.298   \n",
       "std         527.954    7580.309        27.499     56.914         894.343   \n",
       "min         620.000     651.000         8.000     51.520         952.046   \n",
       "25%        1480.000    5260.000        29.000    130.640        1877.470   \n",
       "50%        1790.000    7593.000        47.000    168.360        2467.902   \n",
       "75%        2220.000    9600.000        69.000    212.175        3147.860   \n",
       "max        3350.000   67518.000       123.000    360.640        5263.608   \n",
       "\n",
       "      valor_m²_imovel  porao  \n",
       "mean           67.680  0.337  \n",
       "std            49.887  0.473  \n",
       "min             2.317  0.000  \n",
       "25%            32.670  0.000  \n",
       "50%            52.470  0.000  \n",
       "75%            87.894  1.000  \n",
       "max           277.618  1.000  "
      ]
     },
     "execution_count": 28,
     "metadata": {},
     "output_type": "execute_result"
    }
   ],
   "source": [
    "# Análise descritiva para entendimento das distríções dos dados ( comportamento das variáveis numéricas desse dataset ) e removendo a linha index \"count\" contagem, que normalmente \n",
    "# aparece acima do index mean. \n",
    "\n",
    "df_kc_zsc.describe().drop( [ 'count' ])"
   ]
  },
  {
   "cell_type": "markdown",
   "id": "4b97570d-252c-4d87-8034-301ff20215ee",
   "metadata": {
    "id": "4b97570d-252c-4d87-8034-301ff20215ee"
   },
   "source": [
    "### Análise descritiva intraquartil IQR da variável idade_imóvel ( construção ), observa-se abaixo que:\n",
    "  - Temos \"21433\" imóveis, sendo que a médida de idade é de 50 anos, com base na data de construção\n",
    "\n",
    "  - De 00 - 25 % dos imóveis têm  até 29 anos;\n",
    "  - De 25 - 50 % dos imóveis têm até 47 anos;\n",
    "  - De 50 - 75 % dos imóveis têm até 69 anos. "
   ]
  },
  {
   "cell_type": "code",
   "execution_count": 29,
   "id": "0103bd9f-401e-43c5-b162-ef1f1da6b06d",
   "metadata": {
    "id": "0103bd9f-401e-43c5-b162-ef1f1da6b06d",
    "outputId": "76d1512e-5bee-498a-fa78-1eafb4ceadfc"
   },
   "outputs": [
    {
     "data": {
      "text/html": [
       "<div>\n",
       "<style scoped>\n",
       "    .dataframe tbody tr th:only-of-type {\n",
       "        vertical-align: middle;\n",
       "    }\n",
       "\n",
       "    .dataframe tbody tr th {\n",
       "        vertical-align: top;\n",
       "    }\n",
       "\n",
       "    .dataframe thead th {\n",
       "        text-align: right;\n",
       "    }\n",
       "</style>\n",
       "<table border=\"1\" class=\"dataframe\">\n",
       "  <thead>\n",
       "    <tr style=\"text-align: right;\">\n",
       "      <th></th>\n",
       "      <th>index</th>\n",
       "      <th>idade_imovel</th>\n",
       "    </tr>\n",
       "  </thead>\n",
       "  <tbody>\n",
       "    <tr>\n",
       "      <th>0</th>\n",
       "      <td>mean</td>\n",
       "      <td>51</td>\n",
       "    </tr>\n",
       "    <tr>\n",
       "      <th>1</th>\n",
       "      <td>std</td>\n",
       "      <td>27</td>\n",
       "    </tr>\n",
       "    <tr>\n",
       "      <th>2</th>\n",
       "      <td>min</td>\n",
       "      <td>8</td>\n",
       "    </tr>\n",
       "    <tr>\n",
       "      <th>3</th>\n",
       "      <td>25%</td>\n",
       "      <td>29</td>\n",
       "    </tr>\n",
       "    <tr>\n",
       "      <th>4</th>\n",
       "      <td>50%</td>\n",
       "      <td>47</td>\n",
       "    </tr>\n",
       "    <tr>\n",
       "      <th>5</th>\n",
       "      <td>75%</td>\n",
       "      <td>69</td>\n",
       "    </tr>\n",
       "    <tr>\n",
       "      <th>6</th>\n",
       "      <td>max</td>\n",
       "      <td>123</td>\n",
       "    </tr>\n",
       "  </tbody>\n",
       "</table>\n",
       "</div>"
      ],
      "text/plain": [
       "  index  idade_imovel\n",
       "0  mean            51\n",
       "1   std            27\n",
       "2   min             8\n",
       "3   25%            29\n",
       "4   50%            47\n",
       "5   75%            69\n",
       "6   max           123"
      ]
     },
     "execution_count": 29,
     "metadata": {},
     "output_type": "execute_result"
    }
   ],
   "source": [
    "# Describe - Descritivo para análise da média, mínima e máxima de idade dos imóveis\n",
    "\n",
    "pd.set_option('display.float_format','{:.0f}'.format)\n",
    "df_kc_zsc.idade_imovel.describe().drop( [ 'count' ] ).reset_index()"
   ]
  },
  {
   "cell_type": "code",
   "execution_count": 30,
   "id": "218de85d-7a5b-4098-8536-d1ab8cba8700",
   "metadata": {
    "id": "218de85d-7a5b-4098-8536-d1ab8cba8700",
    "outputId": "ba049fc9-cb53-4e83-aa91-ee3dbccfcdb3"
   },
   "outputs": [
    {
     "data": {
      "text/html": [
       "<div>\n",
       "<style scoped>\n",
       "    .dataframe tbody tr th:only-of-type {\n",
       "        vertical-align: middle;\n",
       "    }\n",
       "\n",
       "    .dataframe tbody tr th {\n",
       "        vertical-align: top;\n",
       "    }\n",
       "\n",
       "    .dataframe thead th {\n",
       "        text-align: right;\n",
       "    }\n",
       "</style>\n",
       "<table border=\"1\" class=\"dataframe\">\n",
       "  <thead>\n",
       "    <tr style=\"text-align: right;\">\n",
       "      <th></th>\n",
       "      <th>bedrooms</th>\n",
       "      <th>preço_min</th>\n",
       "      <th>preço_max</th>\n",
       "    </tr>\n",
       "  </thead>\n",
       "  <tbody>\n",
       "    <tr>\n",
       "      <th>0</th>\n",
       "      <td>5</td>\n",
       "      <td>158550</td>\n",
       "      <td>1250000</td>\n",
       "    </tr>\n",
       "    <tr>\n",
       "      <th>1</th>\n",
       "      <td>4</td>\n",
       "      <td>139000</td>\n",
       "      <td>1260000</td>\n",
       "    </tr>\n",
       "    <tr>\n",
       "      <th>2</th>\n",
       "      <td>3</td>\n",
       "      <td>89000</td>\n",
       "      <td>1266520</td>\n",
       "    </tr>\n",
       "    <tr>\n",
       "      <th>3</th>\n",
       "      <td>2</td>\n",
       "      <td>84000</td>\n",
       "      <td>1087500</td>\n",
       "    </tr>\n",
       "  </tbody>\n",
       "</table>\n",
       "</div>"
      ],
      "text/plain": [
       "   bedrooms  preço_min  preço_max\n",
       "0         5     158550    1250000\n",
       "1         4     139000    1260000\n",
       "2         3      89000    1266520\n",
       "3         2      84000    1087500"
      ]
     },
     "execution_count": 30,
     "metadata": {},
     "output_type": "execute_result"
    }
   ],
   "source": [
    "# Agrupamento para checar os atributos quartos e preço para ver como ficaram as distribuições de preço e número de quartos, depois de tratá-los.\n",
    "# Renomeei as colunas criadas min e max para preço_min e preço_max com número de quartos-bedroomns a esquerda, a ideia aqui é análisar o min e max dos preços\n",
    "\n",
    "df_kc_agrupado = ( df_kc_zsc.groupby( 'bedrooms' ) [ 'price' ].agg( [min, max] ).sort_values(by=[ 'min', 'max' ], ascending=False )).reset_index()\n",
    "df_kc_agrupado = df_kc_agrupado.rename( columns ={'min': 'preço_min', 'max': 'preço_max' } )\n",
    "df_kc_agrupado.head()"
   ]
  },
  {
   "cell_type": "markdown",
   "id": "ca7b2d8b-aac9-4f1b-a0eb-4fc9fe77f02e",
   "metadata": {},
   "source": [
    "### Cenarização e simulação de negócios - compra e venda"
   ]
  },
  {
   "cell_type": "code",
   "execution_count": 31,
   "id": "d2d406fc-d7b5-4328-8aff-fd0defa84ccc",
   "metadata": {},
   "outputs": [],
   "source": [
    "# Copia da base para novos procedimentos\n",
    "\n",
    "data=df_kc.copy()"
   ]
  },
  {
   "cell_type": "code",
   "execution_count": 32,
   "id": "c5f610e5-fc8f-4395-b1e6-8e528b1951dd",
   "metadata": {},
   "outputs": [],
   "source": [
    "# Farei agrupamento e ajustes para novas predições\n",
    "\n",
    "p = data[['zipcode', 'price']].groupby('zipcode').median().reset_index()\n",
    "dfp1 = pd.merge(p, data, on='zipcode', how = 'inner')\n",
    "dfp1 = dfp1.rename(columns = {'price_y' : 'price', 'price_x' : 'price_median'} ) #alterando nome das colunas\n",
    "\n",
    "for i, row in dfp1.iterrows():\n",
    "    if (row['price_median'] >= row['price']) & (row['condition'] < 3):\n",
    "        dfp1.loc[i,'compra'] = 'sim'\n",
    "    else:\n",
    "        dfp1.loc[i,'compra'] = 'nao'"
   ]
  },
  {
   "cell_type": "code",
   "execution_count": 33,
   "id": "9b752262-8d97-4d90-b0f3-b1fb1fcd8d12",
   "metadata": {},
   "outputs": [
    {
     "data": {
      "text/html": [
       "<div>\n",
       "<style scoped>\n",
       "    .dataframe tbody tr th:only-of-type {\n",
       "        vertical-align: middle;\n",
       "    }\n",
       "\n",
       "    .dataframe tbody tr th {\n",
       "        vertical-align: top;\n",
       "    }\n",
       "\n",
       "    .dataframe thead th {\n",
       "        text-align: right;\n",
       "    }\n",
       "</style>\n",
       "<table border=\"1\" class=\"dataframe\">\n",
       "  <thead>\n",
       "    <tr style=\"text-align: right;\">\n",
       "      <th></th>\n",
       "      <th>id</th>\n",
       "      <th>price</th>\n",
       "      <th>compra</th>\n",
       "    </tr>\n",
       "  </thead>\n",
       "  <tbody>\n",
       "    <tr>\n",
       "      <th>0</th>\n",
       "      <td>7895500070</td>\n",
       "      <td>240000</td>\n",
       "      <td>sim</td>\n",
       "    </tr>\n",
       "    <tr>\n",
       "      <th>103</th>\n",
       "      <td>5706600170</td>\n",
       "      <td>204900</td>\n",
       "      <td>sim</td>\n",
       "    </tr>\n",
       "    <tr>\n",
       "      <th>229</th>\n",
       "      <td>3599600276</td>\n",
       "      <td>215500</td>\n",
       "      <td>sim</td>\n",
       "    </tr>\n",
       "    <tr>\n",
       "      <th>605</th>\n",
       "      <td>5152600090</td>\n",
       "      <td>235500</td>\n",
       "      <td>sim</td>\n",
       "    </tr>\n",
       "    <tr>\n",
       "      <th>1089</th>\n",
       "      <td>2425700022</td>\n",
       "      <td>425000</td>\n",
       "      <td>sim</td>\n",
       "    </tr>\n",
       "    <tr>\n",
       "      <th>1151</th>\n",
       "      <td>6205500030</td>\n",
       "      <td>480000</td>\n",
       "      <td>sim</td>\n",
       "    </tr>\n",
       "    <tr>\n",
       "      <th>1170</th>\n",
       "      <td>324059112</td>\n",
       "      <td>675500</td>\n",
       "      <td>sim</td>\n",
       "    </tr>\n",
       "  </tbody>\n",
       "</table>\n",
       "</div>"
      ],
      "text/plain": [
       "              id  price compra\n",
       "0     7895500070 240000    sim\n",
       "103   5706600170 204900    sim\n",
       "229   3599600276 215500    sim\n",
       "605   5152600090 235500    sim\n",
       "1089  2425700022 425000    sim\n",
       "1151  6205500030 480000    sim\n",
       "1170   324059112 675500    sim"
      ]
     },
     "execution_count": 33,
     "metadata": {},
     "output_type": "execute_result"
    }
   ],
   "source": [
    "# Casas para possíveis compras (hipoteses de negócios) \n",
    "\n",
    "compra = dfp1[dfp1['compra'] == 'sim']\n",
    "\n",
    "compra['compra'].shape[0]\n",
    "result=compra[['id', 'price', 'compra']]\n",
    "result.head(7)"
   ]
  },
  {
   "cell_type": "code",
   "execution_count": 34,
   "id": "e2f7f48d-555b-425f-9e81-1247f53b7cff",
   "metadata": {},
   "outputs": [
    {
     "name": "stdout",
     "output_type": "stream",
     "text": [
      "                                                                 MAPA INTERATIVO COM ATRIBUTOS                                                                  \n",
      "\n"
     ]
    },
    {
     "data": {
      "application/vnd.jupyter.widget-view+json": {
       "model_id": "244a5e69154f429b99d15d5ace206440",
       "version_major": 2,
       "version_minor": 0
      },
      "text/plain": [
       "interactive(children=(Dropdown(description='Filtro', options=('zipcode', 'price_median', 'id', 'date', 'price'…"
      ]
     },
     "execution_count": 34,
     "metadata": {},
     "output_type": "execute_result"
    }
   ],
   "source": [
    "# Mapara interativo para análise \n",
    "\n",
    "print('MAPA INTERATIVO COM ATRIBUTOS'.center(160))\n",
    "print('')\n",
    "fil_zip  = widgets.Dropdown(options = dfp1['compra'].unique().tolist(),\n",
    "                                                description = 'regiao',\n",
    "                                                      disabled = False)\n",
    "def update_map (Filtro, fil_zip ):\n",
    "    house = dfp1[(dfp1['compra'] == fil_zip )][[\n",
    "                                                'id', \n",
    "                                                'lat', \n",
    "                                                'long', \n",
    "                                                'condition', \n",
    "                                                'compra', \n",
    "                                                'price'\n",
    "                                              ]] \n",
    "    mapa = px.scatter_mapbox(house, lat = 'lat', lon = 'long',  \n",
    "                                               size = 'price',\n",
    "                                          color = 'condition', \n",
    "                                                opacity = 0.5, \n",
    "                                                   zoom = 10 )   \n",
    "    mapa.update_layout( mapbox_style = 'open-street-map')\n",
    "    mapa.update_layout( height = 600, margin = {'b':0, 't':0, 'r':0, 'l': 0})\n",
    "    mapa.show()\n",
    "# plt.savefig('img/Mapa_Negócios.png', format='png'), #Salvando o mapa para reenderizar no github\n",
    "widgets.interactive( update_map, Filtro = (dfp1), fil_zip   = fil_zip )  "
   ]
  },
  {
   "cell_type": "markdown",
   "id": "04c05ceb-449a-41ed-a3e9-379d125b9659",
   "metadata": {},
   "source": [
    "<center><img alt=\"Dbian Data Scientist\" width=\"100%\" src=\"Mapa_interativo_imoveis.png\"></center>"
   ]
  },
  {
   "cell_type": "code",
   "execution_count": 35,
   "id": "e895817d-160e-41eb-8a42-4050383d73ff",
   "metadata": {},
   "outputs": [],
   "source": [
    "# Engenharia de atributos para cenarização de hipóteses\n",
    "\n",
    "Filtro = dfp1.copy()\n",
    "\n",
    "Filtro = Filtro[Filtro['compra'] == 'sim']\n",
    "df4 = Filtro[['temporada', 'zipcode', 'price']].groupby(['zipcode', 'temporada']).median().reset_index()\n",
    "\n",
    "df4 = df4.rename(columns = {'price' : 'price_media_temporada', 'temporada': 'temporada_median'} ) \n",
    "df5 = pd.merge(Filtro, df4, on='zipcode', how = 'inner')\n",
    "\n",
    "for i, row in df5.iterrows():\n",
    "    if (row['price_media_temporada'] > row['price']):\n",
    "        df5.loc[i,'venda'] = row['price'] * 1.1 # tabela 10%\n",
    "    else:\n",
    "        df5.loc[i,'venda'] = row['price'] * 1.3 # tabela 30%\n"
   ]
  },
  {
   "cell_type": "markdown",
   "id": "81474900-7f4f-43d1-b58d-a1f59878adc2",
   "metadata": {},
   "source": [
    "### Resultado apurado com as feactures criadas e ajustes nos valores dos imóveis\n",
    "   - Ações mais assertivas com análise de dados e o uso da Ciência de Dados proporcionam várias possíbilidades de inteligência competitiva de mercado."
   ]
  },
  {
   "cell_type": "code",
   "execution_count": 36,
   "id": "6a9a6562-fab1-4ee7-8253-03ed36ce8b8e",
   "metadata": {},
   "outputs": [
    {
     "name": "stdout",
     "output_type": "stream",
     "text": [
      "\n",
      "Resultado do lucro:\t$ 23813762.9\n",
      "\n"
     ]
    }
   ],
   "source": [
    "# Criando uma lista para um novo objeto python result_df5\n",
    "concat_lista = df5['temporada'].tolist()\n",
    "result=df5[['temporada', 'id', 'price', 'venda']]\n",
    "\n",
    "# Resultado obtivo com as cenarizações de compra e venda ( lucro bruto ) obtido com as compras e vendas \n",
    "lucrob=df5['lucro'] = df5['venda'] - df5['price'] \n",
    "resultadoLb=lucrob.sum()\n",
    "print('')\n",
    "print(f'Resultado do lucro:\\t$',resultadoLb)\n",
    "print('')"
   ]
  },
  {
   "cell_type": "code",
   "execution_count": 37,
   "id": "c143d8fd-b163-450e-bb5c-6ae0e68de1a3",
   "metadata": {},
   "outputs": [
    {
     "data": {
      "text/html": [
       "<div>\n",
       "<style scoped>\n",
       "    .dataframe tbody tr th:only-of-type {\n",
       "        vertical-align: middle;\n",
       "    }\n",
       "\n",
       "    .dataframe tbody tr th {\n",
       "        vertical-align: top;\n",
       "    }\n",
       "\n",
       "    .dataframe thead th {\n",
       "        text-align: right;\n",
       "    }\n",
       "</style>\n",
       "<table border=\"1\" class=\"dataframe\">\n",
       "  <thead>\n",
       "    <tr style=\"text-align: right;\">\n",
       "      <th></th>\n",
       "      <th>porao</th>\n",
       "      <th>reforma</th>\n",
       "      <th>banheiros</th>\n",
       "      <th>filt_per_ano_const</th>\n",
       "      <th>filt_per_renovacao</th>\n",
       "      <th>temporada</th>\n",
       "      <th>year_range</th>\n",
       "      <th>compra</th>\n",
       "      <th>temporada_median</th>\n",
       "      <th>price_media_temporada</th>\n",
       "      <th>venda</th>\n",
       "      <th>lucro</th>\n",
       "    </tr>\n",
       "  </thead>\n",
       "  <tbody>\n",
       "    <tr>\n",
       "      <th>0</th>\n",
       "      <td>1</td>\n",
       "      <td>nao</td>\n",
       "      <td>0-3</td>\n",
       "      <td>AN</td>\n",
       "      <td>NR</td>\n",
       "      <td>inverno</td>\n",
       "      <td>1955 - 2015</td>\n",
       "      <td>sim</td>\n",
       "      <td>inverno</td>\n",
       "      <td>222450</td>\n",
       "      <td>312000</td>\n",
       "      <td>72000</td>\n",
       "    </tr>\n",
       "    <tr>\n",
       "      <th>1</th>\n",
       "      <td>1</td>\n",
       "      <td>nao</td>\n",
       "      <td>0-3</td>\n",
       "      <td>AN</td>\n",
       "      <td>NR</td>\n",
       "      <td>inverno</td>\n",
       "      <td>1955 - 2015</td>\n",
       "      <td>sim</td>\n",
       "      <td>outono</td>\n",
       "      <td>215500</td>\n",
       "      <td>312000</td>\n",
       "      <td>72000</td>\n",
       "    </tr>\n",
       "    <tr>\n",
       "      <th>2</th>\n",
       "      <td>0</td>\n",
       "      <td>nao</td>\n",
       "      <td>0-3</td>\n",
       "      <td>AN</td>\n",
       "      <td>NR</td>\n",
       "      <td>inverno</td>\n",
       "      <td>1955 - 2015</td>\n",
       "      <td>sim</td>\n",
       "      <td>inverno</td>\n",
       "      <td>222450</td>\n",
       "      <td>225390</td>\n",
       "      <td>20490</td>\n",
       "    </tr>\n",
       "    <tr>\n",
       "      <th>3</th>\n",
       "      <td>0</td>\n",
       "      <td>nao</td>\n",
       "      <td>0-3</td>\n",
       "      <td>AN</td>\n",
       "      <td>NR</td>\n",
       "      <td>inverno</td>\n",
       "      <td>1955 - 2015</td>\n",
       "      <td>sim</td>\n",
       "      <td>outono</td>\n",
       "      <td>215500</td>\n",
       "      <td>225390</td>\n",
       "      <td>20490</td>\n",
       "    </tr>\n",
       "    <tr>\n",
       "      <th>4</th>\n",
       "      <td>0</td>\n",
       "      <td>sim</td>\n",
       "      <td>0-3</td>\n",
       "      <td>AN</td>\n",
       "      <td>NR</td>\n",
       "      <td>outono</td>\n",
       "      <td>1930 - 1954</td>\n",
       "      <td>sim</td>\n",
       "      <td>inverno</td>\n",
       "      <td>222450</td>\n",
       "      <td>237050</td>\n",
       "      <td>21550</td>\n",
       "    </tr>\n",
       "  </tbody>\n",
       "</table>\n",
       "</div>"
      ],
      "text/plain": [
       "   porao reforma banheiros filt_per_ano_const filt_per_renovacao temporada  \\\n",
       "0      1     nao       0-3                 AN                 NR   inverno   \n",
       "1      1     nao       0-3                 AN                 NR   inverno   \n",
       "2      0     nao       0-3                 AN                 NR   inverno   \n",
       "3      0     nao       0-3                 AN                 NR   inverno   \n",
       "4      0     sim       0-3                 AN                 NR    outono   \n",
       "\n",
       "    year_range compra temporada_median  price_media_temporada  venda  lucro  \n",
       "0  1955 - 2015    sim          inverno                 222450 312000  72000  \n",
       "1  1955 - 2015    sim           outono                 215500 312000  72000  \n",
       "2  1955 - 2015    sim          inverno                 222450 225390  20490  \n",
       "3  1955 - 2015    sim           outono                 215500 225390  20490  \n",
       "4  1930 - 1954    sim          inverno                 222450 237050  21550  "
      ]
     },
     "execution_count": 37,
     "metadata": {},
     "output_type": "execute_result"
    }
   ],
   "source": [
    "df5.head(5).iloc[ :, 31: ]"
   ]
  },
  {
   "cell_type": "code",
   "execution_count": 38,
   "id": "081938cb-5d1e-46e8-b7cf-5e27dfa986eb",
   "metadata": {
    "tags": []
   },
   "outputs": [
    {
     "data": {
      "application/javascript": [
       "\n",
       "        if (window._pyforest_update_imports_cell) { window._pyforest_update_imports_cell('import seaborn as sns\\nimport sys\\nimport plotly.express as px'); }\n",
       "    "
      ],
      "text/plain": [
       "<IPython.core.display.Javascript object>"
      ]
     },
     "metadata": {},
     "output_type": "display_data"
    },
    {
     "data": {
      "application/javascript": [
       "\n",
       "        if (window._pyforest_update_imports_cell) { window._pyforest_update_imports_cell('import seaborn as sns\\nimport sys\\nimport plotly.express as px'); }\n",
       "    "
      ],
      "text/plain": [
       "<IPython.core.display.Javascript object>"
      ]
     },
     "metadata": {},
     "output_type": "display_data"
    },
    {
     "data": {
      "application/javascript": [
       "\n",
       "        if (window._pyforest_update_imports_cell) { window._pyforest_update_imports_cell('import seaborn as sns\\nimport sys\\nimport plotly.express as px'); }\n",
       "    "
      ],
      "text/plain": [
       "<IPython.core.display.Javascript object>"
      ]
     },
     "metadata": {},
     "output_type": "display_data"
    },
    {
     "data": {
      "application/javascript": [
       "\n",
       "        if (window._pyforest_update_imports_cell) { window._pyforest_update_imports_cell('import seaborn as sns\\nimport sys\\nimport plotly.express as px'); }\n",
       "    "
      ],
      "text/plain": [
       "<IPython.core.display.Javascript object>"
      ]
     },
     "metadata": {},
     "output_type": "display_data"
    },
    {
     "data": {
      "application/javascript": [
       "\n",
       "        if (window._pyforest_update_imports_cell) { window._pyforest_update_imports_cell('import seaborn as sns\\nimport sys\\nimport plotly.express as px'); }\n",
       "    "
      ],
      "text/plain": [
       "<IPython.core.display.Javascript object>"
      ]
     },
     "metadata": {},
     "output_type": "display_data"
    },
    {
     "data": {
      "image/png": "[encoded data removed]",
      "text/plain": [
       "<Figure size 1500x500 with 1 Axes>"
      ]
     },
     "metadata": {},
     "output_type": "display_data"
    }
   ],
   "source": [
    "# Grafico para visualização das cenarizações acima\n",
    "\n",
    "plt.figure(figsize=(15,5));\n",
    "sns.despine(bottom = False, left= False)\n",
    "sns.set_context('paper')\n",
    "sns.set_context('notebook', font_scale=1)\n",
    "sns.set_style('whitegrid')\n",
    "plt.title('QUANTITATIVO DOS IMÓVEIS MAIS VENDIDOS POR ÉPOCA DO ANO ', pad=25, fontsize = 15, color='Blue')\n",
    "p = df5[['price_media_temporada', 'price', 'venda', 'price_median', 'temporada', 'zipcode']]\n",
    "sns.barplot(data = p, x = 'temporada', y = 'venda');\n",
    "\n",
    "plt.grid( False )\n",
    "plt.box( False )\n",
    "\n",
    "\n",
    "\n",
    "plt.show()"
   ]
  },
  {
   "cell_type": "code",
   "execution_count": 39,
   "id": "3d185ab1-ffd3-47a9-a1c8-1dd61fdafe13",
   "metadata": {
    "id": "3d185ab1-ffd3-47a9-a1c8-1dd61fdafe13",
    "outputId": "007b4730-a0b7-485f-beb8-af9f699b1687"
   },
   "outputs": [
    {
     "data": {
      "application/javascript": [
       "\n",
       "        if (window._pyforest_update_imports_cell) { window._pyforest_update_imports_cell('import seaborn as sns\\nimport sys\\nimport plotly.express as px'); }\n",
       "    "
      ],
      "text/plain": [
       "<IPython.core.display.Javascript object>"
      ]
     },
     "metadata": {},
     "output_type": "display_data"
    },
    {
     "data": {
      "image/png": "[encoded data removed]",
      "text/plain": [
       "<Figure size 1500x500 with 1 Axes>"
      ]
     },
     "metadata": {},
     "output_type": "display_data"
    }
   ],
   "source": [
    "# Boxplot do atributo price, preço, para visualizar como ficaram as distribuições\n",
    "\n",
    "plt.figure(figsize=(15,5))\n",
    "sns.boxplot(df_kc_zsc['price'], color='LightBlue')\n",
    "plt.title( 'DISTRITUIÇÃO IQR - INTRAQUARTIL DA VARIÁVEL PREÇO DOS IMÓVEIS', pad=25, fontsize=12, color='Black' );\n",
    "\n",
    "plt.show()"
   ]
  },
  {
   "cell_type": "markdown",
   "id": "e3fad252-d5f3-42e6-bb2b-1712818e32c1",
   "metadata": {},
   "source": [
    "___"
   ]
  },
  {
   "cell_type": "code",
   "execution_count": 40,
   "id": "2fc2ef7a-f108-4942-bebd-682c6d47d2d9",
   "metadata": {
    "id": "2fc2ef7a-f108-4942-bebd-682c6d47d2d9",
    "outputId": "8d5fe206-1741-4e5d-d4ac-4187a3e97691"
   },
   "outputs": [
    {
     "name": "stdout",
     "output_type": "stream",
     "text": [
      "Engenharia de Atributos com \"ZSC\"\n",
      "\n",
      "Absoluto Máximo: 2.861111111111111\n",
      "Absoluto Mínimo: -0.7169117647058824\n",
      "\n",
      "diff15_abs         1\n",
      "m²_living          1\n",
      "sqft_living        1\n",
      "bedrooms           0\n",
      "bathrooms          0\n",
      "sqft_above         0\n",
      "sqft_basement      0\n",
      "price              0\n",
      "porao              0\n",
      "floors             0\n",
      "grade              0\n",
      "valor_m²_imovel    0\n",
      "yr_renovated       0\n",
      "yr_built           0\n",
      "sqft_lot          -0\n",
      "condition         -0\n",
      "sqft_lot15        -0\n",
      "idade_imovel      -0\n",
      "sqft_living15     -0\n",
      "valor_m²_const    -0\n",
      "Name: diff15_abs, dtype: float64\n"
     ]
    }
   ],
   "source": [
    "# Engenharia de atributos. Aplicarei a criação de um delta para melhorar as predições de preços de compra e vendas dos imóveis.\n",
    "# Com essa nova variável, podemos tentar melhorar as aproximações ou distânciameto de uma variável para outra\n",
    "\n",
    "print(f'Engenharia de Atributos com \"ZSC\"\\n')\n",
    "\n",
    "df_kc_zsc[ 'diff15_abs' ] = ( df_kc_zsc[ 'sqft_living' ] - df_kc_zsc[ 'sqft_living15' ] ) / df_kc_zsc[ 'sqft_living15' ]\n",
    "\n",
    "print ('Absoluto Máximo:', max(df_kc_zsc['diff15_abs']))\n",
    "print ('Absoluto Mínimo:', min(df_kc_zsc['diff15_abs']))\n",
    "\n",
    "print('')\n",
    "corr = df_kc_zsc.corr(method ='pearson')\n",
    "print(corr['diff15_abs'].sort_values(ascending=False))"
   ]
  },
  {
   "cell_type": "markdown",
   "id": "209f67cc-13b5-4971-88f6-03a26c35f2aa",
   "metadata": {
    "id": "209f67cc-13b5-4971-88f6-03a26c35f2aa",
    "tags": []
   },
   "source": [
    "### PipeLine de preparação da base para os trabalhos de criação do modelo de predição com `Machine Learning`\n",
    "  - Separação das variáveis para treinamento da máquina em: <em>`\"X_train e X_test, y_train e y_test\"`\n",
    "    - 1) Preparando as features - recursos para modelagem da minha máquina\n",
    "     - 2) Variável de resposta\n",
    "### Processo de separação dos dados para treinamento e teste da máquina\n",
    "  - Em x_train, irei exluir a coluna preços e datas, fazendo as separações\n",
    "    - Em y_train, criarei um cópia da coluna preços\n",
    "      - Obs:. Aplicarei um modelo de regressão simples, porque minha variável de resposta é numérica e meu problema de negócio requer regressão linear."
   ]
  },
  {
   "cell_type": "code",
   "execution_count": 41,
   "id": "a340e83b-e919-4023-a8c3-23992af0fc5a",
   "metadata": {
    "id": "3ad87462-a823-4e47-92a6-0a89ea3f709d"
   },
   "outputs": [],
   "source": [
    "# Excluindo algumas colunas que não são necessárias nesse momento, e também para ajustar o tamanho do Dataset origem\n",
    "\n",
    "df_kc.drop(columns=['id', 'date', 'dt_construcao', 'ano_corrente', 'year_range', \n",
    "                    'banheiros', 'porao', 'reforma', 'temporada', 'mes', 'mes_dia', \n",
    "                    'filt_per_ano_const', 'filt_per_renovacao', 'ano'], inplace=True)"
   ]
  },
  {
   "cell_type": "markdown",
   "id": "876a9df1-3185-47a7-9879-49452b10b154",
   "metadata": {
    "id": "876a9df1-3185-47a7-9879-49452b10b154",
    "tags": []
   },
   "source": [
    "### Primeiro Modelo a ser implementado"
   ]
  },
  {
   "cell_type": "code",
   "execution_count": 42,
   "id": "a75a637b-b227-40fd-bcc7-f6ed3f3af10d",
   "metadata": {},
   "outputs": [],
   "source": [
    "# Separação dos dados para treinamento e teste da máquina preditiva \n",
    "\n",
    "x_train = df_kc.drop( [ 'price' ], axis=1 )\n",
    "y_train = df_kc[ 'price' ].copy()"
   ]
  },
  {
   "cell_type": "code",
   "execution_count": 43,
   "id": "f1267849-d3bb-4cd9-b494-77b095d01b0a",
   "metadata": {},
   "outputs": [
    {
     "data": {
      "text/html": [
       "<div>\n",
       "<style scoped>\n",
       "    .dataframe tbody tr th:only-of-type {\n",
       "        vertical-align: middle;\n",
       "    }\n",
       "\n",
       "    .dataframe tbody tr th {\n",
       "        vertical-align: top;\n",
       "    }\n",
       "\n",
       "    .dataframe thead th {\n",
       "        text-align: right;\n",
       "    }\n",
       "</style>\n",
       "<table border=\"1\" class=\"dataframe\">\n",
       "  <thead>\n",
       "    <tr style=\"text-align: right;\">\n",
       "      <th></th>\n",
       "      <th>bedrooms</th>\n",
       "      <th>bathrooms</th>\n",
       "      <th>sqft_living</th>\n",
       "      <th>sqft_lot</th>\n",
       "      <th>floors</th>\n",
       "      <th>waterfront</th>\n",
       "      <th>view</th>\n",
       "      <th>condition</th>\n",
       "      <th>grade</th>\n",
       "      <th>sqft_above</th>\n",
       "      <th>sqft_basement</th>\n",
       "      <th>yr_built</th>\n",
       "      <th>yr_renovated</th>\n",
       "      <th>zipcode</th>\n",
       "      <th>lat</th>\n",
       "      <th>long</th>\n",
       "      <th>sqft_living15</th>\n",
       "      <th>sqft_lot15</th>\n",
       "      <th>idade_imovel</th>\n",
       "      <th>m²_living</th>\n",
       "      <th>valor_m²_const</th>\n",
       "      <th>valor_m²_imovel</th>\n",
       "    </tr>\n",
       "  </thead>\n",
       "  <tbody>\n",
       "    <tr>\n",
       "      <th>0</th>\n",
       "      <td>3</td>\n",
       "      <td>1</td>\n",
       "      <td>1180</td>\n",
       "      <td>5650</td>\n",
       "      <td>1</td>\n",
       "      <td>0</td>\n",
       "      <td>0</td>\n",
       "      <td>3</td>\n",
       "      <td>7</td>\n",
       "      <td>1180</td>\n",
       "      <td>0</td>\n",
       "      <td>1955</td>\n",
       "      <td>0</td>\n",
       "      <td>98178</td>\n",
       "      <td>48</td>\n",
       "      <td>-122</td>\n",
       "      <td>1340</td>\n",
       "      <td>5650</td>\n",
       "      <td>68</td>\n",
       "      <td>109</td>\n",
       "      <td>2044</td>\n",
       "      <td>39</td>\n",
       "    </tr>\n",
       "    <tr>\n",
       "      <th>1</th>\n",
       "      <td>3</td>\n",
       "      <td>2</td>\n",
       "      <td>2570</td>\n",
       "      <td>7242</td>\n",
       "      <td>2</td>\n",
       "      <td>0</td>\n",
       "      <td>0</td>\n",
       "      <td>3</td>\n",
       "      <td>7</td>\n",
       "      <td>2170</td>\n",
       "      <td>400</td>\n",
       "      <td>1951</td>\n",
       "      <td>1991</td>\n",
       "      <td>98125</td>\n",
       "      <td>48</td>\n",
       "      <td>-122</td>\n",
       "      <td>1690</td>\n",
       "      <td>7639</td>\n",
       "      <td>72</td>\n",
       "      <td>236</td>\n",
       "      <td>2275</td>\n",
       "      <td>74</td>\n",
       "    </tr>\n",
       "    <tr>\n",
       "      <th>2</th>\n",
       "      <td>2</td>\n",
       "      <td>1</td>\n",
       "      <td>770</td>\n",
       "      <td>10000</td>\n",
       "      <td>1</td>\n",
       "      <td>0</td>\n",
       "      <td>0</td>\n",
       "      <td>3</td>\n",
       "      <td>6</td>\n",
       "      <td>770</td>\n",
       "      <td>0</td>\n",
       "      <td>1933</td>\n",
       "      <td>0</td>\n",
       "      <td>98028</td>\n",
       "      <td>48</td>\n",
       "      <td>-122</td>\n",
       "      <td>2720</td>\n",
       "      <td>8062</td>\n",
       "      <td>90</td>\n",
       "      <td>71</td>\n",
       "      <td>2541</td>\n",
       "      <td>18</td>\n",
       "    </tr>\n",
       "  </tbody>\n",
       "</table>\n",
       "</div>"
      ],
      "text/plain": [
       "   bedrooms  bathrooms  sqft_living  sqft_lot  floors  waterfront  view  \\\n",
       "0         3          1         1180      5650       1           0     0   \n",
       "1         3          2         2570      7242       2           0     0   \n",
       "2         2          1          770     10000       1           0     0   \n",
       "\n",
       "   condition  grade  sqft_above  sqft_basement  yr_built  yr_renovated  \\\n",
       "0          3      7        1180              0      1955             0   \n",
       "1          3      7        2170            400      1951          1991   \n",
       "2          3      6         770              0      1933             0   \n",
       "\n",
       "   zipcode  lat  long  sqft_living15  sqft_lot15  idade_imovel  m²_living  \\\n",
       "0    98178   48  -122           1340        5650            68        109   \n",
       "1    98125   48  -122           1690        7639            72        236   \n",
       "2    98028   48  -122           2720        8062            90         71   \n",
       "\n",
       "   valor_m²_const  valor_m²_imovel  \n",
       "0            2044               39  \n",
       "1            2275               74  \n",
       "2            2541               18  "
      ]
     },
     "execution_count": 43,
     "metadata": {},
     "output_type": "execute_result"
    }
   ],
   "source": [
    "# Checagem da exclusção da coluna price (preços), passada para x_train\n",
    "\n",
    "x_train.head(3)"
   ]
  },
  {
   "cell_type": "code",
   "execution_count": 44,
   "id": "04b87b6c-283e-48f7-a994-a707c81e5dc8",
   "metadata": {},
   "outputs": [
    {
     "data": {
      "text/plain": [
       "0   221900\n",
       "1   538000\n",
       "2   180000\n",
       "Name: price, dtype: float64"
      ]
     },
     "execution_count": 44,
     "metadata": {},
     "output_type": "execute_result"
    }
   ],
   "source": [
    "# Checagem da coluna price (preços), passado para y_train\n",
    "\n",
    "y_train.head(3)"
   ]
  },
  {
   "cell_type": "markdown",
   "id": "59ebf8e6-690f-4bf8-aa1f-460dc03d9087",
   "metadata": {
    "id": "59ebf8e6-690f-4bf8-aa1f-460dc03d9087"
   },
   "source": [
    "### Performance das Métricas do Modelo Criado\n",
    "   - Passando o modelo copiado no ínicio, `df_kc` para dentro de outra variável, com isso aplico ao modelo novas abordagens"
   ]
  },
  {
   "cell_type": "code",
   "execution_count": 45,
   "id": "f3813640-ab1c-4aaf-a836-ab35ecf6dca9",
   "metadata": {
    "id": "f3813640-ab1c-4aaf-a836-ab35ecf6dca9"
   },
   "outputs": [],
   "source": [
    "# Criando \"dfp\" que receberá o \"df_pred\", base original copiada\n",
    "\n",
    "dfp = df_kc.copy()"
   ]
  },
  {
   "cell_type": "markdown",
   "id": "21954d81-a6b4-4765-a5f1-30da4636856d",
   "metadata": {
    "id": "21954d81-a6b4-4765-a5f1-30da4636856d"
   },
   "source": [
    "### Ciclo seguinte, farei alguns ajustes e tratamentos para que não haja overfitting das métricas\n",
    "\n",
    "   - A ideia para os proximos passos, é melhorar esse modelo para que o MAPE, seja reduzido, o ideal será que ele fique em torno de 7 a 10%;\n",
    "   - Próximo passo ou ciclo, será o de evitar o `Overfitting e Underfitting` do modelo que treinamos, como?\n",
    "     - Separando nossos dados de treino e teste e retreinando o modelo"
   ]
  },
  {
   "cell_type": "markdown",
   "id": "23a0a6e4-5c75-4821-866d-4e947daa010f",
   "metadata": {
    "id": "23a0a6e4-5c75-4821-866d-4e947daa010f"
   },
   "source": [
    "### Segundo ciclo: ajustes e tratamento do modelo\n",
    "\n",
    "  - Procedimentos: vou escluir da base preços e data, passar para dentro de \"X\", com método drop do pandas\n",
    "  - Passar para dentro de \"y\" preços, com copia.\n",
    "   - Feita a separação, irei aplicar novo treinamento com método do `Sklearn train_test_split`"
   ]
  },
  {
   "cell_type": "code",
   "execution_count": 46,
   "id": "ead94c52-7ade-46c9-8f61-c9b7e596e5d6",
   "metadata": {
    "id": "ead94c52-7ade-46c9-8f61-c9b7e596e5d6"
   },
   "outputs": [],
   "source": [
    "# Separação dos dados para treinamento e teste da máquina preditiva \n",
    "\n",
    "X = df_kc.drop( [ 'price' ], axis=1 )\n",
    "y = df_kc['price'].copy()"
   ]
  },
  {
   "cell_type": "markdown",
   "id": "cc9797bc-361f-40e9-be68-0216c4915b54",
   "metadata": {
    "id": "cc9797bc-361f-40e9-be68-0216c4915b54"
   },
   "source": [
    "### Dados de treino e teste separados para o novo `aprendizado de máquina` e novas métricas\n",
    "\n",
    "  - Separando 20%, para os testes, poderiamos separar até 30%, ou seja, proporção de 80-20 ou 70-30, mas eu prefiro nesse caso usar a proporção 80-20.\n",
    "   - Já no caso do random_state esse número é aleatrório, normalmente por convenção separamos \"42\", essa prática garante que ele irá separar os mesmo números de linhas para treinamento e teste em partes iguais, poderíamos separar esta seed ou semente, em número maior, mas cada caso é um caso."
   ]
  },
  {
   "cell_type": "code",
   "execution_count": 47,
   "id": "0e12acc5-68bb-4607-8049-7c16216419a1",
   "metadata": {
    "id": "0e12acc5-68bb-4607-8049-7c16216419a1"
   },
   "outputs": [
    {
     "name": "stdout",
     "output_type": "stream",
     "text": [
      "Python Imprima as Dimensões dos Dados Separados\n",
      "\n",
      "Dimensões do Dataset Origem:\t\t (21433, 23)\n",
      "Dimensões do Conjunto de Teste:\t\t (4287, 22)\n",
      "Dimensões do Conjunto de Treinamento:\t (17146, 22)\n"
     ]
    }
   ],
   "source": [
    "# Importando o método Sklearn train_test_split - separação com parâmetros random_state, e passo para dentro de uma variável classe chamada Select_metrics, ms.\n",
    "\n",
    "train_X, test_X, train_y, test_y = ms.train_test_split( X, y, test_size=0.2, random_state=42 )\n",
    "\n",
    "print( f'Python Imprima as Dimensões dos Dados Separados\\n' )\n",
    "print( f'Dimensões do Dataset Origem:\\t\\t',df_kc.shape )\n",
    "print( f'Dimensões do Conjunto de Teste:\\t\\t',test_X.shape )\n",
    "print( f'Dimensões do Conjunto de Treinamento:\\t',train_X.shape )"
   ]
  },
  {
   "cell_type": "markdown",
   "id": "9854aa2b-d0f1-47e1-8643-f5366fd796ef",
   "metadata": {
    "id": "9854aa2b-d0f1-47e1-8643-f5366fd796ef"
   },
   "source": [
    "### Aplicação do `Modelo` para o Treinamento\n",
    "  - Vou instânciar a lineRegression ou Regressão Linear para treino dos dados já separados (split)"
   ]
  },
  {
   "cell_type": "code",
   "execution_count": 48,
   "id": "7737f432-5962-42f1-a1bf-1fefea36511a",
   "metadata": {
    "id": "7737f432-5962-42f1-a1bf-1fefea36511a",
    "outputId": "c2171581-180a-4680-9108-9f140d68071d"
   },
   "outputs": [
    {
     "data": {
      "application/javascript": [
       "\n",
       "        if (window._pyforest_update_imports_cell) { window._pyforest_update_imports_cell('import seaborn as sns\\nimport sys\\nfrom sklearn.linear_model import LinearRegression\\nimport plotly.express as px'); }\n",
       "    "
      ],
      "text/plain": [
       "<IPython.core.display.Javascript object>"
      ]
     },
     "metadata": {},
     "output_type": "display_data"
    },
    {
     "data": {
      "text/html": [
       "<style>#sk-container-id-1 {color: black;background-color: white;}#sk-container-id-1 pre{padding: 0;}#sk-container-id-1 div.sk-toggleable {background-color: white;}#sk-container-id-1 label.sk-toggleable__label {cursor: pointer;display: block;width: 100%;margin-bottom: 0;padding: 0.3em;box-sizing: border-box;text-align: center;}#sk-container-id-1 label.sk-toggleable__label-arrow:before {content: \"▸\";float: left;margin-right: 0.25em;color: #696969;}#sk-container-id-1 label.sk-toggleable__label-arrow:hover:before {color: black;}#sk-container-id-1 div.sk-estimator:hover label.sk-toggleable__label-arrow:before {color: black;}#sk-container-id-1 div.sk-toggleable__content {max-height: 0;max-width: 0;overflow: hidden;text-align: left;background-color: #f0f8ff;}#sk-container-id-1 div.sk-toggleable__content pre {margin: 0.2em;color: black;border-radius: 0.25em;background-color: #f0f8ff;}#sk-container-id-1 input.sk-toggleable__control:checked~div.sk-toggleable__content {max-height: 200px;max-width: 100%;overflow: auto;}#sk-container-id-1 input.sk-toggleable__control:checked~label.sk-toggleable__label-arrow:before {content: \"▾\";}#sk-container-id-1 div.sk-estimator input.sk-toggleable__control:checked~label.sk-toggleable__label {background-color: #d4ebff;}#sk-container-id-1 div.sk-label input.sk-toggleable__control:checked~label.sk-toggleable__label {background-color: #d4ebff;}#sk-container-id-1 input.sk-hidden--visually {border: 0;clip: rect(1px 1px 1px 1px);clip: rect(1px, 1px, 1px, 1px);height: 1px;margin: -1px;overflow: hidden;padding: 0;position: absolute;width: 1px;}#sk-container-id-1 div.sk-estimator {font-family: monospace;background-color: #f0f8ff;border: 1px dotted black;border-radius: 0.25em;box-sizing: border-box;margin-bottom: 0.5em;}#sk-container-id-1 div.sk-estimator:hover {background-color: #d4ebff;}#sk-container-id-1 div.sk-parallel-item::after {content: \"\";width: 100%;border-bottom: 1px solid gray;flex-grow: 1;}#sk-container-id-1 div.sk-label:hover label.sk-toggleable__label {background-color: #d4ebff;}#sk-container-id-1 div.sk-serial::before {content: \"\";position: absolute;border-left: 1px solid gray;box-sizing: border-box;top: 0;bottom: 0;left: 50%;z-index: 0;}#sk-container-id-1 div.sk-serial {display: flex;flex-direction: column;align-items: center;background-color: white;padding-right: 0.2em;padding-left: 0.2em;position: relative;}#sk-container-id-1 div.sk-item {position: relative;z-index: 1;}#sk-container-id-1 div.sk-parallel {display: flex;align-items: stretch;justify-content: center;background-color: white;position: relative;}#sk-container-id-1 div.sk-item::before, #sk-container-id-1 div.sk-parallel-item::before {content: \"\";position: absolute;border-left: 1px solid gray;box-sizing: border-box;top: 0;bottom: 0;left: 50%;z-index: -1;}#sk-container-id-1 div.sk-parallel-item {display: flex;flex-direction: column;z-index: 1;position: relative;background-color: white;}#sk-container-id-1 div.sk-parallel-item:first-child::after {align-self: flex-end;width: 50%;}#sk-container-id-1 div.sk-parallel-item:last-child::after {align-self: flex-start;width: 50%;}#sk-container-id-1 div.sk-parallel-item:only-child::after {width: 0;}#sk-container-id-1 div.sk-dashed-wrapped {border: 1px dashed gray;margin: 0 0.4em 0.5em 0.4em;box-sizing: border-box;padding-bottom: 0.4em;background-color: white;}#sk-container-id-1 div.sk-label label {font-family: monospace;font-weight: bold;display: inline-block;line-height: 1.2em;}#sk-container-id-1 div.sk-label-container {text-align: center;}#sk-container-id-1 div.sk-container {/* jupyter's `normalize.less` sets `[hidden] { display: none; }` but bootstrap.min.css set `[hidden] { display: none !important; }` so we also need the `!important` here to be able to override the default hidden behavior on the sphinx rendered scikit-learn.org. See: https://github.com/scikit-learn/scikit-learn/issues/21755 */display: inline-block !important;position: relative;}#sk-container-id-1 div.sk-text-repr-fallback {display: none;}</style><div id=\"sk-container-id-1\" class=\"sk-top-container\"><div class=\"sk-text-repr-fallback\"><pre>LinearRegression()</pre><b>In a Jupyter environment, please rerun this cell to show the HTML representation or trust the notebook. <br />On GitHub, the HTML representation is unable to render, please try loading this page with nbviewer.org.</b></div><div class=\"sk-container\" hidden><div class=\"sk-item\"><div class=\"sk-estimator sk-toggleable\"><input class=\"sk-toggleable__control sk-hidden--visually\" id=\"sk-estimator-id-1\" type=\"checkbox\" checked><label for=\"sk-estimator-id-1\" class=\"sk-toggleable__label sk-toggleable__label-arrow\">LinearRegression</label><div class=\"sk-toggleable__content\"><pre>LinearRegression()</pre></div></div></div></div></div>"
      ],
      "text/plain": [
       "LinearRegression()"
      ]
     },
     "execution_count": 48,
     "metadata": {},
     "output_type": "execute_result"
    }
   ],
   "source": [
    "# Descrição do Modelo para treinamento\n",
    "\n",
    "model_lr = LinearRegression()\n",
    "model_lr.fit( train_X, train_y )"
   ]
  },
  {
   "cell_type": "code",
   "execution_count": 49,
   "id": "f5350b05-2821-4833-a1c1-bc2cb23ca425",
   "metadata": {
    "id": "f5350b05-2821-4833-a1c1-bc2cb23ca425"
   },
   "outputs": [],
   "source": [
    "# Predict - Modelo de predição criado \n",
    "\n",
    "pred = model_lr.predict( x_train )"
   ]
  },
  {
   "cell_type": "markdown",
   "id": "b5117faa-cab8-44d5-8a93-854bb89b2bd8",
   "metadata": {
    "id": "b5117faa-cab8-44d5-8a93-854bb89b2bd8"
   },
   "source": [
    "### Modelo de `predição` para novo ciclo de treinamento encima dos meus dados de teste"
   ]
  },
  {
   "cell_type": "code",
   "execution_count": 50,
   "id": "c327b75a-2018-4518-a1c8-484bf921d1e5",
   "metadata": {
    "id": "c327b75a-2018-4518-a1c8-484bf921d1e5",
    "outputId": "1fca9f7c-77d2-44bd-b665-134fd0c298c4"
   },
   "outputs": [
    {
     "name": "stdout",
     "output_type": "stream",
     "text": [
      "Imprimindo dados de treinamento e testes do modelo criado\n",
      "\n",
      "\n",
      "Predição com dados de treinamento:\t\n",
      " [517197.62929577 773589.17183809 624697.21971535 218512.3803969\n",
      " 977770.3292458 ]\n",
      "\n",
      "Predição com dados de teste:\t\t\n",
      " [289444.69531764 434522.31038476 547469.23121923 215353.07772073\n",
      " 331191.36285792]\n"
     ]
    }
   ],
   "source": [
    "# Predict - Novo modelo de predição pred_train, treinnamento e pred_test, teste aplicado para os próximos passos\n",
    "\n",
    "predictions_train = model_lr.predict( train_X )\n",
    "predictions_test  = model_lr.predict( test_X )\n",
    "\n",
    "print( 'Imprimindo dados de treinamento e testes do modelo criado\\n' )\n",
    "print( '\\nPredição com dados de treinamento:\\t\\n',predictions_train [:5] ) \n",
    "print( '\\nPredição com dados de teste:\\t\\t\\n',predictions_test  [:5] ) "
   ]
  },
  {
   "cell_type": "markdown",
   "id": "5cbe1a22-7f8f-4906-8a00-fe81feb27e88",
   "metadata": {
    "id": "5cbe1a22-7f8f-4906-8a00-fe81feb27e88"
   },
   "source": [
    "### Performance das Métricas do Modelo Criado\n",
    "   - Avaliaremos agora os dados de treino e dados de teste aplicados para esse novo ciclo\n",
    "   \n",
    "   - Aplicando novamente:\n",
    "     - MAE  - Erro Médio Absoluto\n",
    "     - MAPE - erro percentual absoluto médio"
   ]
  },
  {
   "cell_type": "code",
   "execution_count": 51,
   "id": "998ae609-eac3-43ae-bc18-761c88c7b5a6",
   "metadata": {
    "id": "998ae609-eac3-43ae-bc18-761c88c7b5a6",
    "outputId": "18d68d9c-c9f4-4159-d590-e24f415d161b"
   },
   "outputs": [
    {
     "name": "stdout",
     "output_type": "stream",
     "text": [
      "Imprimindo os dados dos erros médios das variáveis\n",
      "\n",
      "\n",
      "Dados Absolutos de Erro MAE: 69858.49651491283\n",
      "Dados Absolutos de Erro MAPE: 0.16485207670506885 %\n"
     ]
    }
   ],
   "source": [
    "# Passando para m. de metrica a média absoluta do y_train e y_test com pred_train e pred_test\n",
    "# Mape preciso aplicar a subtração para gerara as novas métricas\n",
    "\n",
    "print( 'Imprimindo os dados dos erros médios das variáveis\\n' )\n",
    "# MAE: dados de treino em y\n",
    "mae_train  = m.mean_absolute_error( train_y, predictions_train )\n",
    "# MAPE:\n",
    "print( '\\nDados Absolutos de Erro MAE:', mae_train )\n",
    "mape_train = np.mean( np.abs( ( train_y - predictions_train ) / train_y ) )\n",
    "# MAE: dados de test em y\n",
    "mae_test   = m.mean_absolute_error( test_y, predictions_test )\n",
    "# MAPE:\n",
    "print( 'Dados Absolutos de Erro MAPE:',  mape_train,'%' )\n",
    "mape_test  = np.mean( np.abs( ( test_y - predictions_test ) / test_y ) )"
   ]
  },
  {
   "cell_type": "markdown",
   "id": "605b1061-46f1-4ddd-91b4-b6aabd749c18",
   "metadata": {
    "id": "605b1061-46f1-4ddd-91b4-b6aabd749c18"
   },
   "source": [
    "### Criando um DataFrame para para apresentar os dados de treino e testes\n",
    "  - Criarei um dicionário para passar os dados de treino e teste\n",
    "  \n",
    "    - Objetivo será que meus dados de teste, possam ser menores que os dados de treino, assim podemos afirmar que meu \"erro\" foi diminuido ainda mais.\n",
    "   \n",
    "     - Lógica da métrica: quanto menor o percentil MAPE, melhor, mas isso pedenderá muito da qualidade dos dados extraídos para implementar a máquina preditiva.\n",
    "    \n",
    "      - Como análiso o desempenho? Análizando os dados de `teste`;\n",
    "    - Embora ainda está alto, agora ficou mais próximo do objetivo fim, predizer os valores de compra e venda dos imóveis e baixar ainda mais. Os dados separados, performaram melhor depois de alguns ajustes, significa dizer que; o erro da <em>`PREDIÇÃO` está em média em torno de <em>`125 mil e 25%`, ainda é muito, farei ajustes para reduzir esse percentual ainda mais, só lembrado que estou relativizando."
   ]
  },
  {
   "cell_type": "markdown",
   "id": "bc1b28ca-3f4e-42a9-a0b6-070e8697a86f",
   "metadata": {
    "id": "bc1b28ca-3f4e-42a9-a0b6-070e8697a86f"
   },
   "source": [
    "### Análisando a performance do modelo criado com a variável pred, que recebeu o model_lr predict \"x_train\""
   ]
  },
  {
   "cell_type": "code",
   "execution_count": 52,
   "id": "e2af90f1-0b1e-4f66-80d5-15d27bf35b37",
   "metadata": {
    "id": "e2af90f1-0b1e-4f66-80d5-15d27bf35b37"
   },
   "outputs": [],
   "source": [
    "# Criando uma coluna nova \"predicao\", a usarei para conpor outras análises com outras variáveis que serão criadas\n",
    "\n",
    "dfp[ 'predicao' ] = pred"
   ]
  },
  {
   "cell_type": "markdown",
   "id": "c908f534-f0db-4152-b777-d4dbcb5b3c76",
   "metadata": {
    "id": "c908f534-f0db-4152-b777-d4dbcb5b3c76"
   },
   "source": [
    "### Considerações sobre a predição e erro\n",
    "\n",
    "  - Observação da coluna erro, sobre erros negativos e erros positivos.\n",
    "    - Quando tenho um valor positivo, significa dizer que o valor de venda do imóvel foi menor, a maquina subestimou o valor de venda, se comparado com o valor real do imóvel. \n",
    "    - Quanto tenho um valor negativo, significa dizer que o valor é maior do que o valor real de venda do imóvel, significa dizer que houve uma superestimaçção de venda do modelo\n",
    "     - Como resolver essa questão? Vou resolver mais a frente com técnica adequada."
   ]
  },
  {
   "cell_type": "code",
   "execution_count": 53,
   "id": "580fc79c-4209-4bb3-a72b-7b3ee0d6aae7",
   "metadata": {
    "id": "580fc79c-4209-4bb3-a72b-7b3ee0d6aae7"
   },
   "outputs": [],
   "source": [
    "# Criação de uma coluna com a dirença do preço do imóvel original e a predição de venda, assim consigo aplicar outras análises com novas variáveis;\n",
    "# Farei o seguinte: quero a soma da coluna erro, não importando se são positivos ou negativos, quero os valores absolutos \"abs\", para isso; \n",
    "# Usarei um método do numpy.np.abs, para que eu possa avaliar as proximas tratativas;\n",
    "# Criarei uma coluna percentual, desta forma, relativiamos os percentuais em relação ao preço de vendas dos imóveis;\n",
    "\n",
    "dfp[ 'erro' ]          = dfp[ 'price' ] - dfp[ 'predicao' ]\n",
    "dfp[ 'erro_abs' ]      = np.abs( dfp[ 'erro' ] )\n",
    "dfp[ 'erro_perc' ]     = np.abs( ( dfp[ 'price' ] - dfp[ 'predicao' ] ) / dfp[ 'price' ] )\n",
    "dfp[ 'erro_perc_abs' ] = np.abs(dfp[ 'erro_perc' ])"
   ]
  },
  {
   "cell_type": "code",
   "execution_count": 54,
   "id": "9f57bed1-7685-459b-a4fe-86f020c4fe0d",
   "metadata": {
    "id": "9f57bed1-7685-459b-a4fe-86f020c4fe0d",
    "outputId": "2dbbb790-a03f-4da9-c4ab-0aa3e689ebcf"
   },
   "outputs": [
    {
     "data": {
      "text/html": [
       "<div>\n",
       "<style scoped>\n",
       "    .dataframe tbody tr th:only-of-type {\n",
       "        vertical-align: middle;\n",
       "    }\n",
       "\n",
       "    .dataframe tbody tr th {\n",
       "        vertical-align: top;\n",
       "    }\n",
       "\n",
       "    .dataframe thead th {\n",
       "        text-align: right;\n",
       "    }\n",
       "</style>\n",
       "<table border=\"1\" class=\"dataframe\">\n",
       "  <thead>\n",
       "    <tr style=\"text-align: right;\">\n",
       "      <th></th>\n",
       "      <th>price</th>\n",
       "      <th>predicao</th>\n",
       "      <th>erro</th>\n",
       "      <th>erro_abs</th>\n",
       "      <th>erro_perc</th>\n",
       "      <th>erro_perc_abs</th>\n",
       "    </tr>\n",
       "  </thead>\n",
       "  <tbody>\n",
       "    <tr>\n",
       "      <th>0</th>\n",
       "      <td>221900</td>\n",
       "      <td>106690</td>\n",
       "      <td>115210</td>\n",
       "      <td>115210</td>\n",
       "      <td>1</td>\n",
       "      <td>1</td>\n",
       "    </tr>\n",
       "    <tr>\n",
       "      <th>1</th>\n",
       "      <td>538000</td>\n",
       "      <td>559070</td>\n",
       "      <td>-21070</td>\n",
       "      <td>21070</td>\n",
       "      <td>0</td>\n",
       "      <td>0</td>\n",
       "    </tr>\n",
       "    <tr>\n",
       "      <th>2</th>\n",
       "      <td>180000</td>\n",
       "      <td>29640</td>\n",
       "      <td>150360</td>\n",
       "      <td>150360</td>\n",
       "      <td>1</td>\n",
       "      <td>1</td>\n",
       "    </tr>\n",
       "    <tr>\n",
       "      <th>3</th>\n",
       "      <td>604000</td>\n",
       "      <td>621797</td>\n",
       "      <td>-17797</td>\n",
       "      <td>17797</td>\n",
       "      <td>0</td>\n",
       "      <td>0</td>\n",
       "    </tr>\n",
       "    <tr>\n",
       "      <th>4</th>\n",
       "      <td>510000</td>\n",
       "      <td>511082</td>\n",
       "      <td>-1082</td>\n",
       "      <td>1082</td>\n",
       "      <td>0</td>\n",
       "      <td>0</td>\n",
       "    </tr>\n",
       "    <tr>\n",
       "      <th>5</th>\n",
       "      <td>1225000</td>\n",
       "      <td>1431585</td>\n",
       "      <td>-206585</td>\n",
       "      <td>206585</td>\n",
       "      <td>0</td>\n",
       "      <td>0</td>\n",
       "    </tr>\n",
       "    <tr>\n",
       "      <th>6</th>\n",
       "      <td>257500</td>\n",
       "      <td>182023</td>\n",
       "      <td>75477</td>\n",
       "      <td>75477</td>\n",
       "      <td>0</td>\n",
       "      <td>0</td>\n",
       "    </tr>\n",
       "    <tr>\n",
       "      <th>7</th>\n",
       "      <td>291850</td>\n",
       "      <td>241422</td>\n",
       "      <td>50428</td>\n",
       "      <td>50428</td>\n",
       "      <td>0</td>\n",
       "      <td>0</td>\n",
       "    </tr>\n",
       "    <tr>\n",
       "      <th>8</th>\n",
       "      <td>229500</td>\n",
       "      <td>147359</td>\n",
       "      <td>82141</td>\n",
       "      <td>82141</td>\n",
       "      <td>0</td>\n",
       "      <td>0</td>\n",
       "    </tr>\n",
       "    <tr>\n",
       "      <th>9</th>\n",
       "      <td>323000</td>\n",
       "      <td>262165</td>\n",
       "      <td>60835</td>\n",
       "      <td>60835</td>\n",
       "      <td>0</td>\n",
       "      <td>0</td>\n",
       "    </tr>\n",
       "  </tbody>\n",
       "</table>\n",
       "</div>"
      ],
      "text/plain": [
       "    price  predicao    erro  erro_abs  erro_perc  erro_perc_abs\n",
       "0  221900    106690  115210    115210          1              1\n",
       "1  538000    559070  -21070     21070          0              0\n",
       "2  180000     29640  150360    150360          1              1\n",
       "3  604000    621797  -17797     17797          0              0\n",
       "4  510000    511082   -1082      1082          0              0\n",
       "5 1225000   1431585 -206585    206585          0              0\n",
       "6  257500    182023   75477     75477          0              0\n",
       "7  291850    241422   50428     50428          0              0\n",
       "8  229500    147359   82141     82141          0              0\n",
       "9  323000    262165   60835     60835          0              0"
      ]
     },
     "execution_count": 54,
     "metadata": {},
     "output_type": "execute_result"
    }
   ],
   "source": [
    "# Checando na coluna predicao, o que efetivamente resultou da predicão feita, treinamento do modelo\n",
    "\n",
    "dfp[[ 'price', 'predicao', 'erro', 'erro_abs', 'erro_perc', 'erro_perc_abs' ]].head(10)"
   ]
  },
  {
   "cell_type": "code",
   "execution_count": 55,
   "id": "f955b569-4a59-42f8-949c-45829ab36b78",
   "metadata": {
    "id": "f955b569-4a59-42f8-949c-45829ab36b78",
    "outputId": "b02b728f-a9c3-478b-cdbb-c2e166c4518c"
   },
   "outputs": [
    {
     "name": "stdout",
     "output_type": "stream",
     "text": [
      "69755.58720246977\n"
     ]
    }
   ],
   "source": [
    "# Vou dividir a soma da coluna erro_abs por ela mesma e achar uma média\n",
    "\n",
    "# np.sum(dfp[ 'erro_abs' ] ) / len(dfp[ 'erro_abs' ])\n",
    "\n",
    "# Posso também chamar o mean do numpy e fazer a média direto\n",
    "\n",
    "print(np.mean(dfp[ 'erro_abs' ] ))"
   ]
  },
  {
   "cell_type": "markdown",
   "id": "e308749a-ca7c-446a-98c0-9f4a092ccfc8",
   "metadata": {
    "id": "e308749a-ca7c-446a-98c0-9f4a092ccfc8"
   },
   "source": [
    "### Prevendo Números: Entendendo as métricas R², MAE - MAPE - MSE e RMSE, Acurácia e Erro\n",
    "   - A métrica R², também conhecida como R-dois ou coeficiente de determinação, representa o percentual da variância dos dados que é explicado pelo modelo. Os resultados variam de 0 a 1, geralmente também são expressos em termos percentuais, ou seja, variando entre 0% e 100%. Quanto maior é o valor de R², mais explicativo é o modelo em relação aos dados previstos. Na equação 2 é mostrado o cálculo desta métrica, no qual y e ŷ os valores reais e previstos, respectivamente, e y-barra representa a média dos valores reais.\n",
    "  \n",
    "### Erro Médio Absoluto\n",
    "O erro médio absoluto (MAE — do inglês Mean Absoluto Error), como demonstrado na equação 3, mede a média da diferença entre o valor real com o predito. Mas por haver valores positivos e negativos, é adicionado um módulo entre a diferença dos valores. Além disso, esta métrica não é afetada por valores discrepantes — os denominados outliers.\n",
    "\n",
    "### Erro Percentual Absoluto Médio\n",
    "O erro percentual absoluto médio (MAPE — do inglês Mean Absolute Percentual Error) é uma métrica que mostra a porcentagem de erro em relação aos valores reais. Na equação 4 representa o cálculo de MAPE que basicamente se parece com MAE, mas com o acréscimo de uma divisão por |y|. Então se o resultado de MAPE for igual a 40% significa que o nosso modelo faz previsões que em média a diferença entre o valor previsto e o real equivale a 40% do valor real tanto para mais quanto para menos.\n",
    "\n",
    "### Erro Quadrático Médio\n",
    "O erro quadrático médio (MSE — do inglês Mean Squared Error) é uma métrica que calcula a média de diferença entre o valor predito com o real, como a métrica MAE. Entretanto, ao invés de usar o módulo do resultado entre o valor de y e ŷ, nesta métrica a diferença é elevada ao quadrado. Desta maneira penalizando valores que sejam muito diferentes entre o previsto e o real. Portanto, quanto maior é o valor de MSE, significa que o modelo não performou bem em relação as previsões.\n",
    "\n",
    "### Raiz do Erro Quadrático Médio\n",
    "A raiz do erro quadrático médio (RMSE — do inglês, Root Mean Squared Error) é basicamente o mesmo cálculo de MSE, contendo ainda a mesma ideia de penalização entre diferenças grandes do valor previsto e o real. Porém, para lidar com o problema da diferença entre unidades, é aplicada a raiz quadrática como demonstrado na equação 6. Assim a unidade fica na mesma escala que o dado original, resultando em uma melhor interpretabilidade do resultado da métrica.\n",
    "\n",
    "### Acurácia do Modelo\n",
    "Quando falarmos sobre modelos de classificação, tratamos os testes e performance do modelo - métricas, como `\"ACURÁCIA\"` do modelo.\n",
    "\n",
    "### Erro do Modelo\n",
    "Quando falarmos sobre modelos de Regressão em especial, tratamos os testes e performance do modelo - métricas, como `\"ERRO\"`, existe uma certa confusão entre esses termos em trando-se de Regressão.\n",
    "  "
   ]
  },
  {
   "cell_type": "code",
   "execution_count": 56,
   "id": "f11e3088-5eab-441b-8588-e465aadbaa6c",
   "metadata": {
    "id": "f11e3088-5eab-441b-8588-e465aadbaa6c",
    "outputId": "6faa5669-efa4-49b7-b5cb-00d82e5def0f"
   },
   "outputs": [
    {
     "name": "stdout",
     "output_type": "stream",
     "text": [
      "Valor médio relativo de venda \"MAE\"\n",
      "\n",
      "MAE: R$ 69755.587\n"
     ]
    }
   ],
   "source": [
    "# Aplicarei o método np.abs para achar uma média ponderável e vendas dos imóveis em percentual\n",
    "# mean absolute erros - MAE\n",
    "\n",
    "mae = np.mean(dfp[ 'erro_abs' ] )\n",
    "print('Valor médio relativo de venda \"MAE\"\\n')\n",
    "print( 'MAE: R$ {:.3f}'.format( mae ) )"
   ]
  },
  {
   "cell_type": "code",
   "execution_count": 57,
   "id": "97257b7f-25fa-4c93-acac-4cda3ec5ae0c",
   "metadata": {
    "id": "97257b7f-25fa-4c93-acac-4cda3ec5ae0c",
    "outputId": "575d04ed-1499-4c39-fa1e-36514a8ac19e"
   },
   "outputs": [
    {
     "name": "stdout",
     "output_type": "stream",
     "text": [
      "Valor médio relativo  \"MAPE\"\n",
      "\n",
      "MAPE: 0.1660 %\n"
     ]
    }
   ],
   "source": [
    "# Chamei método np.abs para achar uma média ponderável e vendas dos imóveis em percentual\n",
    "# mean absolute erros - MAE\n",
    "\n",
    "mape = np.mean(dfp[ 'erro_perc_abs' ] )\n",
    "print('Valor médio relativo  \"MAPE\"\\n')\n",
    "print( 'MAPE: {:.4f}'.format( mape ),'%' )"
   ]
  },
  {
   "cell_type": "markdown",
   "id": "534a4c47-9fc1-4ea7-95a8-c37b5843584a",
   "metadata": {},
   "source": [
    "___\n",
    "* Com o **MAPE** acima, estou confiante que mais abaixo os índices e metrícas poderão validar o que fora feito até aqui, como tratamentos, novas feactures e otimização dos dados. Não tenho dúvida que os indicadores atravéz de novas abordagens, cenarizarão e validarão novas hipóteses e irão aproximar-se do que fora feito nos passos anteriores.\n",
    "___"
   ]
  },
  {
   "cell_type": "code",
   "execution_count": 58,
   "id": "61a30ff7-8dee-4082-91d9-7cd0143f65a0",
   "metadata": {
    "id": "61a30ff7-8dee-4082-91d9-7cd0143f65a0",
    "outputId": "374ec572-3c3a-4af1-80a7-cf9becf240a5"
   },
   "outputs": [
    {
     "name": "stdout",
     "output_type": "stream",
     "text": [
      "Resultado Mae e Mape em Percentil\n",
      "\n"
     ]
    },
    {
     "data": {
      "text/html": [
       "<div>\n",
       "<style scoped>\n",
       "    .dataframe tbody tr th:only-of-type {\n",
       "        vertical-align: middle;\n",
       "    }\n",
       "\n",
       "    .dataframe tbody tr th {\n",
       "        vertical-align: top;\n",
       "    }\n",
       "\n",
       "    .dataframe thead th {\n",
       "        text-align: right;\n",
       "    }\n",
       "</style>\n",
       "<table border=\"1\" class=\"dataframe\">\n",
       "  <thead>\n",
       "    <tr style=\"text-align: right;\">\n",
       "      <th></th>\n",
       "      <th>Dataframe</th>\n",
       "      <th>MAE</th>\n",
       "      <th>MAPE (%)</th>\n",
       "    </tr>\n",
       "  </thead>\n",
       "  <tbody>\n",
       "    <tr>\n",
       "      <th>0</th>\n",
       "      <td>treinamento</td>\n",
       "      <td>69858</td>\n",
       "      <td>0</td>\n",
       "    </tr>\n",
       "    <tr>\n",
       "      <th>1</th>\n",
       "      <td>teste</td>\n",
       "      <td>69344</td>\n",
       "      <td>0</td>\n",
       "    </tr>\n",
       "  </tbody>\n",
       "</table>\n",
       "</div>"
      ],
      "text/plain": [
       "     Dataframe   MAE  MAPE (%)\n",
       "0  treinamento 69858         0\n",
       "1        teste 69344         0"
      ]
     },
     "execution_count": 58,
     "metadata": {},
     "output_type": "execute_result"
    }
   ],
   "source": [
    "# Criei um DataFrame para guardar e imprimir ( MAE E MAPE )\n",
    "\n",
    "print(f'Resultado Mae e Mape em Percentil\\n'),\n",
    "mape = {\n",
    "'Dataframe': [ 'treinamento', 'teste' ],\n",
    "'MAE'      : [ mae_train, mae_test ],\n",
    "'MAPE (%)' : [ mape_train, mape_test ] \n",
    "             }\n",
    "pd.DataFrame( mape )"
   ]
  },
  {
   "cell_type": "markdown",
   "id": "717f101b-104c-4cda-92eb-641d885eaa05",
   "metadata": {
    "id": "717f101b-104c-4cda-92eb-641d885eaa05"
   },
   "source": [
    "### PipeLine de Modelos Regressores de Machine Learning para preços de compras e vendas, com novos Modelos e Ajustes\n",
    "\n",
    "  - Fiz a montagem do `PipeLine` de treinamento do algoritmo de `Machine Learning - IA`, com modelo de Regressão Linear;\n",
    "    - O objetivo não era nesse primeiro momento é me preopcupar a performance do modelo e features, atributos do conjunto de dados;\n",
    "      - Apliquei os conceitos de teste do modelo, utilizando MAE e MAPE e criei métricas para validar o desempenho da regressão linear;\n",
    "      - Trabalharei com outros modelos para testar as performances dos modelos de Machine Learning - Predição;\n",
    "      \n",
    "      - Consegui reduzir de 125 mil e 25% em média o MAE: R$ 33038.399 e MAPE: 0.0902 %, aparentemente mais estável e mais assertivo. Testarei outraos modelos e retreinarei os modelos\n",
    "        - Obs:. Sobre o modelo acima, posso concluir que meus dados de treino e teste, ficaram com uma taxa \"média\" de erro entre ( 9/10 % ), acima ou abaixo, comparando com os dados preditos (previsão de preço de vendas dos imóvies). \n",
    "      \n",
    "      \n"
   ]
  },
  {
   "cell_type": "code",
   "execution_count": 59,
   "id": "8420c4e8-ae05-4431-84d8-2301994d0c2a",
   "metadata": {
    "id": "8420c4e8-ae05-4431-84d8-2301994d0c2a",
    "outputId": "3648b75e-19b4-4d0e-d9a7-c7d124119939"
   },
   "outputs": [
    {
     "name": "stdout",
     "output_type": "stream",
     "text": [
      "\n",
      "Fatores de Variação Influênciadores\n",
      "\n",
      "  Atritutos_Feactures  VIF\n",
      "0           m²_living   16\n",
      "1           bathrooms   19\n",
      "2            bedrooms   14\n",
      "3      valor_m²_const    4\n"
     ]
    }
   ],
   "source": [
    "# Criando um \"DataFrame\" e passando para o \"x\", gerar o \"vif_kc\" Fator de Variância e Inflação\n",
    "# Como essa variável  \"'m²_living\" está fazendo a direrença, ela ficou com uma correlação forte se comparada com as demais variáveis, somando chegaremos à quase 70 pontos\n",
    "\n",
    "x = df_kc[[ 'm²_living', 'bathrooms', 'bedrooms', 'valor_m²_const' ]]\n",
    "\n",
    "print('\\nFatores de Variação Influênciadores\\n' )\n",
    "vif_kc = pd.DataFrame() \n",
    "vif_kc[ 'Atritutos_Feactures' ] = x.columns \n",
    "vif_kc[ 'VIF' ] = [ variance_inflation_factor( x.values, i ) for i in range( len( x.columns ))]\n",
    "\n",
    "print( vif_kc )"
   ]
  },
  {
   "cell_type": "markdown",
   "id": "13845f07-55d2-41e2-bccc-c371b42d8bf5",
   "metadata": {
    "id": "13845f07-55d2-41e2-bccc-c371b42d8bf5"
   },
   "source": [
    "### Resultado Esperado com os novos modelos\n",
    "  - Baixar ainda mais a diferença da predição, o máximo que conseguir com o treinamento de novos modelos e ajustes de Atritutos\n",
    "  - O modelo está adequando-se, mas ainda faz sua previsão com foco nos impóveis com valores maiores, imóveis mais caros, com esse modelo, consegui baixar para 124 contra o modelo acima 127, ainda é pouco, vou aplicar outros métodos e modelos para que a predição seja uniforme, preciso achar o <em>`Breack Even Point`<em>\n",
    "  - Observei que o eixo do modelo está em torno de zero (0), o que indica uma distribuição quase que normal, estou no caminho certo."
   ]
  },
  {
   "cell_type": "code",
   "execution_count": 60,
   "id": "d3a321fa-a263-4553-a8f1-44a1ee011879",
   "metadata": {
    "id": "d3a321fa-a263-4553-a8f1-44a1ee011879",
    "outputId": "d4f6e36a-6f24-42ba-d11f-1626d6e386b2"
   },
   "outputs": [
    {
     "data": {
      "application/javascript": [
       "\n",
       "        if (window._pyforest_update_imports_cell) { window._pyforest_update_imports_cell('import seaborn as sns\\nimport sys\\nfrom sklearn.linear_model import LinearRegression\\nimport plotly.express as px'); }\n",
       "    "
      ],
      "text/plain": [
       "<IPython.core.display.Javascript object>"
      ]
     },
     "metadata": {},
     "output_type": "display_data"
    },
    {
     "name": "stdout",
     "output_type": "stream",
     "text": [
      "Atritutos de predição: sqft_living, grade e bathrooms\n",
      "\n",
      "Constante:            \t -650539.8416548731\n",
      "Coeficientes:         \t [ 3242.83784763 -1583.74263604 10859.79792306   192.25105687]\n",
      "R-quadratico:         \t0.8801\n",
      "R-quadratico Ajustado:\t0.8801\n"
     ]
    }
   ],
   "source": [
    "# Aplicação de um novo modelo Regressor Linear - Separação de uma lista para testes com \"sqft_living','grade','bathrooms\"\n",
    "\n",
    "reg = LinearRegression()\n",
    "# X_train = df_kc [['grade', 'valor_m²_const', 'valor_m²_total', 'bathrooms' ]]\n",
    "X_train = df_kc[[ 'm²_living', 'bedrooms', 'bathrooms', 'valor_m²_const'  ]]\n",
    "y_train = df_kc[ 'price' ]\n",
    "reg.fit(X_train, y_train)\n",
    "\n",
    "y_pred = reg.predict(X_train)\n",
    "\n",
    "print( 'Atritutos de predição: sqft_living, grade e bathrooms\\n' )\n",
    "print( 'Constante:            \\t', reg.intercept_ )\n",
    "print( 'Coeficientes:         \\t', reg.coef_ )\n",
    "print( 'R-quadratico:         \\t%.4f'% r2_score( y_train, y_pred ))\n",
    "print( 'R-quadratico Ajustado:\\t%.4f'% (1 - ( 1-reg.score( X_train, y_train )) * (len ( y_train )-1 ) / ( len( y_train )-X_train.shape[1]-1 )) )"
   ]
  },
  {
   "cell_type": "code",
   "execution_count": 61,
   "id": "c33bfff8-a935-462a-ad72-97520a111645",
   "metadata": {
    "id": "c33bfff8-a935-462a-ad72-97520a111645",
    "outputId": "c69d3fab-bc1c-4d39-fa60-3bdefa54b49c"
   },
   "outputs": [
    {
     "data": {
      "application/javascript": [
       "\n",
       "        if (window._pyforest_update_imports_cell) { window._pyforest_update_imports_cell('import seaborn as sns\\nimport sys\\nfrom sklearn.linear_model import LinearRegression\\nimport plotly.express as px'); }\n",
       "    "
      ],
      "text/plain": [
       "<IPython.core.display.Javascript object>"
      ]
     },
     "metadata": {},
     "output_type": "display_data"
    },
    {
     "data": {
      "application/javascript": [
       "\n",
       "        if (window._pyforest_update_imports_cell) { window._pyforest_update_imports_cell('import seaborn as sns\\nimport sys\\nfrom sklearn.linear_model import LinearRegression\\nimport plotly.express as px'); }\n",
       "    "
      ],
      "text/plain": [
       "<IPython.core.display.Javascript object>"
      ]
     },
     "metadata": {},
     "output_type": "display_data"
    },
    {
     "data": {
      "application/javascript": [
       "\n",
       "        if (window._pyforest_update_imports_cell) { window._pyforest_update_imports_cell('import seaborn as sns\\nimport sys\\nfrom sklearn.linear_model import LinearRegression\\nimport plotly.express as px'); }\n",
       "    "
      ],
      "text/plain": [
       "<IPython.core.display.Javascript object>"
      ]
     },
     "metadata": {},
     "output_type": "display_data"
    },
    {
     "data": {
      "image/png": "[encoded data removed]",
      "text/plain": [
       "<Figure size 1200x500 with 1 Axes>"
      ]
     },
     "metadata": {},
     "output_type": "display_data"
    }
   ],
   "source": [
    "# Grafico de Dispersão para o novo modelo\n",
    "\n",
    "sns.set_theme(style='ticks')\n",
    "f, ax = plt.subplots(figsize=(12, 5))\n",
    "sns.scatterplot(x=y_train, y=y_pred, color='#00296B')\n",
    "\n",
    "x_plot = np.linspace(0, 1.1e7, 100)\n",
    "y_plot = x_plot\n",
    "plt.plot(x_plot, y_plot, color='Red')\n",
    "ax.set(xlabel='Valores Reais', ylabel='Modelo Predito')\n",
    "plt.title( 'DISPERSÃO PARA O MODELO DE PREVISÃO DOS PREÇOS DE VENDAS', pad=25, fontsize=12, color='#001233' )\n",
    "sns.despine(left=True, bottom=True);\n",
    "\n",
    "plt.show()"
   ]
  },
  {
   "cell_type": "markdown",
   "id": "cbf2b936-6b08-4d1b-9544-f21feb9cbce6",
   "metadata": {
    "id": "cbf2b936-6b08-4d1b-9544-f21feb9cbce6"
   },
   "source": [
    "#### Resultado e Análise do Resídual com Plot Predict Values e Distribution\n",
    "   - Com esse gráfico, podemos ver que nosso modelo resísual é randômico, e consegue-se ver que as predições são mais assertivas em imóveis cujo valor é maior\n",
    "   - Fazendo os ajustes, nosso eixo Y ficará em 0 e o X aponstando seu inclinamento para o nível entre 5 e 6 da tabela predict value, falta pouco ajuste.\n",
    "--- \n",
    "#### Considerações gerais sobre os modelos criados de Regressão Linear\n",
    "   -  Consegui resuzir o erro da previsão de 127mil e 25%, para 95mil e 21%. Isso só foi possível com os novos ajustes de atributos e criação da variável idade_imóvel, exclusão de variáveis que não agregavam valor para análise e predição do modelo aplicado.\n",
    "   \n",
    "   - `Farei mais ajustes até que o modelo torne-se mais assertivo, com uma média de (10%) será mais aceitável`"
   ]
  },
  {
   "cell_type": "code",
   "execution_count": 62,
   "id": "9d0405aa-22d3-4819-862e-dd1ec460cd5f",
   "metadata": {
    "id": "9d0405aa-22d3-4819-862e-dd1ec460cd5f",
    "outputId": "c4b0056a-fa1e-4baa-e622-23f649d1efb8"
   },
   "outputs": [
    {
     "data": {
      "image/png": "[encoded data removed]",
      "text/plain": [
       "<Figure size 1000x600 with 2 Axes>"
      ]
     },
     "metadata": {},
     "output_type": "display_data"
    },
    {
     "data": {
      "text/plain": [
       "<Figure size 800x550 with 0 Axes>"
      ]
     },
     "metadata": {},
     "output_type": "display_data"
    }
   ],
   "source": [
    "# Residuas do modelo aplicado dos dados de treinamento e teste\n",
    "\n",
    "fig, ax = plt.subplots(figsize=(10, 6) )\n",
    "pred = residuals_plot( linear_model.LinearRegression( ), X_train, y_train, is_fitted=False )\n",
    "\n",
    "plt.tight_layout ()"
   ]
  },
  {
   "cell_type": "markdown",
   "id": "c150a9cc-03cf-4ad1-a0f9-664cd8d1e64c",
   "metadata": {
    "id": "c150a9cc-03cf-4ad1-a0f9-664cd8d1e64c"
   },
   "source": [
    "### Python StatsModels \n",
    "\n",
    "   - Statsmodels é um módulo Python que fornece classes e funções para a estimativa de muitos modelos estatísticos diferentes, bem como para a realização de testes estatísticos e exploração de dados estatísticos. Uma extensa lista de estatísticas de resultados está disponível para cada estimador. Os resultados são testados em relação aos pacotes estatísticos existentes para garantir que estejam corretos. O pacote é lançado sob a licença BSD modificada (3 cláusulas) de código aberto. \n",
    "   - Farei alguns testes e criarei algumas análises para explorar ainda os modelos através de análises estatísticas com `StatsModel`"
   ]
  },
  {
   "cell_type": "code",
   "execution_count": 63,
   "id": "5e04bcc4-8990-45b9-be08-fc3882621a8f",
   "metadata": {
    "id": "5e04bcc4-8990-45b9-be08-fc3882621a8f",
    "outputId": "d0de61c1-bd86-4fc4-c5d5-ea3022ac3f35"
   },
   "outputs": [
    {
     "data": {
      "text/html": [
       "<div>\n",
       "<style scoped>\n",
       "    .dataframe tbody tr th:only-of-type {\n",
       "        vertical-align: middle;\n",
       "    }\n",
       "\n",
       "    .dataframe tbody tr th {\n",
       "        vertical-align: top;\n",
       "    }\n",
       "\n",
       "    .dataframe thead th {\n",
       "        text-align: right;\n",
       "    }\n",
       "</style>\n",
       "<table border=\"1\" class=\"dataframe\">\n",
       "  <thead>\n",
       "    <tr style=\"text-align: right;\">\n",
       "      <th></th>\n",
       "      <th>lat</th>\n",
       "      <th>long</th>\n",
       "      <th>sqft_living15</th>\n",
       "      <th>sqft_lot15</th>\n",
       "      <th>idade_imovel</th>\n",
       "      <th>m²_living</th>\n",
       "      <th>valor_m²_const</th>\n",
       "      <th>valor_m²_imovel</th>\n",
       "      <th>predicao</th>\n",
       "      <th>erro</th>\n",
       "      <th>erro_abs</th>\n",
       "      <th>erro_perc</th>\n",
       "      <th>erro_perc_abs</th>\n",
       "    </tr>\n",
       "  </thead>\n",
       "  <tbody>\n",
       "    <tr>\n",
       "      <th>0</th>\n",
       "      <td>48</td>\n",
       "      <td>-122</td>\n",
       "      <td>1340</td>\n",
       "      <td>5650</td>\n",
       "      <td>68</td>\n",
       "      <td>109</td>\n",
       "      <td>2044</td>\n",
       "      <td>39</td>\n",
       "      <td>106690</td>\n",
       "      <td>115210</td>\n",
       "      <td>115210</td>\n",
       "      <td>1</td>\n",
       "      <td>1</td>\n",
       "    </tr>\n",
       "    <tr>\n",
       "      <th>1</th>\n",
       "      <td>48</td>\n",
       "      <td>-122</td>\n",
       "      <td>1690</td>\n",
       "      <td>7639</td>\n",
       "      <td>72</td>\n",
       "      <td>236</td>\n",
       "      <td>2275</td>\n",
       "      <td>74</td>\n",
       "      <td>559070</td>\n",
       "      <td>-21070</td>\n",
       "      <td>21070</td>\n",
       "      <td>0</td>\n",
       "      <td>0</td>\n",
       "    </tr>\n",
       "    <tr>\n",
       "      <th>2</th>\n",
       "      <td>48</td>\n",
       "      <td>-122</td>\n",
       "      <td>2720</td>\n",
       "      <td>8062</td>\n",
       "      <td>90</td>\n",
       "      <td>71</td>\n",
       "      <td>2541</td>\n",
       "      <td>18</td>\n",
       "      <td>29640</td>\n",
       "      <td>150360</td>\n",
       "      <td>150360</td>\n",
       "      <td>1</td>\n",
       "      <td>1</td>\n",
       "    </tr>\n",
       "  </tbody>\n",
       "</table>\n",
       "</div>"
      ],
      "text/plain": [
       "   lat  long  sqft_living15  sqft_lot15  idade_imovel  m²_living  \\\n",
       "0   48  -122           1340        5650            68        109   \n",
       "1   48  -122           1690        7639            72        236   \n",
       "2   48  -122           2720        8062            90         71   \n",
       "\n",
       "   valor_m²_const  valor_m²_imovel  predicao   erro  erro_abs  erro_perc  \\\n",
       "0            2044               39    106690 115210    115210          1   \n",
       "1            2275               74    559070 -21070     21070          0   \n",
       "2            2541               18     29640 150360    150360          1   \n",
       "\n",
       "   erro_perc_abs  \n",
       "0              1  \n",
       "1              0  \n",
       "2              1  "
      ]
     },
     "execution_count": 63,
     "metadata": {},
     "output_type": "execute_result"
    }
   ],
   "source": [
    "# Lendo o dfp, \"DataFramePredição\", criado anteriormente e passando para df_modelo, criando outra variável de python para os modelos\n",
    "# Split a partir da coluna décima quinta para visualizar novos atributos criados ( predicao,erro,erro_abs,erro_perc,erro_perc_abs )\n",
    "\n",
    "df_modelo = dfp\n",
    "df_modelo.head(3).iloc[ :, 15: ]"
   ]
  },
  {
   "cell_type": "code",
   "execution_count": 64,
   "id": "b1c9f040-18f0-4277-af53-2087d3f45381",
   "metadata": {
    "id": "b1c9f040-18f0-4277-af53-2087d3f45381",
    "outputId": "7cd1c7e9-922f-42a1-978c-2c378edd3140"
   },
   "outputs": [
    {
     "name": "stdout",
     "output_type": "stream",
     "text": [
      "                            OLS Regression Results                            \n",
      "==============================================================================\n",
      "Dep. Variable:                  price   R-squared:                       1.000\n",
      "Model:                            OLS   Adj. R-squared:                  1.000\n",
      "Method:                 Least Squares   F-statistic:                 4.164e+29\n",
      "Date:                Fri, 21 Jul 2023   Prob (F-statistic):               0.00\n",
      "Time:                        17:19:08   Log-Likelihood:             3.5209e+05\n",
      "No. Observations:               21433   AIC:                        -7.041e+05\n",
      "Df Residuals:                   21410   BIC:                        -7.040e+05\n",
      "Df Model:                          22                                         \n",
      "Covariance Type:            nonrobust                                         \n",
      "===================================================================================\n",
      "                      coef    std err          t      P>|t|      [0.025      0.975]\n",
      "-----------------------------------------------------------------------------------\n",
      "bedrooms        -1.757e-08   1.79e-10    -97.890      0.000   -1.79e-08   -1.72e-08\n",
      "bathrooms        1.956e-07   3.02e-10    647.669      0.000    1.95e-07    1.96e-07\n",
      "sqft_living       2.47e-09   1.08e-12   2282.475      0.000    2.47e-09    2.47e-09\n",
      "sqft_lot        -1.999e-12   4.36e-15   -458.799      0.000   -2.01e-12   -1.99e-12\n",
      "floors          -4.327e-07   4.07e-10  -1064.001      0.000   -4.34e-07   -4.32e-07\n",
      "waterfront       3.449e-06   2.34e-10   1.47e+04      0.000    3.45e-06    3.45e-06\n",
      "view              1.89e-07   2.33e-10    811.164      0.000    1.89e-07    1.89e-07\n",
      "condition        8.443e-08   2.15e-10    391.928      0.000     8.4e-08    8.48e-08\n",
      "grade            2.353e-07   2.26e-10   1043.311      0.000    2.35e-07    2.36e-07\n",
      "sqft_above       1.356e-09   6.17e-13   2198.411      0.000    1.36e-09    1.36e-09\n",
      "sqft_basement    1.113e-09   5.43e-13   2051.384      0.000    1.11e-09    1.11e-09\n",
      "yr_built         9.965e-08   1.35e-10    736.558      0.000    9.94e-08    9.99e-08\n",
      "yr_renovated     1.224e-10   3.31e-13    369.433      0.000    1.22e-10    1.23e-10\n",
      "zipcode         -2.049e-09   3.09e-12   -662.165      0.000   -2.06e-09   -2.04e-09\n",
      "lat             -6.656e-07   1.13e-09   -588.096      0.000   -6.68e-07   -6.63e-07\n",
      "long            -1.795e-07   1.18e-09   -151.663      0.000   -1.82e-07   -1.77e-07\n",
      "sqft_living15   -3.726e-10   3.59e-13  -1039.120      0.000   -3.73e-10   -3.72e-10\n",
      "sqft_lot15      -1.384e-12   6.52e-15   -212.318      0.000    -1.4e-12   -1.37e-12\n",
      "idade_imovel     1.026e-07   1.38e-10    745.594      0.000    1.02e-07    1.03e-07\n",
      "m²_living        2.272e-10   9.96e-14   2282.370      0.000    2.27e-10    2.27e-10\n",
      "valor_m²_const   2.326e-09   1.02e-12   2277.214      0.000    2.32e-09    2.33e-09\n",
      "valor_m²_imovel  1.489e-09   2.12e-12    703.342      0.000    1.48e-09    1.49e-09\n",
      "predicao            1.0000   5.45e-15   1.83e+14      0.000       1.000       1.000\n",
      "erro                1.0000   1.05e-15   9.52e+14      0.000       1.000       1.000\n",
      "erro_abs         6.384e-16   2.16e-15      0.296      0.768   -3.59e-15    4.87e-15\n",
      "erro_perc       -7.276e-11   4.16e-10     -0.175      0.861   -8.87e-10    7.42e-10\n",
      "erro_perc_abs   -2.183e-11   4.16e-10     -0.053      0.958   -8.36e-10    7.93e-10\n",
      "==============================================================================\n",
      "Omnibus:                    12923.054   Durbin-Watson:                   0.001\n",
      "Prob(Omnibus):                  0.000   Jarque-Bera (JB):           284998.592\n",
      "Skew:                          -2.495   Prob(JB):                         0.00\n",
      "Kurtosis:                      20.153   Cond. No.                     1.88e+17\n",
      "==============================================================================\n",
      "\n",
      "Notes:\n",
      "[1] Standard Errors assume that the covariance matrix of the errors is correctly specified.\n",
      "[2] The smallest eigenvalue is 2.59e-19. This might indicate that there are\n",
      "strong multicollinearity problems or that the design matrix is singular.\n"
     ]
    }
   ],
   "source": [
    "# Separando a coluna preços (price), passando para \"y\"\n",
    "\n",
    "y = 'price'\n",
    "df_modelo.drop([y], axis=1).head(3)\n",
    "\n",
    "modelo = sm.OLS( df_modelo[y], df_modelo.drop( [y], axis=1 ) )\n",
    "resultado = modelo.fit()\n",
    "print( resultado.summary() )"
   ]
  },
  {
   "cell_type": "markdown",
   "id": "660597a2-bcf1-4d04-89c0-ab578a225cc7",
   "metadata": {
    "id": "660597a2-bcf1-4d04-89c0-ab578a225cc7"
   },
   "source": [
    "### Reprocessando com statsModels"
   ]
  },
  {
   "cell_type": "code",
   "execution_count": 65,
   "id": "93a5a370-1c34-4f56-ad71-a6c58b69e5ff",
   "metadata": {
    "id": "93a5a370-1c34-4f56-ad71-a6c58b69e5ff",
    "outputId": "6fc1552b-7a19-4ede-dfd7-24da7f68ced9"
   },
   "outputs": [
    {
     "name": "stdout",
     "output_type": "stream",
     "text": [
      "                                 OLS Regression Results                                \n",
      "=======================================================================================\n",
      "Dep. Variable:                  price   R-squared (uncentered):                   0.411\n",
      "Model:                            OLS   Adj. R-squared (uncentered):              0.410\n",
      "Method:                 Least Squares   F-statistic:                              679.3\n",
      "Date:                Fri, 21 Jul 2023   Prob (F-statistic):                        0.00\n",
      "Time:                        17:19:09   Log-Likelihood:                     -3.1176e+05\n",
      "No. Observations:               21433   AIC:                                  6.236e+05\n",
      "Df Residuals:                   21411   BIC:                                  6.237e+05\n",
      "Df Model:                          22                                                  \n",
      "Covariance Type:            nonrobust                                                  \n",
      "==============================================================================\n",
      "                 coef    std err          t      P>|t|      [0.025      0.975]\n",
      "------------------------------------------------------------------------------\n",
      "x1         -1.197e+17   2.15e+15    -55.626      0.000   -1.24e+17   -1.16e+17\n",
      "x2           1.13e+18   2.03e+16     55.626      0.000    1.09e+18    1.17e+18\n",
      "x3           9.02e+18   1.62e+17     55.626      0.000     8.7e+18    9.34e+18\n",
      "x4         -6.234e+17   1.12e+16    -55.626      0.000   -6.45e+17   -6.01e+17\n",
      "x5         -1.755e+18   3.16e+16    -55.626      0.000   -1.82e+18   -1.69e+18\n",
      "x6          2.249e+18   4.04e+16     55.626      0.000    2.17e+18    2.33e+18\n",
      "x7          1.088e+18   1.96e+16     55.626      0.000    1.05e+18    1.13e+18\n",
      "x8          4.122e+17   7.41e+15     55.626      0.000    3.98e+17    4.27e+17\n",
      "x9          2.074e+18   3.73e+16     55.626      0.000       2e+18    2.15e+18\n",
      "x10         7.789e+18    1.4e+17     55.626      0.000    7.51e+18    8.06e+18\n",
      "x11         3.352e+18   6.03e+16     55.626      0.000    3.23e+18    3.47e+18\n",
      "x12         1.084e+18   1.95e+16     55.626      0.000    1.05e+18    1.12e+18\n",
      "x13         3.699e+17   6.65e+15     55.626      0.000    3.57e+17    3.83e+17\n",
      "x14        -8.232e+17   1.48e+16    -55.626      0.000   -8.52e+17   -7.94e+17\n",
      "x15        -6.925e+17   1.24e+16    -55.626      0.000   -7.17e+17   -6.68e+17\n",
      "x16          -1.9e+17   3.42e+15    -55.626      0.000   -1.97e+17   -1.83e+17\n",
      "x17        -1.918e+18   3.45e+16    -55.626      0.000   -1.99e+18   -1.85e+18\n",
      "x18        -2.843e+17   5.11e+15    -55.626      0.000   -2.94e+17   -2.74e+17\n",
      "x19         1.737e+18   3.12e+16     55.626      0.000    1.68e+18     1.8e+18\n",
      "x20         8.884e+18    1.6e+17     55.626      0.000    8.57e+18     9.2e+18\n",
      "x21         2.087e+19   3.75e+17     55.626      0.000    2.01e+19    2.16e+19\n",
      "x22         1.052e+18   1.89e+16     55.626      0.000    1.02e+18    1.09e+18\n",
      "x23        -3.328e+19   5.98e+17    -55.626      0.000   -3.45e+19   -3.21e+19\n",
      "x24         1.226e+05   3632.068     33.748      0.000    1.15e+05     1.3e+05\n",
      "x25        -3646.9349   6129.102     -0.595      0.552   -1.57e+04    8366.564\n",
      "x26         6.064e+16   1.09e+15     55.626      0.000    5.85e+16    6.28e+16\n",
      "x27        -6.064e+16   1.09e+15    -55.626      0.000   -6.28e+16   -5.85e+16\n",
      "==============================================================================\n",
      "Omnibus:                       47.997   Durbin-Watson:                   0.252\n",
      "Prob(Omnibus):                  0.000   Jarque-Bera (JB):               39.467\n",
      "Skew:                           0.029   Prob(JB):                     2.69e-09\n",
      "Kurtosis:                       2.798   Cond. No.                     1.31e+16\n",
      "==============================================================================\n",
      "\n",
      "Notes:\n",
      "[1] R² is computed without centering (uncentered) since the model does not contain a constant.\n",
      "[2] Standard Errors assume that the covariance matrix of the errors is correctly specified.\n",
      "[3] The smallest eigenvalue is 8.95e-28. This might indicate that there are\n",
      "strong multicollinearity problems or that the design matrix is singular.\n"
     ]
    }
   ],
   "source": [
    "# Implementadando Stats Modelo para validar alguns indicadores do modelo\n",
    "\n",
    "X = dfp.drop( [y], axis=1 )\n",
    "scaler = StandardScaler() \n",
    "normalized_X = scaler.fit_transform( X )\n",
    "\n",
    "modelo = sm.OLS( dfp[y], normalized_X )\n",
    "resultado = modelo.fit()\n",
    "\n",
    "print( resultado.summary() )"
   ]
  },
  {
   "cell_type": "markdown",
   "id": "3b8d599c-2188-4dff-984a-1cecade993f0",
   "metadata": {
    "id": "3b8d599c-2188-4dff-984a-1cecade993f0"
   },
   "source": [
    "### Reprocessando com Regressão Linear para validar alguns dados estatísticos"
   ]
  },
  {
   "cell_type": "code",
   "execution_count": 66,
   "id": "08ad6ec4-1108-461d-97bd-6b0a34a74b16",
   "metadata": {
    "id": "08ad6ec4-1108-461d-97bd-6b0a34a74b16",
    "outputId": "4f9cc6a1-55c6-4148-f382-9ed822aa6ef1"
   },
   "outputs": [
    {
     "data": {
      "application/javascript": [
       "\n",
       "        if (window._pyforest_update_imports_cell) { window._pyforest_update_imports_cell('import seaborn as sns\\nfrom sklearn.linear_model import LinearRegression\\nfrom sklearn.model_selection import train_test_split\\nimport sys\\nimport plotly.express as px'); }\n",
       "    "
      ],
      "text/plain": [
       "<IPython.core.display.Javascript object>"
      ]
     },
     "metadata": {},
     "output_type": "display_data"
    },
    {
     "name": "stdout",
     "output_type": "stream",
     "text": [
      "(15003, 27) (6430, 27) (15003,) (6430,)\n"
     ]
    },
    {
     "data": {
      "application/javascript": [
       "\n",
       "        if (window._pyforest_update_imports_cell) { window._pyforest_update_imports_cell('import seaborn as sns\\nfrom sklearn.linear_model import LinearRegression\\nfrom sklearn.model_selection import train_test_split\\nimport sys\\nimport plotly.express as px'); }\n",
       "    "
      ],
      "text/plain": [
       "<IPython.core.display.Javascript object>"
      ]
     },
     "metadata": {},
     "output_type": "display_data"
    },
    {
     "data": {
      "application/javascript": [
       "\n",
       "        if (window._pyforest_update_imports_cell) { window._pyforest_update_imports_cell('import seaborn as sns\\nfrom sklearn.linear_model import LinearRegression\\nfrom sklearn.model_selection import train_test_split\\nimport sys\\nimport plotly.express as px'); }\n",
       "    "
      ],
      "text/plain": [
       "<IPython.core.display.Javascript object>"
      ]
     },
     "metadata": {},
     "output_type": "display_data"
    }
   ],
   "source": [
    "# Implementando outros modelos de análise\n",
    "\n",
    "X_train, X_val, y_train, y_val = train_test_split(X, dfp[y], test_size= 0.30, random_state= 0) \n",
    "print( X_train.shape, X_val.shape, y_train.shape, y_val.shape )\n",
    "\n",
    "modelo = LinearRegression( positive=True )\n",
    "modelo = LinearRegression(fit_intercept=True, positive=True)\n",
    "modelo.fit( X_train, y_train )\n",
    "\n",
    "pred = modelo.predict( X_val )"
   ]
  },
  {
   "cell_type": "markdown",
   "id": "d93d025b-496b-4f7f-b3b4-71a77c91a37d",
   "metadata": {},
   "source": [
    "### A função \"sqrt\" numpy, é usada para determinar a raiz quadrada positiva de um array ( saída de dados/resultado ), elemento a elemento, retornando a Raíz Quarada de uma Matriz"
   ]
  },
  {
   "cell_type": "code",
   "execution_count": 67,
   "id": "04e3e08b-0cda-4f37-84c2-7d32d4ed019b",
   "metadata": {
    "id": "04e3e08b-0cda-4f37-84c2-7d32d4ed019b",
    "outputId": "731c9f5e-6f10-44a9-949b-9efd99587770"
   },
   "outputs": [
    {
     "data": {
      "text/plain": [
       "3.118007192093076e-10"
      ]
     },
     "execution_count": 67,
     "metadata": {},
     "output_type": "execute_result"
    }
   ],
   "source": [
    "np.sqrt( mean_squared_error( y_val, pred ) )"
   ]
  },
  {
   "cell_type": "markdown",
   "id": "50bb9d68-bcf5-4a7a-af79-fe5ee3ce83c3",
   "metadata": {},
   "source": [
    "### Erro Quadrático Médio"
   ]
  },
  {
   "cell_type": "code",
   "execution_count": 68,
   "id": "a9bd529b-727a-481a-abac-41104d22fe21",
   "metadata": {
    "id": "a9bd529b-727a-481a-abac-41104d22fe21",
    "outputId": "af607844-bb3b-4d83-a6f3-93219a7770d4"
   },
   "outputs": [
    {
     "data": {
      "text/plain": [
       "9.72196884994415e-20"
      ]
     },
     "execution_count": 68,
     "metadata": {},
     "output_type": "execute_result"
    }
   ],
   "source": [
    "mean_squared_error( y_val, pred ) "
   ]
  },
  {
   "cell_type": "code",
   "execution_count": 69,
   "id": "11559694-92ea-4447-b3a9-6db8a1628724",
   "metadata": {
    "id": "11559694-92ea-4447-b3a9-6db8a1628724",
    "outputId": "59a28563-17c3-4051-e7d8-01f0b471df30"
   },
   "outputs": [
    {
     "name": "stdout",
     "output_type": "stream",
     "text": [
      "[1.31864934e-12 0.00000000e+00 0.00000000e+00 0.00000000e+00\n",
      " 0.00000000e+00 0.00000000e+00 2.67999557e-11 5.68797091e-12\n",
      " 3.25932997e-13 5.30287935e-14 5.11950241e-14 0.00000000e+00\n",
      " 3.27050251e-16 0.00000000e+00 1.78838115e-11 7.58638439e-12\n",
      " 0.00000000e+00 0.00000000e+00 1.01497329e-13 0.00000000e+00\n",
      " 2.85111923e-14 0.00000000e+00 1.00000000e+00 1.00000000e+00\n",
      " 0.00000000e+00 0.00000000e+00 0.00000000e+00]\n"
     ]
    }
   ],
   "source": [
    "print( modelo.coef_ )"
   ]
  },
  {
   "cell_type": "code",
   "execution_count": 70,
   "id": "bd5a4719-5fc9-42e0-9634-1855aae28635",
   "metadata": {
    "id": "bd5a4719-5fc9-42e0-9634-1855aae28635",
    "outputId": "f4846f9b-2778-47e6-b44a-5e9176d7251c"
   },
   "outputs": [
    {
     "data": {
      "application/javascript": [
       "\n",
       "        if (window._pyforest_update_imports_cell) { window._pyforest_update_imports_cell('import seaborn as sns\\nfrom sklearn.linear_model import LinearRegression\\nfrom sklearn.model_selection import train_test_split\\nimport sys\\nimport plotly.express as px'); }\n",
       "    "
      ],
      "text/plain": [
       "<IPython.core.display.Javascript object>"
      ]
     },
     "metadata": {},
     "output_type": "display_data"
    },
    {
     "name": "stdout",
     "output_type": "stream",
     "text": [
      "(15003, 27) (6430, 27) (15003,) (6430,)\n"
     ]
    },
    {
     "data": {
      "application/javascript": [
       "\n",
       "        if (window._pyforest_update_imports_cell) { window._pyforest_update_imports_cell('import seaborn as sns\\nfrom sklearn.linear_model import LinearRegression\\nfrom sklearn.model_selection import train_test_split\\nimport sys\\nimport plotly.express as px'); }\n",
       "    "
      ],
      "text/plain": [
       "<IPython.core.display.Javascript object>"
      ]
     },
     "metadata": {},
     "output_type": "display_data"
    }
   ],
   "source": [
    "X_train, X_val, y_train, y_val = train_test_split(X, dfp[y], test_size= 0.30, random_state= 0) \n",
    "print( X_train.shape, X_val.shape, y_train.shape, y_val.shape )\n",
    "\n",
    "scaler = StandardScaler()\n",
    "X_train_scaled = scaler.fit_transform(X_train)\n",
    "X_val_scaled = scaler.transform(X_val)\n",
    "\n",
    "modelo = LinearRegression(fit_intercept=True, positive=True)\n",
    "modelo.fit(X_train_scaled, y_train)\n",
    "\n",
    "pred = modelo.predict( X_val_scaled )"
   ]
  },
  {
   "cell_type": "code",
   "execution_count": 71,
   "id": "67dbbbe2-10fa-4f16-9c31-20c0b9ff6ead",
   "metadata": {
    "id": "67dbbbe2-10fa-4f16-9c31-20c0b9ff6ead",
    "outputId": "58dafd18-e526-4e8b-86eb-96cb0f06f732"
   },
   "outputs": [
    {
     "data": {
      "text/plain": [
       "1.7496746827187317e-09"
      ]
     },
     "execution_count": 71,
     "metadata": {},
     "output_type": "execute_result"
    }
   ],
   "source": [
    "np.sqrt( mean_squared_error( y_val, pred ) )"
   ]
  },
  {
   "cell_type": "code",
   "execution_count": 72,
   "id": "a8705f19-c526-464f-9827-092dfc9f6afb",
   "metadata": {
    "id": "a8705f19-c526-464f-9827-092dfc9f6afb",
    "outputId": "5cc201bc-f7bc-4dc5-c793-761761816bb5"
   },
   "outputs": [
    {
     "data": {
      "text/plain": [
       "3.0613614953468948e-18"
      ]
     },
     "execution_count": 72,
     "metadata": {},
     "output_type": "execute_result"
    }
   ],
   "source": [
    "mean_squared_error( y_val, pred ) "
   ]
  },
  {
   "cell_type": "code",
   "execution_count": 73,
   "id": "5716f91d-c5ad-4636-9e69-012b82a306ca",
   "metadata": {
    "id": "5716f91d-c5ad-4636-9e69-012b82a306ca",
    "outputId": "bd389c7f-ecf9-4be5-8cf6-0c0ac6756904"
   },
   "outputs": [
    {
     "name": "stdout",
     "output_type": "stream",
     "text": [
      "[7.07513769e-12 3.39735575e-11 0.00000000e+00 0.00000000e+00\n",
      " 0.00000000e+00 4.29347971e-11 0.00000000e+00 2.36374984e-12\n",
      " 3.34770906e-11 3.67844063e-10 1.83481651e-10 0.00000000e+00\n",
      " 8.25529237e-12 0.00000000e+00 0.00000000e+00 0.00000000e+00\n",
      " 0.00000000e+00 0.00000000e+00 2.50712372e-11 0.00000000e+00\n",
      " 3.44219586e-10 0.00000000e+00 3.48426165e+05 1.22358423e+05\n",
      " 7.18393821e-12 6.09040700e-12 0.00000000e+00]\n"
     ]
    }
   ],
   "source": [
    "print( modelo.coef_ )"
   ]
  },
  {
   "cell_type": "markdown",
   "id": "cd77b6c1-f33a-4d3d-8dc3-5b278a10cd33",
   "metadata": {
    "id": "cd77b6c1-f33a-4d3d-8dc3-5b278a10cd33"
   },
   "source": [
    "### Considerações:\n",
    "\n",
    "  - Nesse projeto, procurei trabalhar mais o planejamento e a parte de engenharia de atributos e mineração, para que pudessem ser consumidos por predições. No primeiro momento o importante seria conduzir os processo para que os modelos de predição, pudessem atingir um mínimo de métrica aceitável e tangível. Objetivo alcançado com êxito, porque fiz engenharia de atributos, consegui conduzir os processos e execurar com mestria, reduzindo a margem de erro absoluto.\n",
    "  \n",
    "  - Entendi pelo menos nesse momento, que não existe um modelo perfeito, são muitas às variáveis em jogo, mas com certeza tirei grandes lições com esse conjunto de dados.\n",
    "  \n",
    "  - Sai de uma taxa média de erro de 25%, para ( 9% ), o que é perfeitamente normal, são vários modelos que testaremos para chegar ao que seria aceitável.\n",
    "  \n",
    "  - Em Machine Learning, se o acerto logo cara foi ( 100% ); têm coisa errada, o modelo não está predizendo, mas sim, replicando o que decorou, e o que aprendeu nos dados de treino e teste. Sem dados novos ficará com vício de aprendizado.\n",
    "  \n",
    "  - Aprendizado de máquina não é algo simplório, são vários os modelos, parâmetros e o principal, além é claro do entendimento do problema e modelo que será usado, temos os bastidores. Tudo passa por dados concistentes, variáveis e atributos bem trabalhados, não existe o melhor modelo, existe muito esforço e treino, entendimento se aplica-se `classificação ou regressão linear`, se supervisionado, não supervisionado ou ainda a Fórceps."
   ]
  },
  {
   "cell_type": "code",
   "execution_count": 74,
   "id": "d96ab60e-0a07-49da-b7dd-bfafea22ba0d",
   "metadata": {
    "id": "d96ab60e-0a07-49da-b7dd-bfafea22ba0d",
    "outputId": "7930983e-53d1-486d-91f9-d51f2cccafea"
   },
   "outputs": [
    {
     "name": "stdout",
     "output_type": "stream",
     "text": [
      "\n",
      "DBIAN TECHNOLOGY\n",
      " \n",
      "Claudio Fabian Stychnicki\n",
      " \n",
      "Data Scientist | B.I | RPA \n",
      "Phone/Whats: (47) 99237-4737 \n",
      "Blumenau - SC\n",
      " \n",
      "Informações complementares em meu linkedIn\n",
      " \n",
      "Thanks so musch!\n"
     ]
    }
   ],
   "source": [
    "print( \n",
    "      '\\nDBIAN TECHNOLOGY\\n',\n",
    "      '\\nClaudio Fabian Stychnicki\\n',\n",
    "      '\\nData Scientist | B.I | RPA',\n",
    "      '\\nPhone/Whats: (47) 99237-4737',\n",
    "      '\\nBlumenau - SC\\n',\n",
    "      '\\nInformações complementares em meu linkedIn\\n',\n",
    "      '\\nThanks so musch!'\n",
    "      )"
   ]
  },
  {
   "cell_type": "markdown",
   "id": "cdb7359a-13e6-4d78-86e2-6a74a5877973",
   "metadata": {
    "id": "cdb7359a-13e6-4d78-86e2-6a74a5877973"
   },
   "source": [
    "### Até o próximo projeto...)"
   ]
  }
 ],
 "metadata": {
  "colab": {
   "provenance": []
  },
  "kernelspec": {
   "display_name": "Python 3 (ipykernel)",
   "language": "python",
   "name": "python3"
  },
  "language_info": {
   "codemirror_mode": {
    "name": "ipython",
    "version": 3
   },
   "file_extension": ".py",
   "mimetype": "text/x-python",
   "name": "python",
   "nbconvert_exporter": "python",
   "pygments_lexer": "ipython3",
   "version": "3.10.12"
  },
  "toc-showmarkdowntxt": false,
  "vscode": {
   "interpreter": {
    "hash": "eca024455c4833da5ebd8d9f8d721333677c348aa809892c0b0eda440122e3a6"
   }
  }
 },
 "nbformat": 4,
 "nbformat_minor": 5
}
