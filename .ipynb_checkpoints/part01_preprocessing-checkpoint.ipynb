{
 "cells": [
  {
   "cell_type": "markdown",
   "id": "b2e4ea2b",
   "metadata": {},
   "source": [
    "# <div style=\"color:white;display:fill;border-radius:5px;background-color:#0E2031;letter-spacing:0.5px;overflow:hidden\"><p style=\"padding:20px;color:white;overflow:hidden;text-align: center;margin:0;font-size:120%\">Conteúdo</p></div>     \n",
    "   \n",
    "**Data Preprocessing** \n",
    "- Bibliotecas\n",
    "- Carregamento\n",
    "- Glossário\n",
    "- Dados Faltantes - KNN Inputer\n",
    "- Engenharia de Dados"
   ]
  },
  {
   "cell_type": "markdown",
   "id": "847920c2",
   "metadata": {},
   "source": [
    "## <div style=\"color:white;display:fill;border-radius:5px;background-color:#0E2031;letter-spacing:0.5px;overflow:hidden\"><p style=\"padding:20px;color:white;overflow:hidden;text-align: center;margin:0;font-size:120%\">Data Preprocessing</p></div>  "
   ]
  },
  {
   "cell_type": "markdown",
   "id": "0f39e037",
   "metadata": {},
   "source": [
    "## <div style=\"color:white;display:fill;border-radius:5px;background-color:#153656;letter-spacing:0.5px;overflow:hidden\"><p style=\"padding:15px;color:white;overflow:hidden;text-align: center;margin:0;font-size:120%\">Bibliotecas</p></div>"
   ]
  },
  {
   "cell_type": "code",
   "execution_count": 55,
   "id": "8921e38d",
   "metadata": {},
   "outputs": [],
   "source": [
    "# Bibliotecas Basicas\n",
    "import numpy as np\n",
    "import pandas as pd\n",
    "from tabulate import tabulate\n",
    "\n",
    "## Bibliotecas para vizualização e estilização do notebook\n",
    "from IPython.display import HTML\n",
    "from plotly.offline import plot, iplot, init_notebook_mode\n",
    "import plotly as py\n",
    "from plotly import express as px\n",
    "import plotly.graph_objs as go\n",
    "import seaborn as sns\n",
    "from matplotlib import pyplot as plt\n",
    "%matplotlib inline\n",
    "\n",
    "# Bibliotecas para Preparação dos Dados\n",
    "from sklearn.preprocessing import MinMaxScaler\n",
    "from sklearn.ensemble import IsolationForest\n",
    "from sklearn.impute import KNNImputer\n",
    "from sklearn.decomposition import PCA\n",
    "from umap.umap_ import UMAP\n",
    "from sklearn.manifold import TSNE\n",
    "\n",
    "# Bibliotecas para o modelo Machine Learning\n",
    "from sklearn.cluster import KMeans, AgglomerativeClustering\n",
    "from sklearn.mixture import GaussianMixture\n",
    "from scipy.cluster import hierarchy\n",
    "from sklearn.metrics import silhouette_score, davies_bouldin_score\n",
    "from yellowbrick.cluster import KElbowVisualizer, SilhouetteVisualizer"
   ]
  },
  {
   "cell_type": "code",
   "execution_count": 56,
   "id": "0a27f634",
   "metadata": {},
   "outputs": [],
   "source": [
    "import warnings\n",
    "warnings.simplefilter(action='ignore', category=FutureWarning)\n",
    "\n",
    "RANDOM_SEED = 42\n",
    "np.random.seed(RANDOM_SEED)"
   ]
  },
  {
   "cell_type": "code",
   "execution_count": 57,
   "id": "1242a27a",
   "metadata": {},
   "outputs": [],
   "source": [
    "def jupyter_table_settings():\n",
    "    pd.set_option('display.expand_frame_repr', False )\n",
    "    pd.set_option('display.max_columns', 50)\n",
    "    pd.set_option('display.max_rows', 50)"
   ]
  },
  {
   "cell_type": "code",
   "execution_count": 58,
   "id": "1e75bfc9",
   "metadata": {},
   "outputs": [],
   "source": [
    "jupyter_table_settings()"
   ]
  },
  {
   "cell_type": "markdown",
   "id": "4bbcdb41",
   "metadata": {},
   "source": [
    "## <div style=\"color:white;display:fill;border-radius:5px;background-color:#153656;letter-spacing:0.5px;overflow:hidden\"><p style=\"padding:15px;color:white;overflow:hidden;text-align: center;margin:0;font-size:120%\">Carregamento</p></div>"
   ]
  },
  {
   "cell_type": "code",
   "execution_count": 59,
   "id": "1a722452",
   "metadata": {},
   "outputs": [
    {
     "data": {
      "text/plain": [
       "(8950, 18)"
      ]
     },
     "execution_count": 59,
     "metadata": {},
     "output_type": "execute_result"
    }
   ],
   "source": [
    "data_raw = pd.read_csv('../data/CC_GENERAL.csv', encoding='iso-8859-1')\n",
    "data_raw.shape"
   ]
  },
  {
   "cell_type": "code",
   "execution_count": 60,
   "id": "370daa46",
   "metadata": {},
   "outputs": [],
   "source": [
    "data = data_raw.copy()"
   ]
  },
  {
   "cell_type": "code",
   "execution_count": 61,
   "id": "8cb83726",
   "metadata": {},
   "outputs": [
    {
     "name": "stdout",
     "output_type": "stream",
     "text": [
      "<class 'pandas.core.frame.DataFrame'>\n",
      "RangeIndex: 8950 entries, 0 to 8949\n",
      "Data columns (total 18 columns):\n",
      " #   Column                            Non-Null Count  Dtype  \n",
      "---  ------                            --------------  -----  \n",
      " 0   CUST_ID                           8950 non-null   object \n",
      " 1   BALANCE                           8950 non-null   float64\n",
      " 2   BALANCE_FREQUENCY                 8950 non-null   float64\n",
      " 3   PURCHASES                         8950 non-null   float64\n",
      " 4   ONEOFF_PURCHASES                  8950 non-null   float64\n",
      " 5   INSTALLMENTS_PURCHASES            8950 non-null   float64\n",
      " 6   CASH_ADVANCE                      8950 non-null   float64\n",
      " 7   PURCHASES_FREQUENCY               8950 non-null   float64\n",
      " 8   ONEOFF_PURCHASES_FREQUENCY        8950 non-null   float64\n",
      " 9   PURCHASES_INSTALLMENTS_FREQUENCY  8950 non-null   float64\n",
      " 10  CASH_ADVANCE_FREQUENCY            8950 non-null   float64\n",
      " 11  CASH_ADVANCE_TRX                  8950 non-null   int64  \n",
      " 12  PURCHASES_TRX                     8950 non-null   int64  \n",
      " 13  CREDIT_LIMIT                      8949 non-null   float64\n",
      " 14  PAYMENTS                          8950 non-null   float64\n",
      " 15  MINIMUM_PAYMENTS                  8637 non-null   float64\n",
      " 16  PRC_FULL_PAYMENT                  8950 non-null   float64\n",
      " 17  TENURE                            8950 non-null   int64  \n",
      "dtypes: float64(14), int64(3), object(1)\n",
      "memory usage: 1.2+ MB\n"
     ]
    }
   ],
   "source": [
    "# A base de dados é relativamente pequena e os dados são todos numéricos com exessão do CUST_ID, isso é um facilitador\n",
    "# mais adiante no desenvolvimento do algoritimo de Machine Learning\n",
    "data.info()"
   ]
  },
  {
   "cell_type": "markdown",
   "id": "a2cee376",
   "metadata": {},
   "source": [
    "## <div style=\"color:white;display:fill;border-radius:5px;background-color:#153656;letter-spacing:0.5px;overflow:hidden\"><p style=\"padding:15px;color:white;overflow:hidden;text-align: center;margin:0;font-size:120%\">Glossário</p></div>"
   ]
  },
  {
   "cell_type": "code",
   "execution_count": 62,
   "id": "f6b7429e",
   "metadata": {},
   "outputs": [],
   "source": [
    "glossary_pt = [['Colunas', 'Significado'],\n",
    "              ['CUST_ID', 'Identificador único do cliente'],\n",
    "              ['BALANCE', 'Valor do saldo do cartão de crédito deixado na conta para fazer compras'],\n",
    "              ['BALANCE_FREQUENCY', 'Frequência com que o saldo é atualizado, pontuação entre 0 e 1 (1 = Alto, 0 = Baixo)'],\n",
    "              ['PURCHASES', 'Valor das compras feitas na conta'],\n",
    "              ['ONEOFF_PURCHASES', 'Valor máximo de compra feito de uma só vez'],\n",
    "              ['INSTALLMENTS_PURCHASES', 'Valor da compra parcelada'],\n",
    "              ['CASH_ADVANCE', 'Dinheiro adiantado dado pelo usuário'],\n",
    "              ['PURCHASES_FREQUENCY', 'Com que frequência as compras estão sendo feitas, pontuação entre 0 e 1 (1 = alta, 0 = baixa)'],\n",
    "              ['ONEOFF_PURCHASES_FREQUENCY', 'Com que frequência as compras acontecem de uma só vez (1 = Alta, 0 = Baixa)'],\n",
    "              ['PURCHASES_INSTALLMENTS_FREQUENCY', 'Com que frequência as compras parceladas estão sendo feitas (1 = Alta, 0 = Baixa)'],\n",
    "              ['CASH_ADVANCE_FREQUENCY', 'Com que frequência o adiantamento em dinheiro está sendo pago'],\n",
    "              ['CASH_ADVANCE_TRX', 'Número de transações feitas com \"Cash in Advanced\"'],\n",
    "              ['PURCHASES_TRX', 'Número de transações de compra feitas'],\n",
    "              ['CREDIT_LIMIT', 'Limite de Cartão de Crédito por usuário'],\n",
    "              ['PAYMENTS', 'Valor do pagamento feito pelo usuário'],\n",
    "              ['MINIMUM_PAYMENTS', 'Valor mínimo de pagamentos feitos pelo usuário'],\n",
    "              ['PRC_FULL_PAYMENT', 'Porcentagem do pagamento integral pago pelo usuário'],\n",
    "              ['TENURE', 'Prazo do serviço de cartão de crédito para o usuário']\n",
    "              ]\n",
    "#print(tabulate(glossary_pt, headers='firstrow', stralign='left', tablefmt='simple'))"
   ]
  },
  {
   "cell_type": "markdown",
   "id": "0c7b85f0",
   "metadata": {},
   "source": [
    "## <div style=\"color:white;display:fill;border-radius:5px;background-color:#153656;letter-spacing:0.5px;overflow:hidden\"><p style=\"padding:15px;color:white;overflow:hidden;text-align: center;margin:0;font-size:120%\">Dados Faltantes</p></div>"
   ]
  },
  {
   "cell_type": "code",
   "execution_count": 63,
   "id": "1e215dc1",
   "metadata": {},
   "outputs": [
    {
     "data": {
      "text/plain": [
       "CUST_ID                               0\n",
       "BALANCE                               0\n",
       "BALANCE_FREQUENCY                     0\n",
       "PURCHASES                             0\n",
       "ONEOFF_PURCHASES                      0\n",
       "INSTALLMENTS_PURCHASES                0\n",
       "CASH_ADVANCE                          0\n",
       "PURCHASES_FREQUENCY                   0\n",
       "ONEOFF_PURCHASES_FREQUENCY            0\n",
       "PURCHASES_INSTALLMENTS_FREQUENCY      0\n",
       "CASH_ADVANCE_FREQUENCY                0\n",
       "CASH_ADVANCE_TRX                      0\n",
       "PURCHASES_TRX                         0\n",
       "CREDIT_LIMIT                          1\n",
       "PAYMENTS                              0\n",
       "MINIMUM_PAYMENTS                    313\n",
       "PRC_FULL_PAYMENT                      0\n",
       "TENURE                                0\n",
       "dtype: int64"
      ]
     },
     "execution_count": 63,
     "metadata": {},
     "output_type": "execute_result"
    }
   ],
   "source": [
    "data.isna().sum()"
   ]
  },
  {
   "cell_type": "code",
   "execution_count": 64,
   "id": "e41f701a",
   "metadata": {},
   "outputs": [],
   "source": [
    "X_knn = data.drop(['CUST_ID'], axis=1)\n",
    "numerical_features = X_knn.select_dtypes(include = ['int64','float64']).columns.values"
   ]
  },
  {
   "cell_type": "code",
   "execution_count": 65,
   "id": "34ae4c62",
   "metadata": {},
   "outputs": [
    {
     "data": {
      "text/plain": [
       "CUST_ID                                 C19187\n",
       "BALANCE                              19.183215\n",
       "BALANCE_FREQUENCY                          1.0\n",
       "PURCHASES                                300.0\n",
       "ONEOFF_PURCHASES                           0.0\n",
       "INSTALLMENTS_PURCHASES                   300.0\n",
       "CASH_ADVANCE                               0.0\n",
       "PURCHASES_FREQUENCY                        1.0\n",
       "ONEOFF_PURCHASES_FREQUENCY                 0.0\n",
       "PURCHASES_INSTALLMENTS_FREQUENCY      0.833333\n",
       "CASH_ADVANCE_FREQUENCY                     0.0\n",
       "CASH_ADVANCE_TRX                             0\n",
       "PURCHASES_TRX                                6\n",
       "CREDIT_LIMIT                            1000.0\n",
       "PAYMENTS                            275.861322\n",
       "MINIMUM_PAYMENTS                           NaN\n",
       "PRC_FULL_PAYMENT                           0.0\n",
       "TENURE                                       6\n",
       "Name: 8946, dtype: object"
      ]
     },
     "execution_count": 65,
     "metadata": {},
     "output_type": "execute_result"
    }
   ],
   "source": [
    "#Exemplo de linha com dados faltantes\n",
    "data.iloc[8946]"
   ]
  },
  {
   "cell_type": "code",
   "execution_count": 66,
   "id": "7779f75d",
   "metadata": {},
   "outputs": [],
   "source": [
    "num_imputer = KNNImputer()\n",
    "num_imputer.fit(X_knn[numerical_features])\n",
    "X_knn[numerical_features] = num_imputer.transform(X_knn[numerical_features])"
   ]
  },
  {
   "cell_type": "code",
   "execution_count": 67,
   "id": "804ebce5",
   "metadata": {},
   "outputs": [
    {
     "data": {
      "text/plain": [
       "BALANCE                               19.183215\n",
       "BALANCE_FREQUENCY                      1.000000\n",
       "PURCHASES                            300.000000\n",
       "ONEOFF_PURCHASES                       0.000000\n",
       "INSTALLMENTS_PURCHASES               300.000000\n",
       "CASH_ADVANCE                           0.000000\n",
       "PURCHASES_FREQUENCY                    1.000000\n",
       "ONEOFF_PURCHASES_FREQUENCY             0.000000\n",
       "PURCHASES_INSTALLMENTS_FREQUENCY       0.833333\n",
       "CASH_ADVANCE_FREQUENCY                 0.000000\n",
       "CASH_ADVANCE_TRX                       0.000000\n",
       "PURCHASES_TRX                          6.000000\n",
       "CREDIT_LIMIT                        1000.000000\n",
       "PAYMENTS                             275.861322\n",
       "MINIMUM_PAYMENTS                     156.060050\n",
       "PRC_FULL_PAYMENT                       0.000000\n",
       "TENURE                                 6.000000\n",
       "Name: 8946, dtype: float64"
      ]
     },
     "execution_count": 67,
     "metadata": {},
     "output_type": "execute_result"
    }
   ],
   "source": [
    "# MINIMUM_PAYMENTS para o cliente C19187 encontrado pelo KNN foi 156.06\n",
    "X_knn.loc[8946]"
   ]
  },
  {
   "cell_type": "code",
   "execution_count": 68,
   "id": "12975444",
   "metadata": {},
   "outputs": [
    {
     "data": {
      "text/plain": [
       "(8950, 18)"
      ]
     },
     "execution_count": 68,
     "metadata": {},
     "output_type": "execute_result"
    }
   ],
   "source": [
    "data_new = pd.concat([data[['CUST_ID']], X_knn],axis=1)\n",
    "data_new.shape"
   ]
  },
  {
   "cell_type": "code",
   "execution_count": 69,
   "id": "3a50d1d8",
   "metadata": {},
   "outputs": [
    {
     "data": {
      "text/plain": [
       "0"
      ]
     },
     "execution_count": 69,
     "metadata": {},
     "output_type": "execute_result"
    }
   ],
   "source": [
    "data_new.duplicated().sum()"
   ]
  },
  {
   "cell_type": "markdown",
   "id": "8f7f03b3",
   "metadata": {},
   "source": [
    "## <div style=\"color:white;display:fill;border-radius:5px;background-color:#153656;letter-spacing:0.5px;overflow:hidden\"><p style=\"padding:15px;color:white;overflow:hidden;text-align: center;margin:0;font-size:120%\">Engenharia de Dados</p></div>"
   ]
  },
  {
   "cell_type": "code",
   "execution_count": 51,
   "id": "7b88d84f",
   "metadata": {},
   "outputs": [],
   "source": [
    "data_new['PROFIT'] = (data_new.PAYMENTS - data_new.PURCHASES) #CASH_ADVANCE como calcular o pagamento?\n",
    "data_new['LIMIT_EXCEED'] = data_new.apply(lambda x: 1 if (x.PURCHASES > x.CREDIT_LIMIT) else 0, axis=1)"
   ]
  }
 ],
 "metadata": {
  "hide_input": false,
  "kernelspec": {
   "display_name": "Python 3 (ipykernel)",
   "language": "python",
   "name": "python3"
  },
  "language_info": {
   "codemirror_mode": {
    "name": "ipython",
    "version": 3
   },
   "file_extension": ".py",
   "mimetype": "text/x-python",
   "name": "python",
   "nbconvert_exporter": "python",
   "pygments_lexer": "ipython3",
   "version": "3.9.7"
  },
  "latex_envs": {
   "LaTeX_envs_menu_present": true,
   "autoclose": false,
   "autocomplete": true,
   "bibliofile": "biblio.bib",
   "cite_by": "apalike",
   "current_citInitial": 1,
   "eqLabelWithNumbers": true,
   "eqNumInitial": 1,
   "hotkeys": {
    "equation": "Ctrl-E",
    "itemize": "Ctrl-I"
   },
   "labels_anchors": false,
   "latex_user_defs": false,
   "report_style_numbering": false,
   "user_envs_cfg": false
  }
 },
 "nbformat": 4,
 "nbformat_minor": 5
}
